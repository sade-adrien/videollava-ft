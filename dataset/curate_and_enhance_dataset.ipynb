{
 "cells": [
  {
   "cell_type": "code",
   "execution_count": 1,
   "metadata": {},
   "outputs": [
    {
     "name": "stdout",
     "output_type": "stream",
     "text": [
      "[2024-03-05 11:58:50,525] [INFO] [real_accelerator.py:161:get_accelerator] Setting ds_accelerator to cuda (auto detect)\n"
     ]
    }
   ],
   "source": [
    "from llava.mm_utils import get_model_name_from_path, tokenizer_image_token\n",
    "from llava.model.builder import load_pretrained_model\n",
    "from llava.constants import IMAGE_TOKEN_INDEX\n",
    "from llava.eval.run_llava import eval_model\n",
    "from PIL import Image\n",
    "from tqdm import tqdm\n",
    "import numpy as np\n",
    "import imageio\n",
    "import torch\n",
    "import json"
   ]
  },
  {
   "cell_type": "code",
   "execution_count": 2,
   "metadata": {},
   "outputs": [],
   "source": [
    "file_path = \"./youcookii_annotations_test.json\"\n",
    "\n",
    "with open(file_path, 'r') as file:\n",
    "    data = json.load(file)['database']\n",
    "long_data = {key: value for key, value in data.items() if len(value['annotations']) >= 5}"
   ]
  },
  {
   "cell_type": "code",
   "execution_count": 3,
   "metadata": {},
   "outputs": [
    {
     "name": "stderr",
     "output_type": "stream",
     "text": [
      "You are using a model of type llava to instantiate a model of type llava_llama. This is not supported for all configurations of models and can yield errors.\n",
      "/home/et/miniconda3/envs/llava_next/lib/python3.11/site-packages/torch/_utils.py:831: UserWarning: TypedStorage is deprecated. It will be removed in the future and UntypedStorage will be the only storage class. This should only matter to you if you are using storages directly.  To access UntypedStorage directly, use tensor.untyped_storage() instead of tensor.storage()\n",
      "  return self.fget.__get__(instance, owner)()\n",
      "/home/et/miniconda3/envs/llava_next/lib/python3.11/site-packages/torch/nn/modules/module.py:2025: UserWarning: for vision_model.embeddings.class_embedding: copying from a non-meta parameter in the checkpoint to a meta parameter in the current model, which is a no-op. (Did you mean to pass `assign=True` to assign items in the state dictionary to their corresponding key in the module instead of copying them in place?)\n",
      "  warnings.warn(f'for {key}: copying from a non-meta parameter in the checkpoint to a meta '\n",
      "/home/et/miniconda3/envs/llava_next/lib/python3.11/site-packages/torch/nn/modules/module.py:2025: UserWarning: for vision_model.embeddings.patch_embedding.weight: copying from a non-meta parameter in the checkpoint to a meta parameter in the current model, which is a no-op. (Did you mean to pass `assign=True` to assign items in the state dictionary to their corresponding key in the module instead of copying them in place?)\n",
      "  warnings.warn(f'for {key}: copying from a non-meta parameter in the checkpoint to a meta '\n",
      "/home/et/miniconda3/envs/llava_next/lib/python3.11/site-packages/torch/nn/modules/module.py:2025: UserWarning: for vision_model.embeddings.position_embedding.weight: copying from a non-meta parameter in the checkpoint to a meta parameter in the current model, which is a no-op. (Did you mean to pass `assign=True` to assign items in the state dictionary to their corresponding key in the module instead of copying them in place?)\n",
      "  warnings.warn(f'for {key}: copying from a non-meta parameter in the checkpoint to a meta '\n",
      "/home/et/miniconda3/envs/llava_next/lib/python3.11/site-packages/torch/nn/modules/module.py:2025: UserWarning: for vision_model.pre_layrnorm.weight: copying from a non-meta parameter in the checkpoint to a meta parameter in the current model, which is a no-op. (Did you mean to pass `assign=True` to assign items in the state dictionary to their corresponding key in the module instead of copying them in place?)\n",
      "  warnings.warn(f'for {key}: copying from a non-meta parameter in the checkpoint to a meta '\n",
      "/home/et/miniconda3/envs/llava_next/lib/python3.11/site-packages/torch/nn/modules/module.py:2025: UserWarning: for vision_model.pre_layrnorm.bias: copying from a non-meta parameter in the checkpoint to a meta parameter in the current model, which is a no-op. (Did you mean to pass `assign=True` to assign items in the state dictionary to their corresponding key in the module instead of copying them in place?)\n",
      "  warnings.warn(f'for {key}: copying from a non-meta parameter in the checkpoint to a meta '\n",
      "/home/et/miniconda3/envs/llava_next/lib/python3.11/site-packages/torch/nn/modules/module.py:2025: UserWarning: for vision_model.encoder.layers.0.self_attn.k_proj.weight: copying from a non-meta parameter in the checkpoint to a meta parameter in the current model, which is a no-op. (Did you mean to pass `assign=True` to assign items in the state dictionary to their corresponding key in the module instead of copying them in place?)\n",
      "  warnings.warn(f'for {key}: copying from a non-meta parameter in the checkpoint to a meta '\n",
      "/home/et/miniconda3/envs/llava_next/lib/python3.11/site-packages/torch/nn/modules/module.py:2025: UserWarning: for vision_model.encoder.layers.0.self_attn.k_proj.bias: copying from a non-meta parameter in the checkpoint to a meta parameter in the current model, which is a no-op. (Did you mean to pass `assign=True` to assign items in the state dictionary to their corresponding key in the module instead of copying them in place?)\n",
      "  warnings.warn(f'for {key}: copying from a non-meta parameter in the checkpoint to a meta '\n",
      "/home/et/miniconda3/envs/llava_next/lib/python3.11/site-packages/torch/nn/modules/module.py:2025: UserWarning: for vision_model.encoder.layers.0.self_attn.v_proj.weight: copying from a non-meta parameter in the checkpoint to a meta parameter in the current model, which is a no-op. (Did you mean to pass `assign=True` to assign items in the state dictionary to their corresponding key in the module instead of copying them in place?)\n",
      "  warnings.warn(f'for {key}: copying from a non-meta parameter in the checkpoint to a meta '\n",
      "/home/et/miniconda3/envs/llava_next/lib/python3.11/site-packages/torch/nn/modules/module.py:2025: UserWarning: for vision_model.encoder.layers.0.self_attn.v_proj.bias: copying from a non-meta parameter in the checkpoint to a meta parameter in the current model, which is a no-op. (Did you mean to pass `assign=True` to assign items in the state dictionary to their corresponding key in the module instead of copying them in place?)\n",
      "  warnings.warn(f'for {key}: copying from a non-meta parameter in the checkpoint to a meta '\n",
      "/home/et/miniconda3/envs/llava_next/lib/python3.11/site-packages/torch/nn/modules/module.py:2025: UserWarning: for vision_model.encoder.layers.0.self_attn.q_proj.weight: copying from a non-meta parameter in the checkpoint to a meta parameter in the current model, which is a no-op. (Did you mean to pass `assign=True` to assign items in the state dictionary to their corresponding key in the module instead of copying them in place?)\n",
      "  warnings.warn(f'for {key}: copying from a non-meta parameter in the checkpoint to a meta '\n",
      "/home/et/miniconda3/envs/llava_next/lib/python3.11/site-packages/torch/nn/modules/module.py:2025: UserWarning: for vision_model.encoder.layers.0.self_attn.q_proj.bias: copying from a non-meta parameter in the checkpoint to a meta parameter in the current model, which is a no-op. (Did you mean to pass `assign=True` to assign items in the state dictionary to their corresponding key in the module instead of copying them in place?)\n",
      "  warnings.warn(f'for {key}: copying from a non-meta parameter in the checkpoint to a meta '\n",
      "/home/et/miniconda3/envs/llava_next/lib/python3.11/site-packages/torch/nn/modules/module.py:2025: UserWarning: for vision_model.encoder.layers.0.self_attn.out_proj.weight: copying from a non-meta parameter in the checkpoint to a meta parameter in the current model, which is a no-op. (Did you mean to pass `assign=True` to assign items in the state dictionary to their corresponding key in the module instead of copying them in place?)\n",
      "  warnings.warn(f'for {key}: copying from a non-meta parameter in the checkpoint to a meta '\n",
      "/home/et/miniconda3/envs/llava_next/lib/python3.11/site-packages/torch/nn/modules/module.py:2025: UserWarning: for vision_model.encoder.layers.0.self_attn.out_proj.bias: copying from a non-meta parameter in the checkpoint to a meta parameter in the current model, which is a no-op. (Did you mean to pass `assign=True` to assign items in the state dictionary to their corresponding key in the module instead of copying them in place?)\n",
      "  warnings.warn(f'for {key}: copying from a non-meta parameter in the checkpoint to a meta '\n",
      "/home/et/miniconda3/envs/llava_next/lib/python3.11/site-packages/torch/nn/modules/module.py:2025: UserWarning: for vision_model.encoder.layers.0.layer_norm1.weight: copying from a non-meta parameter in the checkpoint to a meta parameter in the current model, which is a no-op. (Did you mean to pass `assign=True` to assign items in the state dictionary to their corresponding key in the module instead of copying them in place?)\n",
      "  warnings.warn(f'for {key}: copying from a non-meta parameter in the checkpoint to a meta '\n",
      "/home/et/miniconda3/envs/llava_next/lib/python3.11/site-packages/torch/nn/modules/module.py:2025: UserWarning: for vision_model.encoder.layers.0.layer_norm1.bias: copying from a non-meta parameter in the checkpoint to a meta parameter in the current model, which is a no-op. (Did you mean to pass `assign=True` to assign items in the state dictionary to their corresponding key in the module instead of copying them in place?)\n",
      "  warnings.warn(f'for {key}: copying from a non-meta parameter in the checkpoint to a meta '\n",
      "/home/et/miniconda3/envs/llava_next/lib/python3.11/site-packages/torch/nn/modules/module.py:2025: UserWarning: for vision_model.encoder.layers.0.mlp.fc1.weight: copying from a non-meta parameter in the checkpoint to a meta parameter in the current model, which is a no-op. (Did you mean to pass `assign=True` to assign items in the state dictionary to their corresponding key in the module instead of copying them in place?)\n",
      "  warnings.warn(f'for {key}: copying from a non-meta parameter in the checkpoint to a meta '\n",
      "/home/et/miniconda3/envs/llava_next/lib/python3.11/site-packages/torch/nn/modules/module.py:2025: UserWarning: for vision_model.encoder.layers.0.mlp.fc1.bias: copying from a non-meta parameter in the checkpoint to a meta parameter in the current model, which is a no-op. (Did you mean to pass `assign=True` to assign items in the state dictionary to their corresponding key in the module instead of copying them in place?)\n",
      "  warnings.warn(f'for {key}: copying from a non-meta parameter in the checkpoint to a meta '\n",
      "/home/et/miniconda3/envs/llava_next/lib/python3.11/site-packages/torch/nn/modules/module.py:2025: UserWarning: for vision_model.encoder.layers.0.mlp.fc2.weight: copying from a non-meta parameter in the checkpoint to a meta parameter in the current model, which is a no-op. (Did you mean to pass `assign=True` to assign items in the state dictionary to their corresponding key in the module instead of copying them in place?)\n",
      "  warnings.warn(f'for {key}: copying from a non-meta parameter in the checkpoint to a meta '\n",
      "/home/et/miniconda3/envs/llava_next/lib/python3.11/site-packages/torch/nn/modules/module.py:2025: UserWarning: for vision_model.encoder.layers.0.mlp.fc2.bias: copying from a non-meta parameter in the checkpoint to a meta parameter in the current model, which is a no-op. (Did you mean to pass `assign=True` to assign items in the state dictionary to their corresponding key in the module instead of copying them in place?)\n",
      "  warnings.warn(f'for {key}: copying from a non-meta parameter in the checkpoint to a meta '\n",
      "/home/et/miniconda3/envs/llava_next/lib/python3.11/site-packages/torch/nn/modules/module.py:2025: UserWarning: for vision_model.encoder.layers.0.layer_norm2.weight: copying from a non-meta parameter in the checkpoint to a meta parameter in the current model, which is a no-op. (Did you mean to pass `assign=True` to assign items in the state dictionary to their corresponding key in the module instead of copying them in place?)\n",
      "  warnings.warn(f'for {key}: copying from a non-meta parameter in the checkpoint to a meta '\n",
      "/home/et/miniconda3/envs/llava_next/lib/python3.11/site-packages/torch/nn/modules/module.py:2025: UserWarning: for vision_model.encoder.layers.0.layer_norm2.bias: copying from a non-meta parameter in the checkpoint to a meta parameter in the current model, which is a no-op. (Did you mean to pass `assign=True` to assign items in the state dictionary to their corresponding key in the module instead of copying them in place?)\n",
      "  warnings.warn(f'for {key}: copying from a non-meta parameter in the checkpoint to a meta '\n",
      "/home/et/miniconda3/envs/llava_next/lib/python3.11/site-packages/torch/nn/modules/module.py:2025: UserWarning: for vision_model.encoder.layers.1.self_attn.k_proj.weight: copying from a non-meta parameter in the checkpoint to a meta parameter in the current model, which is a no-op. (Did you mean to pass `assign=True` to assign items in the state dictionary to their corresponding key in the module instead of copying them in place?)\n",
      "  warnings.warn(f'for {key}: copying from a non-meta parameter in the checkpoint to a meta '\n",
      "/home/et/miniconda3/envs/llava_next/lib/python3.11/site-packages/torch/nn/modules/module.py:2025: UserWarning: for vision_model.encoder.layers.1.self_attn.k_proj.bias: copying from a non-meta parameter in the checkpoint to a meta parameter in the current model, which is a no-op. (Did you mean to pass `assign=True` to assign items in the state dictionary to their corresponding key in the module instead of copying them in place?)\n",
      "  warnings.warn(f'for {key}: copying from a non-meta parameter in the checkpoint to a meta '\n",
      "/home/et/miniconda3/envs/llava_next/lib/python3.11/site-packages/torch/nn/modules/module.py:2025: UserWarning: for vision_model.encoder.layers.1.self_attn.v_proj.weight: copying from a non-meta parameter in the checkpoint to a meta parameter in the current model, which is a no-op. (Did you mean to pass `assign=True` to assign items in the state dictionary to their corresponding key in the module instead of copying them in place?)\n",
      "  warnings.warn(f'for {key}: copying from a non-meta parameter in the checkpoint to a meta '\n",
      "/home/et/miniconda3/envs/llava_next/lib/python3.11/site-packages/torch/nn/modules/module.py:2025: UserWarning: for vision_model.encoder.layers.1.self_attn.v_proj.bias: copying from a non-meta parameter in the checkpoint to a meta parameter in the current model, which is a no-op. (Did you mean to pass `assign=True` to assign items in the state dictionary to their corresponding key in the module instead of copying them in place?)\n",
      "  warnings.warn(f'for {key}: copying from a non-meta parameter in the checkpoint to a meta '\n",
      "/home/et/miniconda3/envs/llava_next/lib/python3.11/site-packages/torch/nn/modules/module.py:2025: UserWarning: for vision_model.encoder.layers.1.self_attn.q_proj.weight: copying from a non-meta parameter in the checkpoint to a meta parameter in the current model, which is a no-op. (Did you mean to pass `assign=True` to assign items in the state dictionary to their corresponding key in the module instead of copying them in place?)\n",
      "  warnings.warn(f'for {key}: copying from a non-meta parameter in the checkpoint to a meta '\n",
      "/home/et/miniconda3/envs/llava_next/lib/python3.11/site-packages/torch/nn/modules/module.py:2025: UserWarning: for vision_model.encoder.layers.1.self_attn.q_proj.bias: copying from a non-meta parameter in the checkpoint to a meta parameter in the current model, which is a no-op. (Did you mean to pass `assign=True` to assign items in the state dictionary to their corresponding key in the module instead of copying them in place?)\n",
      "  warnings.warn(f'for {key}: copying from a non-meta parameter in the checkpoint to a meta '\n",
      "/home/et/miniconda3/envs/llava_next/lib/python3.11/site-packages/torch/nn/modules/module.py:2025: UserWarning: for vision_model.encoder.layers.1.self_attn.out_proj.weight: copying from a non-meta parameter in the checkpoint to a meta parameter in the current model, which is a no-op. (Did you mean to pass `assign=True` to assign items in the state dictionary to their corresponding key in the module instead of copying them in place?)\n",
      "  warnings.warn(f'for {key}: copying from a non-meta parameter in the checkpoint to a meta '\n",
      "/home/et/miniconda3/envs/llava_next/lib/python3.11/site-packages/torch/nn/modules/module.py:2025: UserWarning: for vision_model.encoder.layers.1.self_attn.out_proj.bias: copying from a non-meta parameter in the checkpoint to a meta parameter in the current model, which is a no-op. (Did you mean to pass `assign=True` to assign items in the state dictionary to their corresponding key in the module instead of copying them in place?)\n",
      "  warnings.warn(f'for {key}: copying from a non-meta parameter in the checkpoint to a meta '\n",
      "/home/et/miniconda3/envs/llava_next/lib/python3.11/site-packages/torch/nn/modules/module.py:2025: UserWarning: for vision_model.encoder.layers.1.layer_norm1.weight: copying from a non-meta parameter in the checkpoint to a meta parameter in the current model, which is a no-op. (Did you mean to pass `assign=True` to assign items in the state dictionary to their corresponding key in the module instead of copying them in place?)\n",
      "  warnings.warn(f'for {key}: copying from a non-meta parameter in the checkpoint to a meta '\n",
      "/home/et/miniconda3/envs/llava_next/lib/python3.11/site-packages/torch/nn/modules/module.py:2025: UserWarning: for vision_model.encoder.layers.1.layer_norm1.bias: copying from a non-meta parameter in the checkpoint to a meta parameter in the current model, which is a no-op. (Did you mean to pass `assign=True` to assign items in the state dictionary to their corresponding key in the module instead of copying them in place?)\n",
      "  warnings.warn(f'for {key}: copying from a non-meta parameter in the checkpoint to a meta '\n",
      "/home/et/miniconda3/envs/llava_next/lib/python3.11/site-packages/torch/nn/modules/module.py:2025: UserWarning: for vision_model.encoder.layers.1.mlp.fc1.weight: copying from a non-meta parameter in the checkpoint to a meta parameter in the current model, which is a no-op. (Did you mean to pass `assign=True` to assign items in the state dictionary to their corresponding key in the module instead of copying them in place?)\n",
      "  warnings.warn(f'for {key}: copying from a non-meta parameter in the checkpoint to a meta '\n",
      "/home/et/miniconda3/envs/llava_next/lib/python3.11/site-packages/torch/nn/modules/module.py:2025: UserWarning: for vision_model.encoder.layers.1.mlp.fc1.bias: copying from a non-meta parameter in the checkpoint to a meta parameter in the current model, which is a no-op. (Did you mean to pass `assign=True` to assign items in the state dictionary to their corresponding key in the module instead of copying them in place?)\n",
      "  warnings.warn(f'for {key}: copying from a non-meta parameter in the checkpoint to a meta '\n",
      "/home/et/miniconda3/envs/llava_next/lib/python3.11/site-packages/torch/nn/modules/module.py:2025: UserWarning: for vision_model.encoder.layers.1.mlp.fc2.weight: copying from a non-meta parameter in the checkpoint to a meta parameter in the current model, which is a no-op. (Did you mean to pass `assign=True` to assign items in the state dictionary to their corresponding key in the module instead of copying them in place?)\n",
      "  warnings.warn(f'for {key}: copying from a non-meta parameter in the checkpoint to a meta '\n",
      "/home/et/miniconda3/envs/llava_next/lib/python3.11/site-packages/torch/nn/modules/module.py:2025: UserWarning: for vision_model.encoder.layers.1.mlp.fc2.bias: copying from a non-meta parameter in the checkpoint to a meta parameter in the current model, which is a no-op. (Did you mean to pass `assign=True` to assign items in the state dictionary to their corresponding key in the module instead of copying them in place?)\n",
      "  warnings.warn(f'for {key}: copying from a non-meta parameter in the checkpoint to a meta '\n",
      "/home/et/miniconda3/envs/llava_next/lib/python3.11/site-packages/torch/nn/modules/module.py:2025: UserWarning: for vision_model.encoder.layers.1.layer_norm2.weight: copying from a non-meta parameter in the checkpoint to a meta parameter in the current model, which is a no-op. (Did you mean to pass `assign=True` to assign items in the state dictionary to their corresponding key in the module instead of copying them in place?)\n",
      "  warnings.warn(f'for {key}: copying from a non-meta parameter in the checkpoint to a meta '\n",
      "/home/et/miniconda3/envs/llava_next/lib/python3.11/site-packages/torch/nn/modules/module.py:2025: UserWarning: for vision_model.encoder.layers.1.layer_norm2.bias: copying from a non-meta parameter in the checkpoint to a meta parameter in the current model, which is a no-op. (Did you mean to pass `assign=True` to assign items in the state dictionary to their corresponding key in the module instead of copying them in place?)\n",
      "  warnings.warn(f'for {key}: copying from a non-meta parameter in the checkpoint to a meta '\n",
      "/home/et/miniconda3/envs/llava_next/lib/python3.11/site-packages/torch/nn/modules/module.py:2025: UserWarning: for vision_model.encoder.layers.2.self_attn.k_proj.weight: copying from a non-meta parameter in the checkpoint to a meta parameter in the current model, which is a no-op. (Did you mean to pass `assign=True` to assign items in the state dictionary to their corresponding key in the module instead of copying them in place?)\n",
      "  warnings.warn(f'for {key}: copying from a non-meta parameter in the checkpoint to a meta '\n",
      "/home/et/miniconda3/envs/llava_next/lib/python3.11/site-packages/torch/nn/modules/module.py:2025: UserWarning: for vision_model.encoder.layers.2.self_attn.k_proj.bias: copying from a non-meta parameter in the checkpoint to a meta parameter in the current model, which is a no-op. (Did you mean to pass `assign=True` to assign items in the state dictionary to their corresponding key in the module instead of copying them in place?)\n",
      "  warnings.warn(f'for {key}: copying from a non-meta parameter in the checkpoint to a meta '\n",
      "/home/et/miniconda3/envs/llava_next/lib/python3.11/site-packages/torch/nn/modules/module.py:2025: UserWarning: for vision_model.encoder.layers.2.self_attn.v_proj.weight: copying from a non-meta parameter in the checkpoint to a meta parameter in the current model, which is a no-op. (Did you mean to pass `assign=True` to assign items in the state dictionary to their corresponding key in the module instead of copying them in place?)\n",
      "  warnings.warn(f'for {key}: copying from a non-meta parameter in the checkpoint to a meta '\n",
      "/home/et/miniconda3/envs/llava_next/lib/python3.11/site-packages/torch/nn/modules/module.py:2025: UserWarning: for vision_model.encoder.layers.2.self_attn.v_proj.bias: copying from a non-meta parameter in the checkpoint to a meta parameter in the current model, which is a no-op. (Did you mean to pass `assign=True` to assign items in the state dictionary to their corresponding key in the module instead of copying them in place?)\n",
      "  warnings.warn(f'for {key}: copying from a non-meta parameter in the checkpoint to a meta '\n",
      "/home/et/miniconda3/envs/llava_next/lib/python3.11/site-packages/torch/nn/modules/module.py:2025: UserWarning: for vision_model.encoder.layers.2.self_attn.q_proj.weight: copying from a non-meta parameter in the checkpoint to a meta parameter in the current model, which is a no-op. (Did you mean to pass `assign=True` to assign items in the state dictionary to their corresponding key in the module instead of copying them in place?)\n",
      "  warnings.warn(f'for {key}: copying from a non-meta parameter in the checkpoint to a meta '\n",
      "/home/et/miniconda3/envs/llava_next/lib/python3.11/site-packages/torch/nn/modules/module.py:2025: UserWarning: for vision_model.encoder.layers.2.self_attn.q_proj.bias: copying from a non-meta parameter in the checkpoint to a meta parameter in the current model, which is a no-op. (Did you mean to pass `assign=True` to assign items in the state dictionary to their corresponding key in the module instead of copying them in place?)\n",
      "  warnings.warn(f'for {key}: copying from a non-meta parameter in the checkpoint to a meta '\n",
      "/home/et/miniconda3/envs/llava_next/lib/python3.11/site-packages/torch/nn/modules/module.py:2025: UserWarning: for vision_model.encoder.layers.2.self_attn.out_proj.weight: copying from a non-meta parameter in the checkpoint to a meta parameter in the current model, which is a no-op. (Did you mean to pass `assign=True` to assign items in the state dictionary to their corresponding key in the module instead of copying them in place?)\n",
      "  warnings.warn(f'for {key}: copying from a non-meta parameter in the checkpoint to a meta '\n",
      "/home/et/miniconda3/envs/llava_next/lib/python3.11/site-packages/torch/nn/modules/module.py:2025: UserWarning: for vision_model.encoder.layers.2.self_attn.out_proj.bias: copying from a non-meta parameter in the checkpoint to a meta parameter in the current model, which is a no-op. (Did you mean to pass `assign=True` to assign items in the state dictionary to their corresponding key in the module instead of copying them in place?)\n",
      "  warnings.warn(f'for {key}: copying from a non-meta parameter in the checkpoint to a meta '\n",
      "/home/et/miniconda3/envs/llava_next/lib/python3.11/site-packages/torch/nn/modules/module.py:2025: UserWarning: for vision_model.encoder.layers.2.layer_norm1.weight: copying from a non-meta parameter in the checkpoint to a meta parameter in the current model, which is a no-op. (Did you mean to pass `assign=True` to assign items in the state dictionary to their corresponding key in the module instead of copying them in place?)\n",
      "  warnings.warn(f'for {key}: copying from a non-meta parameter in the checkpoint to a meta '\n",
      "/home/et/miniconda3/envs/llava_next/lib/python3.11/site-packages/torch/nn/modules/module.py:2025: UserWarning: for vision_model.encoder.layers.2.layer_norm1.bias: copying from a non-meta parameter in the checkpoint to a meta parameter in the current model, which is a no-op. (Did you mean to pass `assign=True` to assign items in the state dictionary to their corresponding key in the module instead of copying them in place?)\n",
      "  warnings.warn(f'for {key}: copying from a non-meta parameter in the checkpoint to a meta '\n",
      "/home/et/miniconda3/envs/llava_next/lib/python3.11/site-packages/torch/nn/modules/module.py:2025: UserWarning: for vision_model.encoder.layers.2.mlp.fc1.weight: copying from a non-meta parameter in the checkpoint to a meta parameter in the current model, which is a no-op. (Did you mean to pass `assign=True` to assign items in the state dictionary to their corresponding key in the module instead of copying them in place?)\n",
      "  warnings.warn(f'for {key}: copying from a non-meta parameter in the checkpoint to a meta '\n",
      "/home/et/miniconda3/envs/llava_next/lib/python3.11/site-packages/torch/nn/modules/module.py:2025: UserWarning: for vision_model.encoder.layers.2.mlp.fc1.bias: copying from a non-meta parameter in the checkpoint to a meta parameter in the current model, which is a no-op. (Did you mean to pass `assign=True` to assign items in the state dictionary to their corresponding key in the module instead of copying them in place?)\n",
      "  warnings.warn(f'for {key}: copying from a non-meta parameter in the checkpoint to a meta '\n",
      "/home/et/miniconda3/envs/llava_next/lib/python3.11/site-packages/torch/nn/modules/module.py:2025: UserWarning: for vision_model.encoder.layers.2.mlp.fc2.weight: copying from a non-meta parameter in the checkpoint to a meta parameter in the current model, which is a no-op. (Did you mean to pass `assign=True` to assign items in the state dictionary to their corresponding key in the module instead of copying them in place?)\n",
      "  warnings.warn(f'for {key}: copying from a non-meta parameter in the checkpoint to a meta '\n",
      "/home/et/miniconda3/envs/llava_next/lib/python3.11/site-packages/torch/nn/modules/module.py:2025: UserWarning: for vision_model.encoder.layers.2.mlp.fc2.bias: copying from a non-meta parameter in the checkpoint to a meta parameter in the current model, which is a no-op. (Did you mean to pass `assign=True` to assign items in the state dictionary to their corresponding key in the module instead of copying them in place?)\n",
      "  warnings.warn(f'for {key}: copying from a non-meta parameter in the checkpoint to a meta '\n",
      "/home/et/miniconda3/envs/llava_next/lib/python3.11/site-packages/torch/nn/modules/module.py:2025: UserWarning: for vision_model.encoder.layers.2.layer_norm2.weight: copying from a non-meta parameter in the checkpoint to a meta parameter in the current model, which is a no-op. (Did you mean to pass `assign=True` to assign items in the state dictionary to their corresponding key in the module instead of copying them in place?)\n",
      "  warnings.warn(f'for {key}: copying from a non-meta parameter in the checkpoint to a meta '\n",
      "/home/et/miniconda3/envs/llava_next/lib/python3.11/site-packages/torch/nn/modules/module.py:2025: UserWarning: for vision_model.encoder.layers.2.layer_norm2.bias: copying from a non-meta parameter in the checkpoint to a meta parameter in the current model, which is a no-op. (Did you mean to pass `assign=True` to assign items in the state dictionary to their corresponding key in the module instead of copying them in place?)\n",
      "  warnings.warn(f'for {key}: copying from a non-meta parameter in the checkpoint to a meta '\n",
      "/home/et/miniconda3/envs/llava_next/lib/python3.11/site-packages/torch/nn/modules/module.py:2025: UserWarning: for vision_model.encoder.layers.3.self_attn.k_proj.weight: copying from a non-meta parameter in the checkpoint to a meta parameter in the current model, which is a no-op. (Did you mean to pass `assign=True` to assign items in the state dictionary to their corresponding key in the module instead of copying them in place?)\n",
      "  warnings.warn(f'for {key}: copying from a non-meta parameter in the checkpoint to a meta '\n",
      "/home/et/miniconda3/envs/llava_next/lib/python3.11/site-packages/torch/nn/modules/module.py:2025: UserWarning: for vision_model.encoder.layers.3.self_attn.k_proj.bias: copying from a non-meta parameter in the checkpoint to a meta parameter in the current model, which is a no-op. (Did you mean to pass `assign=True` to assign items in the state dictionary to their corresponding key in the module instead of copying them in place?)\n",
      "  warnings.warn(f'for {key}: copying from a non-meta parameter in the checkpoint to a meta '\n",
      "/home/et/miniconda3/envs/llava_next/lib/python3.11/site-packages/torch/nn/modules/module.py:2025: UserWarning: for vision_model.encoder.layers.3.self_attn.v_proj.weight: copying from a non-meta parameter in the checkpoint to a meta parameter in the current model, which is a no-op. (Did you mean to pass `assign=True` to assign items in the state dictionary to their corresponding key in the module instead of copying them in place?)\n",
      "  warnings.warn(f'for {key}: copying from a non-meta parameter in the checkpoint to a meta '\n",
      "/home/et/miniconda3/envs/llava_next/lib/python3.11/site-packages/torch/nn/modules/module.py:2025: UserWarning: for vision_model.encoder.layers.3.self_attn.v_proj.bias: copying from a non-meta parameter in the checkpoint to a meta parameter in the current model, which is a no-op. (Did you mean to pass `assign=True` to assign items in the state dictionary to their corresponding key in the module instead of copying them in place?)\n",
      "  warnings.warn(f'for {key}: copying from a non-meta parameter in the checkpoint to a meta '\n",
      "/home/et/miniconda3/envs/llava_next/lib/python3.11/site-packages/torch/nn/modules/module.py:2025: UserWarning: for vision_model.encoder.layers.3.self_attn.q_proj.weight: copying from a non-meta parameter in the checkpoint to a meta parameter in the current model, which is a no-op. (Did you mean to pass `assign=True` to assign items in the state dictionary to their corresponding key in the module instead of copying them in place?)\n",
      "  warnings.warn(f'for {key}: copying from a non-meta parameter in the checkpoint to a meta '\n",
      "/home/et/miniconda3/envs/llava_next/lib/python3.11/site-packages/torch/nn/modules/module.py:2025: UserWarning: for vision_model.encoder.layers.3.self_attn.q_proj.bias: copying from a non-meta parameter in the checkpoint to a meta parameter in the current model, which is a no-op. (Did you mean to pass `assign=True` to assign items in the state dictionary to their corresponding key in the module instead of copying them in place?)\n",
      "  warnings.warn(f'for {key}: copying from a non-meta parameter in the checkpoint to a meta '\n",
      "/home/et/miniconda3/envs/llava_next/lib/python3.11/site-packages/torch/nn/modules/module.py:2025: UserWarning: for vision_model.encoder.layers.3.self_attn.out_proj.weight: copying from a non-meta parameter in the checkpoint to a meta parameter in the current model, which is a no-op. (Did you mean to pass `assign=True` to assign items in the state dictionary to their corresponding key in the module instead of copying them in place?)\n",
      "  warnings.warn(f'for {key}: copying from a non-meta parameter in the checkpoint to a meta '\n",
      "/home/et/miniconda3/envs/llava_next/lib/python3.11/site-packages/torch/nn/modules/module.py:2025: UserWarning: for vision_model.encoder.layers.3.self_attn.out_proj.bias: copying from a non-meta parameter in the checkpoint to a meta parameter in the current model, which is a no-op. (Did you mean to pass `assign=True` to assign items in the state dictionary to their corresponding key in the module instead of copying them in place?)\n",
      "  warnings.warn(f'for {key}: copying from a non-meta parameter in the checkpoint to a meta '\n",
      "/home/et/miniconda3/envs/llava_next/lib/python3.11/site-packages/torch/nn/modules/module.py:2025: UserWarning: for vision_model.encoder.layers.3.layer_norm1.weight: copying from a non-meta parameter in the checkpoint to a meta parameter in the current model, which is a no-op. (Did you mean to pass `assign=True` to assign items in the state dictionary to their corresponding key in the module instead of copying them in place?)\n",
      "  warnings.warn(f'for {key}: copying from a non-meta parameter in the checkpoint to a meta '\n",
      "/home/et/miniconda3/envs/llava_next/lib/python3.11/site-packages/torch/nn/modules/module.py:2025: UserWarning: for vision_model.encoder.layers.3.layer_norm1.bias: copying from a non-meta parameter in the checkpoint to a meta parameter in the current model, which is a no-op. (Did you mean to pass `assign=True` to assign items in the state dictionary to their corresponding key in the module instead of copying them in place?)\n",
      "  warnings.warn(f'for {key}: copying from a non-meta parameter in the checkpoint to a meta '\n",
      "/home/et/miniconda3/envs/llava_next/lib/python3.11/site-packages/torch/nn/modules/module.py:2025: UserWarning: for vision_model.encoder.layers.3.mlp.fc1.weight: copying from a non-meta parameter in the checkpoint to a meta parameter in the current model, which is a no-op. (Did you mean to pass `assign=True` to assign items in the state dictionary to their corresponding key in the module instead of copying them in place?)\n",
      "  warnings.warn(f'for {key}: copying from a non-meta parameter in the checkpoint to a meta '\n",
      "/home/et/miniconda3/envs/llava_next/lib/python3.11/site-packages/torch/nn/modules/module.py:2025: UserWarning: for vision_model.encoder.layers.3.mlp.fc1.bias: copying from a non-meta parameter in the checkpoint to a meta parameter in the current model, which is a no-op. (Did you mean to pass `assign=True` to assign items in the state dictionary to their corresponding key in the module instead of copying them in place?)\n",
      "  warnings.warn(f'for {key}: copying from a non-meta parameter in the checkpoint to a meta '\n",
      "/home/et/miniconda3/envs/llava_next/lib/python3.11/site-packages/torch/nn/modules/module.py:2025: UserWarning: for vision_model.encoder.layers.3.mlp.fc2.weight: copying from a non-meta parameter in the checkpoint to a meta parameter in the current model, which is a no-op. (Did you mean to pass `assign=True` to assign items in the state dictionary to their corresponding key in the module instead of copying them in place?)\n",
      "  warnings.warn(f'for {key}: copying from a non-meta parameter in the checkpoint to a meta '\n",
      "/home/et/miniconda3/envs/llava_next/lib/python3.11/site-packages/torch/nn/modules/module.py:2025: UserWarning: for vision_model.encoder.layers.3.mlp.fc2.bias: copying from a non-meta parameter in the checkpoint to a meta parameter in the current model, which is a no-op. (Did you mean to pass `assign=True` to assign items in the state dictionary to their corresponding key in the module instead of copying them in place?)\n",
      "  warnings.warn(f'for {key}: copying from a non-meta parameter in the checkpoint to a meta '\n",
      "/home/et/miniconda3/envs/llava_next/lib/python3.11/site-packages/torch/nn/modules/module.py:2025: UserWarning: for vision_model.encoder.layers.3.layer_norm2.weight: copying from a non-meta parameter in the checkpoint to a meta parameter in the current model, which is a no-op. (Did you mean to pass `assign=True` to assign items in the state dictionary to their corresponding key in the module instead of copying them in place?)\n",
      "  warnings.warn(f'for {key}: copying from a non-meta parameter in the checkpoint to a meta '\n",
      "/home/et/miniconda3/envs/llava_next/lib/python3.11/site-packages/torch/nn/modules/module.py:2025: UserWarning: for vision_model.encoder.layers.3.layer_norm2.bias: copying from a non-meta parameter in the checkpoint to a meta parameter in the current model, which is a no-op. (Did you mean to pass `assign=True` to assign items in the state dictionary to their corresponding key in the module instead of copying them in place?)\n",
      "  warnings.warn(f'for {key}: copying from a non-meta parameter in the checkpoint to a meta '\n",
      "/home/et/miniconda3/envs/llava_next/lib/python3.11/site-packages/torch/nn/modules/module.py:2025: UserWarning: for vision_model.encoder.layers.4.self_attn.k_proj.weight: copying from a non-meta parameter in the checkpoint to a meta parameter in the current model, which is a no-op. (Did you mean to pass `assign=True` to assign items in the state dictionary to their corresponding key in the module instead of copying them in place?)\n",
      "  warnings.warn(f'for {key}: copying from a non-meta parameter in the checkpoint to a meta '\n",
      "/home/et/miniconda3/envs/llava_next/lib/python3.11/site-packages/torch/nn/modules/module.py:2025: UserWarning: for vision_model.encoder.layers.4.self_attn.k_proj.bias: copying from a non-meta parameter in the checkpoint to a meta parameter in the current model, which is a no-op. (Did you mean to pass `assign=True` to assign items in the state dictionary to their corresponding key in the module instead of copying them in place?)\n",
      "  warnings.warn(f'for {key}: copying from a non-meta parameter in the checkpoint to a meta '\n",
      "/home/et/miniconda3/envs/llava_next/lib/python3.11/site-packages/torch/nn/modules/module.py:2025: UserWarning: for vision_model.encoder.layers.4.self_attn.v_proj.weight: copying from a non-meta parameter in the checkpoint to a meta parameter in the current model, which is a no-op. (Did you mean to pass `assign=True` to assign items in the state dictionary to their corresponding key in the module instead of copying them in place?)\n",
      "  warnings.warn(f'for {key}: copying from a non-meta parameter in the checkpoint to a meta '\n",
      "/home/et/miniconda3/envs/llava_next/lib/python3.11/site-packages/torch/nn/modules/module.py:2025: UserWarning: for vision_model.encoder.layers.4.self_attn.v_proj.bias: copying from a non-meta parameter in the checkpoint to a meta parameter in the current model, which is a no-op. (Did you mean to pass `assign=True` to assign items in the state dictionary to their corresponding key in the module instead of copying them in place?)\n",
      "  warnings.warn(f'for {key}: copying from a non-meta parameter in the checkpoint to a meta '\n",
      "/home/et/miniconda3/envs/llava_next/lib/python3.11/site-packages/torch/nn/modules/module.py:2025: UserWarning: for vision_model.encoder.layers.4.self_attn.q_proj.weight: copying from a non-meta parameter in the checkpoint to a meta parameter in the current model, which is a no-op. (Did you mean to pass `assign=True` to assign items in the state dictionary to their corresponding key in the module instead of copying them in place?)\n",
      "  warnings.warn(f'for {key}: copying from a non-meta parameter in the checkpoint to a meta '\n",
      "/home/et/miniconda3/envs/llava_next/lib/python3.11/site-packages/torch/nn/modules/module.py:2025: UserWarning: for vision_model.encoder.layers.4.self_attn.q_proj.bias: copying from a non-meta parameter in the checkpoint to a meta parameter in the current model, which is a no-op. (Did you mean to pass `assign=True` to assign items in the state dictionary to their corresponding key in the module instead of copying them in place?)\n",
      "  warnings.warn(f'for {key}: copying from a non-meta parameter in the checkpoint to a meta '\n",
      "/home/et/miniconda3/envs/llava_next/lib/python3.11/site-packages/torch/nn/modules/module.py:2025: UserWarning: for vision_model.encoder.layers.4.self_attn.out_proj.weight: copying from a non-meta parameter in the checkpoint to a meta parameter in the current model, which is a no-op. (Did you mean to pass `assign=True` to assign items in the state dictionary to their corresponding key in the module instead of copying them in place?)\n",
      "  warnings.warn(f'for {key}: copying from a non-meta parameter in the checkpoint to a meta '\n",
      "/home/et/miniconda3/envs/llava_next/lib/python3.11/site-packages/torch/nn/modules/module.py:2025: UserWarning: for vision_model.encoder.layers.4.self_attn.out_proj.bias: copying from a non-meta parameter in the checkpoint to a meta parameter in the current model, which is a no-op. (Did you mean to pass `assign=True` to assign items in the state dictionary to their corresponding key in the module instead of copying them in place?)\n",
      "  warnings.warn(f'for {key}: copying from a non-meta parameter in the checkpoint to a meta '\n",
      "/home/et/miniconda3/envs/llava_next/lib/python3.11/site-packages/torch/nn/modules/module.py:2025: UserWarning: for vision_model.encoder.layers.4.layer_norm1.weight: copying from a non-meta parameter in the checkpoint to a meta parameter in the current model, which is a no-op. (Did you mean to pass `assign=True` to assign items in the state dictionary to their corresponding key in the module instead of copying them in place?)\n",
      "  warnings.warn(f'for {key}: copying from a non-meta parameter in the checkpoint to a meta '\n",
      "/home/et/miniconda3/envs/llava_next/lib/python3.11/site-packages/torch/nn/modules/module.py:2025: UserWarning: for vision_model.encoder.layers.4.layer_norm1.bias: copying from a non-meta parameter in the checkpoint to a meta parameter in the current model, which is a no-op. (Did you mean to pass `assign=True` to assign items in the state dictionary to their corresponding key in the module instead of copying them in place?)\n",
      "  warnings.warn(f'for {key}: copying from a non-meta parameter in the checkpoint to a meta '\n",
      "/home/et/miniconda3/envs/llava_next/lib/python3.11/site-packages/torch/nn/modules/module.py:2025: UserWarning: for vision_model.encoder.layers.4.mlp.fc1.weight: copying from a non-meta parameter in the checkpoint to a meta parameter in the current model, which is a no-op. (Did you mean to pass `assign=True` to assign items in the state dictionary to their corresponding key in the module instead of copying them in place?)\n",
      "  warnings.warn(f'for {key}: copying from a non-meta parameter in the checkpoint to a meta '\n",
      "/home/et/miniconda3/envs/llava_next/lib/python3.11/site-packages/torch/nn/modules/module.py:2025: UserWarning: for vision_model.encoder.layers.4.mlp.fc1.bias: copying from a non-meta parameter in the checkpoint to a meta parameter in the current model, which is a no-op. (Did you mean to pass `assign=True` to assign items in the state dictionary to their corresponding key in the module instead of copying them in place?)\n",
      "  warnings.warn(f'for {key}: copying from a non-meta parameter in the checkpoint to a meta '\n",
      "/home/et/miniconda3/envs/llava_next/lib/python3.11/site-packages/torch/nn/modules/module.py:2025: UserWarning: for vision_model.encoder.layers.4.mlp.fc2.weight: copying from a non-meta parameter in the checkpoint to a meta parameter in the current model, which is a no-op. (Did you mean to pass `assign=True` to assign items in the state dictionary to their corresponding key in the module instead of copying them in place?)\n",
      "  warnings.warn(f'for {key}: copying from a non-meta parameter in the checkpoint to a meta '\n",
      "/home/et/miniconda3/envs/llava_next/lib/python3.11/site-packages/torch/nn/modules/module.py:2025: UserWarning: for vision_model.encoder.layers.4.mlp.fc2.bias: copying from a non-meta parameter in the checkpoint to a meta parameter in the current model, which is a no-op. (Did you mean to pass `assign=True` to assign items in the state dictionary to their corresponding key in the module instead of copying them in place?)\n",
      "  warnings.warn(f'for {key}: copying from a non-meta parameter in the checkpoint to a meta '\n",
      "/home/et/miniconda3/envs/llava_next/lib/python3.11/site-packages/torch/nn/modules/module.py:2025: UserWarning: for vision_model.encoder.layers.4.layer_norm2.weight: copying from a non-meta parameter in the checkpoint to a meta parameter in the current model, which is a no-op. (Did you mean to pass `assign=True` to assign items in the state dictionary to their corresponding key in the module instead of copying them in place?)\n",
      "  warnings.warn(f'for {key}: copying from a non-meta parameter in the checkpoint to a meta '\n",
      "/home/et/miniconda3/envs/llava_next/lib/python3.11/site-packages/torch/nn/modules/module.py:2025: UserWarning: for vision_model.encoder.layers.4.layer_norm2.bias: copying from a non-meta parameter in the checkpoint to a meta parameter in the current model, which is a no-op. (Did you mean to pass `assign=True` to assign items in the state dictionary to their corresponding key in the module instead of copying them in place?)\n",
      "  warnings.warn(f'for {key}: copying from a non-meta parameter in the checkpoint to a meta '\n",
      "/home/et/miniconda3/envs/llava_next/lib/python3.11/site-packages/torch/nn/modules/module.py:2025: UserWarning: for vision_model.encoder.layers.5.self_attn.k_proj.weight: copying from a non-meta parameter in the checkpoint to a meta parameter in the current model, which is a no-op. (Did you mean to pass `assign=True` to assign items in the state dictionary to their corresponding key in the module instead of copying them in place?)\n",
      "  warnings.warn(f'for {key}: copying from a non-meta parameter in the checkpoint to a meta '\n",
      "/home/et/miniconda3/envs/llava_next/lib/python3.11/site-packages/torch/nn/modules/module.py:2025: UserWarning: for vision_model.encoder.layers.5.self_attn.k_proj.bias: copying from a non-meta parameter in the checkpoint to a meta parameter in the current model, which is a no-op. (Did you mean to pass `assign=True` to assign items in the state dictionary to their corresponding key in the module instead of copying them in place?)\n",
      "  warnings.warn(f'for {key}: copying from a non-meta parameter in the checkpoint to a meta '\n",
      "/home/et/miniconda3/envs/llava_next/lib/python3.11/site-packages/torch/nn/modules/module.py:2025: UserWarning: for vision_model.encoder.layers.5.self_attn.v_proj.weight: copying from a non-meta parameter in the checkpoint to a meta parameter in the current model, which is a no-op. (Did you mean to pass `assign=True` to assign items in the state dictionary to their corresponding key in the module instead of copying them in place?)\n",
      "  warnings.warn(f'for {key}: copying from a non-meta parameter in the checkpoint to a meta '\n",
      "/home/et/miniconda3/envs/llava_next/lib/python3.11/site-packages/torch/nn/modules/module.py:2025: UserWarning: for vision_model.encoder.layers.5.self_attn.v_proj.bias: copying from a non-meta parameter in the checkpoint to a meta parameter in the current model, which is a no-op. (Did you mean to pass `assign=True` to assign items in the state dictionary to their corresponding key in the module instead of copying them in place?)\n",
      "  warnings.warn(f'for {key}: copying from a non-meta parameter in the checkpoint to a meta '\n",
      "/home/et/miniconda3/envs/llava_next/lib/python3.11/site-packages/torch/nn/modules/module.py:2025: UserWarning: for vision_model.encoder.layers.5.self_attn.q_proj.weight: copying from a non-meta parameter in the checkpoint to a meta parameter in the current model, which is a no-op. (Did you mean to pass `assign=True` to assign items in the state dictionary to their corresponding key in the module instead of copying them in place?)\n",
      "  warnings.warn(f'for {key}: copying from a non-meta parameter in the checkpoint to a meta '\n",
      "/home/et/miniconda3/envs/llava_next/lib/python3.11/site-packages/torch/nn/modules/module.py:2025: UserWarning: for vision_model.encoder.layers.5.self_attn.q_proj.bias: copying from a non-meta parameter in the checkpoint to a meta parameter in the current model, which is a no-op. (Did you mean to pass `assign=True` to assign items in the state dictionary to their corresponding key in the module instead of copying them in place?)\n",
      "  warnings.warn(f'for {key}: copying from a non-meta parameter in the checkpoint to a meta '\n",
      "/home/et/miniconda3/envs/llava_next/lib/python3.11/site-packages/torch/nn/modules/module.py:2025: UserWarning: for vision_model.encoder.layers.5.self_attn.out_proj.weight: copying from a non-meta parameter in the checkpoint to a meta parameter in the current model, which is a no-op. (Did you mean to pass `assign=True` to assign items in the state dictionary to their corresponding key in the module instead of copying them in place?)\n",
      "  warnings.warn(f'for {key}: copying from a non-meta parameter in the checkpoint to a meta '\n",
      "/home/et/miniconda3/envs/llava_next/lib/python3.11/site-packages/torch/nn/modules/module.py:2025: UserWarning: for vision_model.encoder.layers.5.self_attn.out_proj.bias: copying from a non-meta parameter in the checkpoint to a meta parameter in the current model, which is a no-op. (Did you mean to pass `assign=True` to assign items in the state dictionary to their corresponding key in the module instead of copying them in place?)\n",
      "  warnings.warn(f'for {key}: copying from a non-meta parameter in the checkpoint to a meta '\n",
      "/home/et/miniconda3/envs/llava_next/lib/python3.11/site-packages/torch/nn/modules/module.py:2025: UserWarning: for vision_model.encoder.layers.5.layer_norm1.weight: copying from a non-meta parameter in the checkpoint to a meta parameter in the current model, which is a no-op. (Did you mean to pass `assign=True` to assign items in the state dictionary to their corresponding key in the module instead of copying them in place?)\n",
      "  warnings.warn(f'for {key}: copying from a non-meta parameter in the checkpoint to a meta '\n",
      "/home/et/miniconda3/envs/llava_next/lib/python3.11/site-packages/torch/nn/modules/module.py:2025: UserWarning: for vision_model.encoder.layers.5.layer_norm1.bias: copying from a non-meta parameter in the checkpoint to a meta parameter in the current model, which is a no-op. (Did you mean to pass `assign=True` to assign items in the state dictionary to their corresponding key in the module instead of copying them in place?)\n",
      "  warnings.warn(f'for {key}: copying from a non-meta parameter in the checkpoint to a meta '\n",
      "/home/et/miniconda3/envs/llava_next/lib/python3.11/site-packages/torch/nn/modules/module.py:2025: UserWarning: for vision_model.encoder.layers.5.mlp.fc1.weight: copying from a non-meta parameter in the checkpoint to a meta parameter in the current model, which is a no-op. (Did you mean to pass `assign=True` to assign items in the state dictionary to their corresponding key in the module instead of copying them in place?)\n",
      "  warnings.warn(f'for {key}: copying from a non-meta parameter in the checkpoint to a meta '\n",
      "/home/et/miniconda3/envs/llava_next/lib/python3.11/site-packages/torch/nn/modules/module.py:2025: UserWarning: for vision_model.encoder.layers.5.mlp.fc1.bias: copying from a non-meta parameter in the checkpoint to a meta parameter in the current model, which is a no-op. (Did you mean to pass `assign=True` to assign items in the state dictionary to their corresponding key in the module instead of copying them in place?)\n",
      "  warnings.warn(f'for {key}: copying from a non-meta parameter in the checkpoint to a meta '\n",
      "/home/et/miniconda3/envs/llava_next/lib/python3.11/site-packages/torch/nn/modules/module.py:2025: UserWarning: for vision_model.encoder.layers.5.mlp.fc2.weight: copying from a non-meta parameter in the checkpoint to a meta parameter in the current model, which is a no-op. (Did you mean to pass `assign=True` to assign items in the state dictionary to their corresponding key in the module instead of copying them in place?)\n",
      "  warnings.warn(f'for {key}: copying from a non-meta parameter in the checkpoint to a meta '\n",
      "/home/et/miniconda3/envs/llava_next/lib/python3.11/site-packages/torch/nn/modules/module.py:2025: UserWarning: for vision_model.encoder.layers.5.mlp.fc2.bias: copying from a non-meta parameter in the checkpoint to a meta parameter in the current model, which is a no-op. (Did you mean to pass `assign=True` to assign items in the state dictionary to their corresponding key in the module instead of copying them in place?)\n",
      "  warnings.warn(f'for {key}: copying from a non-meta parameter in the checkpoint to a meta '\n",
      "/home/et/miniconda3/envs/llava_next/lib/python3.11/site-packages/torch/nn/modules/module.py:2025: UserWarning: for vision_model.encoder.layers.5.layer_norm2.weight: copying from a non-meta parameter in the checkpoint to a meta parameter in the current model, which is a no-op. (Did you mean to pass `assign=True` to assign items in the state dictionary to their corresponding key in the module instead of copying them in place?)\n",
      "  warnings.warn(f'for {key}: copying from a non-meta parameter in the checkpoint to a meta '\n",
      "/home/et/miniconda3/envs/llava_next/lib/python3.11/site-packages/torch/nn/modules/module.py:2025: UserWarning: for vision_model.encoder.layers.5.layer_norm2.bias: copying from a non-meta parameter in the checkpoint to a meta parameter in the current model, which is a no-op. (Did you mean to pass `assign=True` to assign items in the state dictionary to their corresponding key in the module instead of copying them in place?)\n",
      "  warnings.warn(f'for {key}: copying from a non-meta parameter in the checkpoint to a meta '\n",
      "/home/et/miniconda3/envs/llava_next/lib/python3.11/site-packages/torch/nn/modules/module.py:2025: UserWarning: for vision_model.encoder.layers.6.self_attn.k_proj.weight: copying from a non-meta parameter in the checkpoint to a meta parameter in the current model, which is a no-op. (Did you mean to pass `assign=True` to assign items in the state dictionary to their corresponding key in the module instead of copying them in place?)\n",
      "  warnings.warn(f'for {key}: copying from a non-meta parameter in the checkpoint to a meta '\n",
      "/home/et/miniconda3/envs/llava_next/lib/python3.11/site-packages/torch/nn/modules/module.py:2025: UserWarning: for vision_model.encoder.layers.6.self_attn.k_proj.bias: copying from a non-meta parameter in the checkpoint to a meta parameter in the current model, which is a no-op. (Did you mean to pass `assign=True` to assign items in the state dictionary to their corresponding key in the module instead of copying them in place?)\n",
      "  warnings.warn(f'for {key}: copying from a non-meta parameter in the checkpoint to a meta '\n",
      "/home/et/miniconda3/envs/llava_next/lib/python3.11/site-packages/torch/nn/modules/module.py:2025: UserWarning: for vision_model.encoder.layers.6.self_attn.v_proj.weight: copying from a non-meta parameter in the checkpoint to a meta parameter in the current model, which is a no-op. (Did you mean to pass `assign=True` to assign items in the state dictionary to their corresponding key in the module instead of copying them in place?)\n",
      "  warnings.warn(f'for {key}: copying from a non-meta parameter in the checkpoint to a meta '\n",
      "/home/et/miniconda3/envs/llava_next/lib/python3.11/site-packages/torch/nn/modules/module.py:2025: UserWarning: for vision_model.encoder.layers.6.self_attn.v_proj.bias: copying from a non-meta parameter in the checkpoint to a meta parameter in the current model, which is a no-op. (Did you mean to pass `assign=True` to assign items in the state dictionary to their corresponding key in the module instead of copying them in place?)\n",
      "  warnings.warn(f'for {key}: copying from a non-meta parameter in the checkpoint to a meta '\n",
      "/home/et/miniconda3/envs/llava_next/lib/python3.11/site-packages/torch/nn/modules/module.py:2025: UserWarning: for vision_model.encoder.layers.6.self_attn.q_proj.weight: copying from a non-meta parameter in the checkpoint to a meta parameter in the current model, which is a no-op. (Did you mean to pass `assign=True` to assign items in the state dictionary to their corresponding key in the module instead of copying them in place?)\n",
      "  warnings.warn(f'for {key}: copying from a non-meta parameter in the checkpoint to a meta '\n",
      "/home/et/miniconda3/envs/llava_next/lib/python3.11/site-packages/torch/nn/modules/module.py:2025: UserWarning: for vision_model.encoder.layers.6.self_attn.q_proj.bias: copying from a non-meta parameter in the checkpoint to a meta parameter in the current model, which is a no-op. (Did you mean to pass `assign=True` to assign items in the state dictionary to their corresponding key in the module instead of copying them in place?)\n",
      "  warnings.warn(f'for {key}: copying from a non-meta parameter in the checkpoint to a meta '\n",
      "/home/et/miniconda3/envs/llava_next/lib/python3.11/site-packages/torch/nn/modules/module.py:2025: UserWarning: for vision_model.encoder.layers.6.self_attn.out_proj.weight: copying from a non-meta parameter in the checkpoint to a meta parameter in the current model, which is a no-op. (Did you mean to pass `assign=True` to assign items in the state dictionary to their corresponding key in the module instead of copying them in place?)\n",
      "  warnings.warn(f'for {key}: copying from a non-meta parameter in the checkpoint to a meta '\n",
      "/home/et/miniconda3/envs/llava_next/lib/python3.11/site-packages/torch/nn/modules/module.py:2025: UserWarning: for vision_model.encoder.layers.6.self_attn.out_proj.bias: copying from a non-meta parameter in the checkpoint to a meta parameter in the current model, which is a no-op. (Did you mean to pass `assign=True` to assign items in the state dictionary to their corresponding key in the module instead of copying them in place?)\n",
      "  warnings.warn(f'for {key}: copying from a non-meta parameter in the checkpoint to a meta '\n",
      "/home/et/miniconda3/envs/llava_next/lib/python3.11/site-packages/torch/nn/modules/module.py:2025: UserWarning: for vision_model.encoder.layers.6.layer_norm1.weight: copying from a non-meta parameter in the checkpoint to a meta parameter in the current model, which is a no-op. (Did you mean to pass `assign=True` to assign items in the state dictionary to their corresponding key in the module instead of copying them in place?)\n",
      "  warnings.warn(f'for {key}: copying from a non-meta parameter in the checkpoint to a meta '\n",
      "/home/et/miniconda3/envs/llava_next/lib/python3.11/site-packages/torch/nn/modules/module.py:2025: UserWarning: for vision_model.encoder.layers.6.layer_norm1.bias: copying from a non-meta parameter in the checkpoint to a meta parameter in the current model, which is a no-op. (Did you mean to pass `assign=True` to assign items in the state dictionary to their corresponding key in the module instead of copying them in place?)\n",
      "  warnings.warn(f'for {key}: copying from a non-meta parameter in the checkpoint to a meta '\n",
      "/home/et/miniconda3/envs/llava_next/lib/python3.11/site-packages/torch/nn/modules/module.py:2025: UserWarning: for vision_model.encoder.layers.6.mlp.fc1.weight: copying from a non-meta parameter in the checkpoint to a meta parameter in the current model, which is a no-op. (Did you mean to pass `assign=True` to assign items in the state dictionary to their corresponding key in the module instead of copying them in place?)\n",
      "  warnings.warn(f'for {key}: copying from a non-meta parameter in the checkpoint to a meta '\n",
      "/home/et/miniconda3/envs/llava_next/lib/python3.11/site-packages/torch/nn/modules/module.py:2025: UserWarning: for vision_model.encoder.layers.6.mlp.fc1.bias: copying from a non-meta parameter in the checkpoint to a meta parameter in the current model, which is a no-op. (Did you mean to pass `assign=True` to assign items in the state dictionary to their corresponding key in the module instead of copying them in place?)\n",
      "  warnings.warn(f'for {key}: copying from a non-meta parameter in the checkpoint to a meta '\n",
      "/home/et/miniconda3/envs/llava_next/lib/python3.11/site-packages/torch/nn/modules/module.py:2025: UserWarning: for vision_model.encoder.layers.6.mlp.fc2.weight: copying from a non-meta parameter in the checkpoint to a meta parameter in the current model, which is a no-op. (Did you mean to pass `assign=True` to assign items in the state dictionary to their corresponding key in the module instead of copying them in place?)\n",
      "  warnings.warn(f'for {key}: copying from a non-meta parameter in the checkpoint to a meta '\n",
      "/home/et/miniconda3/envs/llava_next/lib/python3.11/site-packages/torch/nn/modules/module.py:2025: UserWarning: for vision_model.encoder.layers.6.mlp.fc2.bias: copying from a non-meta parameter in the checkpoint to a meta parameter in the current model, which is a no-op. (Did you mean to pass `assign=True` to assign items in the state dictionary to their corresponding key in the module instead of copying them in place?)\n",
      "  warnings.warn(f'for {key}: copying from a non-meta parameter in the checkpoint to a meta '\n",
      "/home/et/miniconda3/envs/llava_next/lib/python3.11/site-packages/torch/nn/modules/module.py:2025: UserWarning: for vision_model.encoder.layers.6.layer_norm2.weight: copying from a non-meta parameter in the checkpoint to a meta parameter in the current model, which is a no-op. (Did you mean to pass `assign=True` to assign items in the state dictionary to their corresponding key in the module instead of copying them in place?)\n",
      "  warnings.warn(f'for {key}: copying from a non-meta parameter in the checkpoint to a meta '\n",
      "/home/et/miniconda3/envs/llava_next/lib/python3.11/site-packages/torch/nn/modules/module.py:2025: UserWarning: for vision_model.encoder.layers.6.layer_norm2.bias: copying from a non-meta parameter in the checkpoint to a meta parameter in the current model, which is a no-op. (Did you mean to pass `assign=True` to assign items in the state dictionary to their corresponding key in the module instead of copying them in place?)\n",
      "  warnings.warn(f'for {key}: copying from a non-meta parameter in the checkpoint to a meta '\n",
      "/home/et/miniconda3/envs/llava_next/lib/python3.11/site-packages/torch/nn/modules/module.py:2025: UserWarning: for vision_model.encoder.layers.7.self_attn.k_proj.weight: copying from a non-meta parameter in the checkpoint to a meta parameter in the current model, which is a no-op. (Did you mean to pass `assign=True` to assign items in the state dictionary to their corresponding key in the module instead of copying them in place?)\n",
      "  warnings.warn(f'for {key}: copying from a non-meta parameter in the checkpoint to a meta '\n",
      "/home/et/miniconda3/envs/llava_next/lib/python3.11/site-packages/torch/nn/modules/module.py:2025: UserWarning: for vision_model.encoder.layers.7.self_attn.k_proj.bias: copying from a non-meta parameter in the checkpoint to a meta parameter in the current model, which is a no-op. (Did you mean to pass `assign=True` to assign items in the state dictionary to their corresponding key in the module instead of copying them in place?)\n",
      "  warnings.warn(f'for {key}: copying from a non-meta parameter in the checkpoint to a meta '\n",
      "/home/et/miniconda3/envs/llava_next/lib/python3.11/site-packages/torch/nn/modules/module.py:2025: UserWarning: for vision_model.encoder.layers.7.self_attn.v_proj.weight: copying from a non-meta parameter in the checkpoint to a meta parameter in the current model, which is a no-op. (Did you mean to pass `assign=True` to assign items in the state dictionary to their corresponding key in the module instead of copying them in place?)\n",
      "  warnings.warn(f'for {key}: copying from a non-meta parameter in the checkpoint to a meta '\n",
      "/home/et/miniconda3/envs/llava_next/lib/python3.11/site-packages/torch/nn/modules/module.py:2025: UserWarning: for vision_model.encoder.layers.7.self_attn.v_proj.bias: copying from a non-meta parameter in the checkpoint to a meta parameter in the current model, which is a no-op. (Did you mean to pass `assign=True` to assign items in the state dictionary to their corresponding key in the module instead of copying them in place?)\n",
      "  warnings.warn(f'for {key}: copying from a non-meta parameter in the checkpoint to a meta '\n",
      "/home/et/miniconda3/envs/llava_next/lib/python3.11/site-packages/torch/nn/modules/module.py:2025: UserWarning: for vision_model.encoder.layers.7.self_attn.q_proj.weight: copying from a non-meta parameter in the checkpoint to a meta parameter in the current model, which is a no-op. (Did you mean to pass `assign=True` to assign items in the state dictionary to their corresponding key in the module instead of copying them in place?)\n",
      "  warnings.warn(f'for {key}: copying from a non-meta parameter in the checkpoint to a meta '\n",
      "/home/et/miniconda3/envs/llava_next/lib/python3.11/site-packages/torch/nn/modules/module.py:2025: UserWarning: for vision_model.encoder.layers.7.self_attn.q_proj.bias: copying from a non-meta parameter in the checkpoint to a meta parameter in the current model, which is a no-op. (Did you mean to pass `assign=True` to assign items in the state dictionary to their corresponding key in the module instead of copying them in place?)\n",
      "  warnings.warn(f'for {key}: copying from a non-meta parameter in the checkpoint to a meta '\n",
      "/home/et/miniconda3/envs/llava_next/lib/python3.11/site-packages/torch/nn/modules/module.py:2025: UserWarning: for vision_model.encoder.layers.7.self_attn.out_proj.weight: copying from a non-meta parameter in the checkpoint to a meta parameter in the current model, which is a no-op. (Did you mean to pass `assign=True` to assign items in the state dictionary to their corresponding key in the module instead of copying them in place?)\n",
      "  warnings.warn(f'for {key}: copying from a non-meta parameter in the checkpoint to a meta '\n",
      "/home/et/miniconda3/envs/llava_next/lib/python3.11/site-packages/torch/nn/modules/module.py:2025: UserWarning: for vision_model.encoder.layers.7.self_attn.out_proj.bias: copying from a non-meta parameter in the checkpoint to a meta parameter in the current model, which is a no-op. (Did you mean to pass `assign=True` to assign items in the state dictionary to their corresponding key in the module instead of copying them in place?)\n",
      "  warnings.warn(f'for {key}: copying from a non-meta parameter in the checkpoint to a meta '\n",
      "/home/et/miniconda3/envs/llava_next/lib/python3.11/site-packages/torch/nn/modules/module.py:2025: UserWarning: for vision_model.encoder.layers.7.layer_norm1.weight: copying from a non-meta parameter in the checkpoint to a meta parameter in the current model, which is a no-op. (Did you mean to pass `assign=True` to assign items in the state dictionary to their corresponding key in the module instead of copying them in place?)\n",
      "  warnings.warn(f'for {key}: copying from a non-meta parameter in the checkpoint to a meta '\n",
      "/home/et/miniconda3/envs/llava_next/lib/python3.11/site-packages/torch/nn/modules/module.py:2025: UserWarning: for vision_model.encoder.layers.7.layer_norm1.bias: copying from a non-meta parameter in the checkpoint to a meta parameter in the current model, which is a no-op. (Did you mean to pass `assign=True` to assign items in the state dictionary to their corresponding key in the module instead of copying them in place?)\n",
      "  warnings.warn(f'for {key}: copying from a non-meta parameter in the checkpoint to a meta '\n",
      "/home/et/miniconda3/envs/llava_next/lib/python3.11/site-packages/torch/nn/modules/module.py:2025: UserWarning: for vision_model.encoder.layers.7.mlp.fc1.weight: copying from a non-meta parameter in the checkpoint to a meta parameter in the current model, which is a no-op. (Did you mean to pass `assign=True` to assign items in the state dictionary to their corresponding key in the module instead of copying them in place?)\n",
      "  warnings.warn(f'for {key}: copying from a non-meta parameter in the checkpoint to a meta '\n",
      "/home/et/miniconda3/envs/llava_next/lib/python3.11/site-packages/torch/nn/modules/module.py:2025: UserWarning: for vision_model.encoder.layers.7.mlp.fc1.bias: copying from a non-meta parameter in the checkpoint to a meta parameter in the current model, which is a no-op. (Did you mean to pass `assign=True` to assign items in the state dictionary to their corresponding key in the module instead of copying them in place?)\n",
      "  warnings.warn(f'for {key}: copying from a non-meta parameter in the checkpoint to a meta '\n",
      "/home/et/miniconda3/envs/llava_next/lib/python3.11/site-packages/torch/nn/modules/module.py:2025: UserWarning: for vision_model.encoder.layers.7.mlp.fc2.weight: copying from a non-meta parameter in the checkpoint to a meta parameter in the current model, which is a no-op. (Did you mean to pass `assign=True` to assign items in the state dictionary to their corresponding key in the module instead of copying them in place?)\n",
      "  warnings.warn(f'for {key}: copying from a non-meta parameter in the checkpoint to a meta '\n",
      "/home/et/miniconda3/envs/llava_next/lib/python3.11/site-packages/torch/nn/modules/module.py:2025: UserWarning: for vision_model.encoder.layers.7.mlp.fc2.bias: copying from a non-meta parameter in the checkpoint to a meta parameter in the current model, which is a no-op. (Did you mean to pass `assign=True` to assign items in the state dictionary to their corresponding key in the module instead of copying them in place?)\n",
      "  warnings.warn(f'for {key}: copying from a non-meta parameter in the checkpoint to a meta '\n",
      "/home/et/miniconda3/envs/llava_next/lib/python3.11/site-packages/torch/nn/modules/module.py:2025: UserWarning: for vision_model.encoder.layers.7.layer_norm2.weight: copying from a non-meta parameter in the checkpoint to a meta parameter in the current model, which is a no-op. (Did you mean to pass `assign=True` to assign items in the state dictionary to their corresponding key in the module instead of copying them in place?)\n",
      "  warnings.warn(f'for {key}: copying from a non-meta parameter in the checkpoint to a meta '\n",
      "/home/et/miniconda3/envs/llava_next/lib/python3.11/site-packages/torch/nn/modules/module.py:2025: UserWarning: for vision_model.encoder.layers.7.layer_norm2.bias: copying from a non-meta parameter in the checkpoint to a meta parameter in the current model, which is a no-op. (Did you mean to pass `assign=True` to assign items in the state dictionary to their corresponding key in the module instead of copying them in place?)\n",
      "  warnings.warn(f'for {key}: copying from a non-meta parameter in the checkpoint to a meta '\n",
      "/home/et/miniconda3/envs/llava_next/lib/python3.11/site-packages/torch/nn/modules/module.py:2025: UserWarning: for vision_model.encoder.layers.8.self_attn.k_proj.weight: copying from a non-meta parameter in the checkpoint to a meta parameter in the current model, which is a no-op. (Did you mean to pass `assign=True` to assign items in the state dictionary to their corresponding key in the module instead of copying them in place?)\n",
      "  warnings.warn(f'for {key}: copying from a non-meta parameter in the checkpoint to a meta '\n",
      "/home/et/miniconda3/envs/llava_next/lib/python3.11/site-packages/torch/nn/modules/module.py:2025: UserWarning: for vision_model.encoder.layers.8.self_attn.k_proj.bias: copying from a non-meta parameter in the checkpoint to a meta parameter in the current model, which is a no-op. (Did you mean to pass `assign=True` to assign items in the state dictionary to their corresponding key in the module instead of copying them in place?)\n",
      "  warnings.warn(f'for {key}: copying from a non-meta parameter in the checkpoint to a meta '\n",
      "/home/et/miniconda3/envs/llava_next/lib/python3.11/site-packages/torch/nn/modules/module.py:2025: UserWarning: for vision_model.encoder.layers.8.self_attn.v_proj.weight: copying from a non-meta parameter in the checkpoint to a meta parameter in the current model, which is a no-op. (Did you mean to pass `assign=True` to assign items in the state dictionary to their corresponding key in the module instead of copying them in place?)\n",
      "  warnings.warn(f'for {key}: copying from a non-meta parameter in the checkpoint to a meta '\n",
      "/home/et/miniconda3/envs/llava_next/lib/python3.11/site-packages/torch/nn/modules/module.py:2025: UserWarning: for vision_model.encoder.layers.8.self_attn.v_proj.bias: copying from a non-meta parameter in the checkpoint to a meta parameter in the current model, which is a no-op. (Did you mean to pass `assign=True` to assign items in the state dictionary to their corresponding key in the module instead of copying them in place?)\n",
      "  warnings.warn(f'for {key}: copying from a non-meta parameter in the checkpoint to a meta '\n",
      "/home/et/miniconda3/envs/llava_next/lib/python3.11/site-packages/torch/nn/modules/module.py:2025: UserWarning: for vision_model.encoder.layers.8.self_attn.q_proj.weight: copying from a non-meta parameter in the checkpoint to a meta parameter in the current model, which is a no-op. (Did you mean to pass `assign=True` to assign items in the state dictionary to their corresponding key in the module instead of copying them in place?)\n",
      "  warnings.warn(f'for {key}: copying from a non-meta parameter in the checkpoint to a meta '\n",
      "/home/et/miniconda3/envs/llava_next/lib/python3.11/site-packages/torch/nn/modules/module.py:2025: UserWarning: for vision_model.encoder.layers.8.self_attn.q_proj.bias: copying from a non-meta parameter in the checkpoint to a meta parameter in the current model, which is a no-op. (Did you mean to pass `assign=True` to assign items in the state dictionary to their corresponding key in the module instead of copying them in place?)\n",
      "  warnings.warn(f'for {key}: copying from a non-meta parameter in the checkpoint to a meta '\n",
      "/home/et/miniconda3/envs/llava_next/lib/python3.11/site-packages/torch/nn/modules/module.py:2025: UserWarning: for vision_model.encoder.layers.8.self_attn.out_proj.weight: copying from a non-meta parameter in the checkpoint to a meta parameter in the current model, which is a no-op. (Did you mean to pass `assign=True` to assign items in the state dictionary to their corresponding key in the module instead of copying them in place?)\n",
      "  warnings.warn(f'for {key}: copying from a non-meta parameter in the checkpoint to a meta '\n",
      "/home/et/miniconda3/envs/llava_next/lib/python3.11/site-packages/torch/nn/modules/module.py:2025: UserWarning: for vision_model.encoder.layers.8.self_attn.out_proj.bias: copying from a non-meta parameter in the checkpoint to a meta parameter in the current model, which is a no-op. (Did you mean to pass `assign=True` to assign items in the state dictionary to their corresponding key in the module instead of copying them in place?)\n",
      "  warnings.warn(f'for {key}: copying from a non-meta parameter in the checkpoint to a meta '\n",
      "/home/et/miniconda3/envs/llava_next/lib/python3.11/site-packages/torch/nn/modules/module.py:2025: UserWarning: for vision_model.encoder.layers.8.layer_norm1.weight: copying from a non-meta parameter in the checkpoint to a meta parameter in the current model, which is a no-op. (Did you mean to pass `assign=True` to assign items in the state dictionary to their corresponding key in the module instead of copying them in place?)\n",
      "  warnings.warn(f'for {key}: copying from a non-meta parameter in the checkpoint to a meta '\n",
      "/home/et/miniconda3/envs/llava_next/lib/python3.11/site-packages/torch/nn/modules/module.py:2025: UserWarning: for vision_model.encoder.layers.8.layer_norm1.bias: copying from a non-meta parameter in the checkpoint to a meta parameter in the current model, which is a no-op. (Did you mean to pass `assign=True` to assign items in the state dictionary to their corresponding key in the module instead of copying them in place?)\n",
      "  warnings.warn(f'for {key}: copying from a non-meta parameter in the checkpoint to a meta '\n",
      "/home/et/miniconda3/envs/llava_next/lib/python3.11/site-packages/torch/nn/modules/module.py:2025: UserWarning: for vision_model.encoder.layers.8.mlp.fc1.weight: copying from a non-meta parameter in the checkpoint to a meta parameter in the current model, which is a no-op. (Did you mean to pass `assign=True` to assign items in the state dictionary to their corresponding key in the module instead of copying them in place?)\n",
      "  warnings.warn(f'for {key}: copying from a non-meta parameter in the checkpoint to a meta '\n",
      "/home/et/miniconda3/envs/llava_next/lib/python3.11/site-packages/torch/nn/modules/module.py:2025: UserWarning: for vision_model.encoder.layers.8.mlp.fc1.bias: copying from a non-meta parameter in the checkpoint to a meta parameter in the current model, which is a no-op. (Did you mean to pass `assign=True` to assign items in the state dictionary to their corresponding key in the module instead of copying them in place?)\n",
      "  warnings.warn(f'for {key}: copying from a non-meta parameter in the checkpoint to a meta '\n",
      "/home/et/miniconda3/envs/llava_next/lib/python3.11/site-packages/torch/nn/modules/module.py:2025: UserWarning: for vision_model.encoder.layers.8.mlp.fc2.weight: copying from a non-meta parameter in the checkpoint to a meta parameter in the current model, which is a no-op. (Did you mean to pass `assign=True` to assign items in the state dictionary to their corresponding key in the module instead of copying them in place?)\n",
      "  warnings.warn(f'for {key}: copying from a non-meta parameter in the checkpoint to a meta '\n",
      "/home/et/miniconda3/envs/llava_next/lib/python3.11/site-packages/torch/nn/modules/module.py:2025: UserWarning: for vision_model.encoder.layers.8.mlp.fc2.bias: copying from a non-meta parameter in the checkpoint to a meta parameter in the current model, which is a no-op. (Did you mean to pass `assign=True` to assign items in the state dictionary to their corresponding key in the module instead of copying them in place?)\n",
      "  warnings.warn(f'for {key}: copying from a non-meta parameter in the checkpoint to a meta '\n",
      "/home/et/miniconda3/envs/llava_next/lib/python3.11/site-packages/torch/nn/modules/module.py:2025: UserWarning: for vision_model.encoder.layers.8.layer_norm2.weight: copying from a non-meta parameter in the checkpoint to a meta parameter in the current model, which is a no-op. (Did you mean to pass `assign=True` to assign items in the state dictionary to their corresponding key in the module instead of copying them in place?)\n",
      "  warnings.warn(f'for {key}: copying from a non-meta parameter in the checkpoint to a meta '\n",
      "/home/et/miniconda3/envs/llava_next/lib/python3.11/site-packages/torch/nn/modules/module.py:2025: UserWarning: for vision_model.encoder.layers.8.layer_norm2.bias: copying from a non-meta parameter in the checkpoint to a meta parameter in the current model, which is a no-op. (Did you mean to pass `assign=True` to assign items in the state dictionary to their corresponding key in the module instead of copying them in place?)\n",
      "  warnings.warn(f'for {key}: copying from a non-meta parameter in the checkpoint to a meta '\n",
      "/home/et/miniconda3/envs/llava_next/lib/python3.11/site-packages/torch/nn/modules/module.py:2025: UserWarning: for vision_model.encoder.layers.9.self_attn.k_proj.weight: copying from a non-meta parameter in the checkpoint to a meta parameter in the current model, which is a no-op. (Did you mean to pass `assign=True` to assign items in the state dictionary to their corresponding key in the module instead of copying them in place?)\n",
      "  warnings.warn(f'for {key}: copying from a non-meta parameter in the checkpoint to a meta '\n",
      "/home/et/miniconda3/envs/llava_next/lib/python3.11/site-packages/torch/nn/modules/module.py:2025: UserWarning: for vision_model.encoder.layers.9.self_attn.k_proj.bias: copying from a non-meta parameter in the checkpoint to a meta parameter in the current model, which is a no-op. (Did you mean to pass `assign=True` to assign items in the state dictionary to their corresponding key in the module instead of copying them in place?)\n",
      "  warnings.warn(f'for {key}: copying from a non-meta parameter in the checkpoint to a meta '\n",
      "/home/et/miniconda3/envs/llava_next/lib/python3.11/site-packages/torch/nn/modules/module.py:2025: UserWarning: for vision_model.encoder.layers.9.self_attn.v_proj.weight: copying from a non-meta parameter in the checkpoint to a meta parameter in the current model, which is a no-op. (Did you mean to pass `assign=True` to assign items in the state dictionary to their corresponding key in the module instead of copying them in place?)\n",
      "  warnings.warn(f'for {key}: copying from a non-meta parameter in the checkpoint to a meta '\n",
      "/home/et/miniconda3/envs/llava_next/lib/python3.11/site-packages/torch/nn/modules/module.py:2025: UserWarning: for vision_model.encoder.layers.9.self_attn.v_proj.bias: copying from a non-meta parameter in the checkpoint to a meta parameter in the current model, which is a no-op. (Did you mean to pass `assign=True` to assign items in the state dictionary to their corresponding key in the module instead of copying them in place?)\n",
      "  warnings.warn(f'for {key}: copying from a non-meta parameter in the checkpoint to a meta '\n",
      "/home/et/miniconda3/envs/llava_next/lib/python3.11/site-packages/torch/nn/modules/module.py:2025: UserWarning: for vision_model.encoder.layers.9.self_attn.q_proj.weight: copying from a non-meta parameter in the checkpoint to a meta parameter in the current model, which is a no-op. (Did you mean to pass `assign=True` to assign items in the state dictionary to their corresponding key in the module instead of copying them in place?)\n",
      "  warnings.warn(f'for {key}: copying from a non-meta parameter in the checkpoint to a meta '\n",
      "/home/et/miniconda3/envs/llava_next/lib/python3.11/site-packages/torch/nn/modules/module.py:2025: UserWarning: for vision_model.encoder.layers.9.self_attn.q_proj.bias: copying from a non-meta parameter in the checkpoint to a meta parameter in the current model, which is a no-op. (Did you mean to pass `assign=True` to assign items in the state dictionary to their corresponding key in the module instead of copying them in place?)\n",
      "  warnings.warn(f'for {key}: copying from a non-meta parameter in the checkpoint to a meta '\n",
      "/home/et/miniconda3/envs/llava_next/lib/python3.11/site-packages/torch/nn/modules/module.py:2025: UserWarning: for vision_model.encoder.layers.9.self_attn.out_proj.weight: copying from a non-meta parameter in the checkpoint to a meta parameter in the current model, which is a no-op. (Did you mean to pass `assign=True` to assign items in the state dictionary to their corresponding key in the module instead of copying them in place?)\n",
      "  warnings.warn(f'for {key}: copying from a non-meta parameter in the checkpoint to a meta '\n",
      "/home/et/miniconda3/envs/llava_next/lib/python3.11/site-packages/torch/nn/modules/module.py:2025: UserWarning: for vision_model.encoder.layers.9.self_attn.out_proj.bias: copying from a non-meta parameter in the checkpoint to a meta parameter in the current model, which is a no-op. (Did you mean to pass `assign=True` to assign items in the state dictionary to their corresponding key in the module instead of copying them in place?)\n",
      "  warnings.warn(f'for {key}: copying from a non-meta parameter in the checkpoint to a meta '\n",
      "/home/et/miniconda3/envs/llava_next/lib/python3.11/site-packages/torch/nn/modules/module.py:2025: UserWarning: for vision_model.encoder.layers.9.layer_norm1.weight: copying from a non-meta parameter in the checkpoint to a meta parameter in the current model, which is a no-op. (Did you mean to pass `assign=True` to assign items in the state dictionary to their corresponding key in the module instead of copying them in place?)\n",
      "  warnings.warn(f'for {key}: copying from a non-meta parameter in the checkpoint to a meta '\n",
      "/home/et/miniconda3/envs/llava_next/lib/python3.11/site-packages/torch/nn/modules/module.py:2025: UserWarning: for vision_model.encoder.layers.9.layer_norm1.bias: copying from a non-meta parameter in the checkpoint to a meta parameter in the current model, which is a no-op. (Did you mean to pass `assign=True` to assign items in the state dictionary to their corresponding key in the module instead of copying them in place?)\n",
      "  warnings.warn(f'for {key}: copying from a non-meta parameter in the checkpoint to a meta '\n",
      "/home/et/miniconda3/envs/llava_next/lib/python3.11/site-packages/torch/nn/modules/module.py:2025: UserWarning: for vision_model.encoder.layers.9.mlp.fc1.weight: copying from a non-meta parameter in the checkpoint to a meta parameter in the current model, which is a no-op. (Did you mean to pass `assign=True` to assign items in the state dictionary to their corresponding key in the module instead of copying them in place?)\n",
      "  warnings.warn(f'for {key}: copying from a non-meta parameter in the checkpoint to a meta '\n",
      "/home/et/miniconda3/envs/llava_next/lib/python3.11/site-packages/torch/nn/modules/module.py:2025: UserWarning: for vision_model.encoder.layers.9.mlp.fc1.bias: copying from a non-meta parameter in the checkpoint to a meta parameter in the current model, which is a no-op. (Did you mean to pass `assign=True` to assign items in the state dictionary to their corresponding key in the module instead of copying them in place?)\n",
      "  warnings.warn(f'for {key}: copying from a non-meta parameter in the checkpoint to a meta '\n",
      "/home/et/miniconda3/envs/llava_next/lib/python3.11/site-packages/torch/nn/modules/module.py:2025: UserWarning: for vision_model.encoder.layers.9.mlp.fc2.weight: copying from a non-meta parameter in the checkpoint to a meta parameter in the current model, which is a no-op. (Did you mean to pass `assign=True` to assign items in the state dictionary to their corresponding key in the module instead of copying them in place?)\n",
      "  warnings.warn(f'for {key}: copying from a non-meta parameter in the checkpoint to a meta '\n",
      "/home/et/miniconda3/envs/llava_next/lib/python3.11/site-packages/torch/nn/modules/module.py:2025: UserWarning: for vision_model.encoder.layers.9.mlp.fc2.bias: copying from a non-meta parameter in the checkpoint to a meta parameter in the current model, which is a no-op. (Did you mean to pass `assign=True` to assign items in the state dictionary to their corresponding key in the module instead of copying them in place?)\n",
      "  warnings.warn(f'for {key}: copying from a non-meta parameter in the checkpoint to a meta '\n",
      "/home/et/miniconda3/envs/llava_next/lib/python3.11/site-packages/torch/nn/modules/module.py:2025: UserWarning: for vision_model.encoder.layers.9.layer_norm2.weight: copying from a non-meta parameter in the checkpoint to a meta parameter in the current model, which is a no-op. (Did you mean to pass `assign=True` to assign items in the state dictionary to their corresponding key in the module instead of copying them in place?)\n",
      "  warnings.warn(f'for {key}: copying from a non-meta parameter in the checkpoint to a meta '\n",
      "/home/et/miniconda3/envs/llava_next/lib/python3.11/site-packages/torch/nn/modules/module.py:2025: UserWarning: for vision_model.encoder.layers.9.layer_norm2.bias: copying from a non-meta parameter in the checkpoint to a meta parameter in the current model, which is a no-op. (Did you mean to pass `assign=True` to assign items in the state dictionary to their corresponding key in the module instead of copying them in place?)\n",
      "  warnings.warn(f'for {key}: copying from a non-meta parameter in the checkpoint to a meta '\n",
      "/home/et/miniconda3/envs/llava_next/lib/python3.11/site-packages/torch/nn/modules/module.py:2025: UserWarning: for vision_model.encoder.layers.10.self_attn.k_proj.weight: copying from a non-meta parameter in the checkpoint to a meta parameter in the current model, which is a no-op. (Did you mean to pass `assign=True` to assign items in the state dictionary to their corresponding key in the module instead of copying them in place?)\n",
      "  warnings.warn(f'for {key}: copying from a non-meta parameter in the checkpoint to a meta '\n",
      "/home/et/miniconda3/envs/llava_next/lib/python3.11/site-packages/torch/nn/modules/module.py:2025: UserWarning: for vision_model.encoder.layers.10.self_attn.k_proj.bias: copying from a non-meta parameter in the checkpoint to a meta parameter in the current model, which is a no-op. (Did you mean to pass `assign=True` to assign items in the state dictionary to their corresponding key in the module instead of copying them in place?)\n",
      "  warnings.warn(f'for {key}: copying from a non-meta parameter in the checkpoint to a meta '\n",
      "/home/et/miniconda3/envs/llava_next/lib/python3.11/site-packages/torch/nn/modules/module.py:2025: UserWarning: for vision_model.encoder.layers.10.self_attn.v_proj.weight: copying from a non-meta parameter in the checkpoint to a meta parameter in the current model, which is a no-op. (Did you mean to pass `assign=True` to assign items in the state dictionary to their corresponding key in the module instead of copying them in place?)\n",
      "  warnings.warn(f'for {key}: copying from a non-meta parameter in the checkpoint to a meta '\n",
      "/home/et/miniconda3/envs/llava_next/lib/python3.11/site-packages/torch/nn/modules/module.py:2025: UserWarning: for vision_model.encoder.layers.10.self_attn.v_proj.bias: copying from a non-meta parameter in the checkpoint to a meta parameter in the current model, which is a no-op. (Did you mean to pass `assign=True` to assign items in the state dictionary to their corresponding key in the module instead of copying them in place?)\n",
      "  warnings.warn(f'for {key}: copying from a non-meta parameter in the checkpoint to a meta '\n",
      "/home/et/miniconda3/envs/llava_next/lib/python3.11/site-packages/torch/nn/modules/module.py:2025: UserWarning: for vision_model.encoder.layers.10.self_attn.q_proj.weight: copying from a non-meta parameter in the checkpoint to a meta parameter in the current model, which is a no-op. (Did you mean to pass `assign=True` to assign items in the state dictionary to their corresponding key in the module instead of copying them in place?)\n",
      "  warnings.warn(f'for {key}: copying from a non-meta parameter in the checkpoint to a meta '\n",
      "/home/et/miniconda3/envs/llava_next/lib/python3.11/site-packages/torch/nn/modules/module.py:2025: UserWarning: for vision_model.encoder.layers.10.self_attn.q_proj.bias: copying from a non-meta parameter in the checkpoint to a meta parameter in the current model, which is a no-op. (Did you mean to pass `assign=True` to assign items in the state dictionary to their corresponding key in the module instead of copying them in place?)\n",
      "  warnings.warn(f'for {key}: copying from a non-meta parameter in the checkpoint to a meta '\n",
      "/home/et/miniconda3/envs/llava_next/lib/python3.11/site-packages/torch/nn/modules/module.py:2025: UserWarning: for vision_model.encoder.layers.10.self_attn.out_proj.weight: copying from a non-meta parameter in the checkpoint to a meta parameter in the current model, which is a no-op. (Did you mean to pass `assign=True` to assign items in the state dictionary to their corresponding key in the module instead of copying them in place?)\n",
      "  warnings.warn(f'for {key}: copying from a non-meta parameter in the checkpoint to a meta '\n",
      "/home/et/miniconda3/envs/llava_next/lib/python3.11/site-packages/torch/nn/modules/module.py:2025: UserWarning: for vision_model.encoder.layers.10.self_attn.out_proj.bias: copying from a non-meta parameter in the checkpoint to a meta parameter in the current model, which is a no-op. (Did you mean to pass `assign=True` to assign items in the state dictionary to their corresponding key in the module instead of copying them in place?)\n",
      "  warnings.warn(f'for {key}: copying from a non-meta parameter in the checkpoint to a meta '\n",
      "/home/et/miniconda3/envs/llava_next/lib/python3.11/site-packages/torch/nn/modules/module.py:2025: UserWarning: for vision_model.encoder.layers.10.layer_norm1.weight: copying from a non-meta parameter in the checkpoint to a meta parameter in the current model, which is a no-op. (Did you mean to pass `assign=True` to assign items in the state dictionary to their corresponding key in the module instead of copying them in place?)\n",
      "  warnings.warn(f'for {key}: copying from a non-meta parameter in the checkpoint to a meta '\n",
      "/home/et/miniconda3/envs/llava_next/lib/python3.11/site-packages/torch/nn/modules/module.py:2025: UserWarning: for vision_model.encoder.layers.10.layer_norm1.bias: copying from a non-meta parameter in the checkpoint to a meta parameter in the current model, which is a no-op. (Did you mean to pass `assign=True` to assign items in the state dictionary to their corresponding key in the module instead of copying them in place?)\n",
      "  warnings.warn(f'for {key}: copying from a non-meta parameter in the checkpoint to a meta '\n",
      "/home/et/miniconda3/envs/llava_next/lib/python3.11/site-packages/torch/nn/modules/module.py:2025: UserWarning: for vision_model.encoder.layers.10.mlp.fc1.weight: copying from a non-meta parameter in the checkpoint to a meta parameter in the current model, which is a no-op. (Did you mean to pass `assign=True` to assign items in the state dictionary to their corresponding key in the module instead of copying them in place?)\n",
      "  warnings.warn(f'for {key}: copying from a non-meta parameter in the checkpoint to a meta '\n",
      "/home/et/miniconda3/envs/llava_next/lib/python3.11/site-packages/torch/nn/modules/module.py:2025: UserWarning: for vision_model.encoder.layers.10.mlp.fc1.bias: copying from a non-meta parameter in the checkpoint to a meta parameter in the current model, which is a no-op. (Did you mean to pass `assign=True` to assign items in the state dictionary to their corresponding key in the module instead of copying them in place?)\n",
      "  warnings.warn(f'for {key}: copying from a non-meta parameter in the checkpoint to a meta '\n",
      "/home/et/miniconda3/envs/llava_next/lib/python3.11/site-packages/torch/nn/modules/module.py:2025: UserWarning: for vision_model.encoder.layers.10.mlp.fc2.weight: copying from a non-meta parameter in the checkpoint to a meta parameter in the current model, which is a no-op. (Did you mean to pass `assign=True` to assign items in the state dictionary to their corresponding key in the module instead of copying them in place?)\n",
      "  warnings.warn(f'for {key}: copying from a non-meta parameter in the checkpoint to a meta '\n",
      "/home/et/miniconda3/envs/llava_next/lib/python3.11/site-packages/torch/nn/modules/module.py:2025: UserWarning: for vision_model.encoder.layers.10.mlp.fc2.bias: copying from a non-meta parameter in the checkpoint to a meta parameter in the current model, which is a no-op. (Did you mean to pass `assign=True` to assign items in the state dictionary to their corresponding key in the module instead of copying them in place?)\n",
      "  warnings.warn(f'for {key}: copying from a non-meta parameter in the checkpoint to a meta '\n",
      "/home/et/miniconda3/envs/llava_next/lib/python3.11/site-packages/torch/nn/modules/module.py:2025: UserWarning: for vision_model.encoder.layers.10.layer_norm2.weight: copying from a non-meta parameter in the checkpoint to a meta parameter in the current model, which is a no-op. (Did you mean to pass `assign=True` to assign items in the state dictionary to their corresponding key in the module instead of copying them in place?)\n",
      "  warnings.warn(f'for {key}: copying from a non-meta parameter in the checkpoint to a meta '\n",
      "/home/et/miniconda3/envs/llava_next/lib/python3.11/site-packages/torch/nn/modules/module.py:2025: UserWarning: for vision_model.encoder.layers.10.layer_norm2.bias: copying from a non-meta parameter in the checkpoint to a meta parameter in the current model, which is a no-op. (Did you mean to pass `assign=True` to assign items in the state dictionary to their corresponding key in the module instead of copying them in place?)\n",
      "  warnings.warn(f'for {key}: copying from a non-meta parameter in the checkpoint to a meta '\n",
      "/home/et/miniconda3/envs/llava_next/lib/python3.11/site-packages/torch/nn/modules/module.py:2025: UserWarning: for vision_model.encoder.layers.11.self_attn.k_proj.weight: copying from a non-meta parameter in the checkpoint to a meta parameter in the current model, which is a no-op. (Did you mean to pass `assign=True` to assign items in the state dictionary to their corresponding key in the module instead of copying them in place?)\n",
      "  warnings.warn(f'for {key}: copying from a non-meta parameter in the checkpoint to a meta '\n",
      "/home/et/miniconda3/envs/llava_next/lib/python3.11/site-packages/torch/nn/modules/module.py:2025: UserWarning: for vision_model.encoder.layers.11.self_attn.k_proj.bias: copying from a non-meta parameter in the checkpoint to a meta parameter in the current model, which is a no-op. (Did you mean to pass `assign=True` to assign items in the state dictionary to their corresponding key in the module instead of copying them in place?)\n",
      "  warnings.warn(f'for {key}: copying from a non-meta parameter in the checkpoint to a meta '\n",
      "/home/et/miniconda3/envs/llava_next/lib/python3.11/site-packages/torch/nn/modules/module.py:2025: UserWarning: for vision_model.encoder.layers.11.self_attn.v_proj.weight: copying from a non-meta parameter in the checkpoint to a meta parameter in the current model, which is a no-op. (Did you mean to pass `assign=True` to assign items in the state dictionary to their corresponding key in the module instead of copying them in place?)\n",
      "  warnings.warn(f'for {key}: copying from a non-meta parameter in the checkpoint to a meta '\n",
      "/home/et/miniconda3/envs/llava_next/lib/python3.11/site-packages/torch/nn/modules/module.py:2025: UserWarning: for vision_model.encoder.layers.11.self_attn.v_proj.bias: copying from a non-meta parameter in the checkpoint to a meta parameter in the current model, which is a no-op. (Did you mean to pass `assign=True` to assign items in the state dictionary to their corresponding key in the module instead of copying them in place?)\n",
      "  warnings.warn(f'for {key}: copying from a non-meta parameter in the checkpoint to a meta '\n",
      "/home/et/miniconda3/envs/llava_next/lib/python3.11/site-packages/torch/nn/modules/module.py:2025: UserWarning: for vision_model.encoder.layers.11.self_attn.q_proj.weight: copying from a non-meta parameter in the checkpoint to a meta parameter in the current model, which is a no-op. (Did you mean to pass `assign=True` to assign items in the state dictionary to their corresponding key in the module instead of copying them in place?)\n",
      "  warnings.warn(f'for {key}: copying from a non-meta parameter in the checkpoint to a meta '\n",
      "/home/et/miniconda3/envs/llava_next/lib/python3.11/site-packages/torch/nn/modules/module.py:2025: UserWarning: for vision_model.encoder.layers.11.self_attn.q_proj.bias: copying from a non-meta parameter in the checkpoint to a meta parameter in the current model, which is a no-op. (Did you mean to pass `assign=True` to assign items in the state dictionary to their corresponding key in the module instead of copying them in place?)\n",
      "  warnings.warn(f'for {key}: copying from a non-meta parameter in the checkpoint to a meta '\n",
      "/home/et/miniconda3/envs/llava_next/lib/python3.11/site-packages/torch/nn/modules/module.py:2025: UserWarning: for vision_model.encoder.layers.11.self_attn.out_proj.weight: copying from a non-meta parameter in the checkpoint to a meta parameter in the current model, which is a no-op. (Did you mean to pass `assign=True` to assign items in the state dictionary to their corresponding key in the module instead of copying them in place?)\n",
      "  warnings.warn(f'for {key}: copying from a non-meta parameter in the checkpoint to a meta '\n",
      "/home/et/miniconda3/envs/llava_next/lib/python3.11/site-packages/torch/nn/modules/module.py:2025: UserWarning: for vision_model.encoder.layers.11.self_attn.out_proj.bias: copying from a non-meta parameter in the checkpoint to a meta parameter in the current model, which is a no-op. (Did you mean to pass `assign=True` to assign items in the state dictionary to their corresponding key in the module instead of copying them in place?)\n",
      "  warnings.warn(f'for {key}: copying from a non-meta parameter in the checkpoint to a meta '\n",
      "/home/et/miniconda3/envs/llava_next/lib/python3.11/site-packages/torch/nn/modules/module.py:2025: UserWarning: for vision_model.encoder.layers.11.layer_norm1.weight: copying from a non-meta parameter in the checkpoint to a meta parameter in the current model, which is a no-op. (Did you mean to pass `assign=True` to assign items in the state dictionary to their corresponding key in the module instead of copying them in place?)\n",
      "  warnings.warn(f'for {key}: copying from a non-meta parameter in the checkpoint to a meta '\n",
      "/home/et/miniconda3/envs/llava_next/lib/python3.11/site-packages/torch/nn/modules/module.py:2025: UserWarning: for vision_model.encoder.layers.11.layer_norm1.bias: copying from a non-meta parameter in the checkpoint to a meta parameter in the current model, which is a no-op. (Did you mean to pass `assign=True` to assign items in the state dictionary to their corresponding key in the module instead of copying them in place?)\n",
      "  warnings.warn(f'for {key}: copying from a non-meta parameter in the checkpoint to a meta '\n",
      "/home/et/miniconda3/envs/llava_next/lib/python3.11/site-packages/torch/nn/modules/module.py:2025: UserWarning: for vision_model.encoder.layers.11.mlp.fc1.weight: copying from a non-meta parameter in the checkpoint to a meta parameter in the current model, which is a no-op. (Did you mean to pass `assign=True` to assign items in the state dictionary to their corresponding key in the module instead of copying them in place?)\n",
      "  warnings.warn(f'for {key}: copying from a non-meta parameter in the checkpoint to a meta '\n",
      "/home/et/miniconda3/envs/llava_next/lib/python3.11/site-packages/torch/nn/modules/module.py:2025: UserWarning: for vision_model.encoder.layers.11.mlp.fc1.bias: copying from a non-meta parameter in the checkpoint to a meta parameter in the current model, which is a no-op. (Did you mean to pass `assign=True` to assign items in the state dictionary to their corresponding key in the module instead of copying them in place?)\n",
      "  warnings.warn(f'for {key}: copying from a non-meta parameter in the checkpoint to a meta '\n",
      "/home/et/miniconda3/envs/llava_next/lib/python3.11/site-packages/torch/nn/modules/module.py:2025: UserWarning: for vision_model.encoder.layers.11.mlp.fc2.weight: copying from a non-meta parameter in the checkpoint to a meta parameter in the current model, which is a no-op. (Did you mean to pass `assign=True` to assign items in the state dictionary to their corresponding key in the module instead of copying them in place?)\n",
      "  warnings.warn(f'for {key}: copying from a non-meta parameter in the checkpoint to a meta '\n",
      "/home/et/miniconda3/envs/llava_next/lib/python3.11/site-packages/torch/nn/modules/module.py:2025: UserWarning: for vision_model.encoder.layers.11.mlp.fc2.bias: copying from a non-meta parameter in the checkpoint to a meta parameter in the current model, which is a no-op. (Did you mean to pass `assign=True` to assign items in the state dictionary to their corresponding key in the module instead of copying them in place?)\n",
      "  warnings.warn(f'for {key}: copying from a non-meta parameter in the checkpoint to a meta '\n",
      "/home/et/miniconda3/envs/llava_next/lib/python3.11/site-packages/torch/nn/modules/module.py:2025: UserWarning: for vision_model.encoder.layers.11.layer_norm2.weight: copying from a non-meta parameter in the checkpoint to a meta parameter in the current model, which is a no-op. (Did you mean to pass `assign=True` to assign items in the state dictionary to their corresponding key in the module instead of copying them in place?)\n",
      "  warnings.warn(f'for {key}: copying from a non-meta parameter in the checkpoint to a meta '\n",
      "/home/et/miniconda3/envs/llava_next/lib/python3.11/site-packages/torch/nn/modules/module.py:2025: UserWarning: for vision_model.encoder.layers.11.layer_norm2.bias: copying from a non-meta parameter in the checkpoint to a meta parameter in the current model, which is a no-op. (Did you mean to pass `assign=True` to assign items in the state dictionary to their corresponding key in the module instead of copying them in place?)\n",
      "  warnings.warn(f'for {key}: copying from a non-meta parameter in the checkpoint to a meta '\n",
      "/home/et/miniconda3/envs/llava_next/lib/python3.11/site-packages/torch/nn/modules/module.py:2025: UserWarning: for vision_model.encoder.layers.12.self_attn.k_proj.weight: copying from a non-meta parameter in the checkpoint to a meta parameter in the current model, which is a no-op. (Did you mean to pass `assign=True` to assign items in the state dictionary to their corresponding key in the module instead of copying them in place?)\n",
      "  warnings.warn(f'for {key}: copying from a non-meta parameter in the checkpoint to a meta '\n",
      "/home/et/miniconda3/envs/llava_next/lib/python3.11/site-packages/torch/nn/modules/module.py:2025: UserWarning: for vision_model.encoder.layers.12.self_attn.k_proj.bias: copying from a non-meta parameter in the checkpoint to a meta parameter in the current model, which is a no-op. (Did you mean to pass `assign=True` to assign items in the state dictionary to their corresponding key in the module instead of copying them in place?)\n",
      "  warnings.warn(f'for {key}: copying from a non-meta parameter in the checkpoint to a meta '\n",
      "/home/et/miniconda3/envs/llava_next/lib/python3.11/site-packages/torch/nn/modules/module.py:2025: UserWarning: for vision_model.encoder.layers.12.self_attn.v_proj.weight: copying from a non-meta parameter in the checkpoint to a meta parameter in the current model, which is a no-op. (Did you mean to pass `assign=True` to assign items in the state dictionary to their corresponding key in the module instead of copying them in place?)\n",
      "  warnings.warn(f'for {key}: copying from a non-meta parameter in the checkpoint to a meta '\n",
      "/home/et/miniconda3/envs/llava_next/lib/python3.11/site-packages/torch/nn/modules/module.py:2025: UserWarning: for vision_model.encoder.layers.12.self_attn.v_proj.bias: copying from a non-meta parameter in the checkpoint to a meta parameter in the current model, which is a no-op. (Did you mean to pass `assign=True` to assign items in the state dictionary to their corresponding key in the module instead of copying them in place?)\n",
      "  warnings.warn(f'for {key}: copying from a non-meta parameter in the checkpoint to a meta '\n",
      "/home/et/miniconda3/envs/llava_next/lib/python3.11/site-packages/torch/nn/modules/module.py:2025: UserWarning: for vision_model.encoder.layers.12.self_attn.q_proj.weight: copying from a non-meta parameter in the checkpoint to a meta parameter in the current model, which is a no-op. (Did you mean to pass `assign=True` to assign items in the state dictionary to their corresponding key in the module instead of copying them in place?)\n",
      "  warnings.warn(f'for {key}: copying from a non-meta parameter in the checkpoint to a meta '\n",
      "/home/et/miniconda3/envs/llava_next/lib/python3.11/site-packages/torch/nn/modules/module.py:2025: UserWarning: for vision_model.encoder.layers.12.self_attn.q_proj.bias: copying from a non-meta parameter in the checkpoint to a meta parameter in the current model, which is a no-op. (Did you mean to pass `assign=True` to assign items in the state dictionary to their corresponding key in the module instead of copying them in place?)\n",
      "  warnings.warn(f'for {key}: copying from a non-meta parameter in the checkpoint to a meta '\n",
      "/home/et/miniconda3/envs/llava_next/lib/python3.11/site-packages/torch/nn/modules/module.py:2025: UserWarning: for vision_model.encoder.layers.12.self_attn.out_proj.weight: copying from a non-meta parameter in the checkpoint to a meta parameter in the current model, which is a no-op. (Did you mean to pass `assign=True` to assign items in the state dictionary to their corresponding key in the module instead of copying them in place?)\n",
      "  warnings.warn(f'for {key}: copying from a non-meta parameter in the checkpoint to a meta '\n",
      "/home/et/miniconda3/envs/llava_next/lib/python3.11/site-packages/torch/nn/modules/module.py:2025: UserWarning: for vision_model.encoder.layers.12.self_attn.out_proj.bias: copying from a non-meta parameter in the checkpoint to a meta parameter in the current model, which is a no-op. (Did you mean to pass `assign=True` to assign items in the state dictionary to their corresponding key in the module instead of copying them in place?)\n",
      "  warnings.warn(f'for {key}: copying from a non-meta parameter in the checkpoint to a meta '\n",
      "/home/et/miniconda3/envs/llava_next/lib/python3.11/site-packages/torch/nn/modules/module.py:2025: UserWarning: for vision_model.encoder.layers.12.layer_norm1.weight: copying from a non-meta parameter in the checkpoint to a meta parameter in the current model, which is a no-op. (Did you mean to pass `assign=True` to assign items in the state dictionary to their corresponding key in the module instead of copying them in place?)\n",
      "  warnings.warn(f'for {key}: copying from a non-meta parameter in the checkpoint to a meta '\n",
      "/home/et/miniconda3/envs/llava_next/lib/python3.11/site-packages/torch/nn/modules/module.py:2025: UserWarning: for vision_model.encoder.layers.12.layer_norm1.bias: copying from a non-meta parameter in the checkpoint to a meta parameter in the current model, which is a no-op. (Did you mean to pass `assign=True` to assign items in the state dictionary to their corresponding key in the module instead of copying them in place?)\n",
      "  warnings.warn(f'for {key}: copying from a non-meta parameter in the checkpoint to a meta '\n",
      "/home/et/miniconda3/envs/llava_next/lib/python3.11/site-packages/torch/nn/modules/module.py:2025: UserWarning: for vision_model.encoder.layers.12.mlp.fc1.weight: copying from a non-meta parameter in the checkpoint to a meta parameter in the current model, which is a no-op. (Did you mean to pass `assign=True` to assign items in the state dictionary to their corresponding key in the module instead of copying them in place?)\n",
      "  warnings.warn(f'for {key}: copying from a non-meta parameter in the checkpoint to a meta '\n",
      "/home/et/miniconda3/envs/llava_next/lib/python3.11/site-packages/torch/nn/modules/module.py:2025: UserWarning: for vision_model.encoder.layers.12.mlp.fc1.bias: copying from a non-meta parameter in the checkpoint to a meta parameter in the current model, which is a no-op. (Did you mean to pass `assign=True` to assign items in the state dictionary to their corresponding key in the module instead of copying them in place?)\n",
      "  warnings.warn(f'for {key}: copying from a non-meta parameter in the checkpoint to a meta '\n",
      "/home/et/miniconda3/envs/llava_next/lib/python3.11/site-packages/torch/nn/modules/module.py:2025: UserWarning: for vision_model.encoder.layers.12.mlp.fc2.weight: copying from a non-meta parameter in the checkpoint to a meta parameter in the current model, which is a no-op. (Did you mean to pass `assign=True` to assign items in the state dictionary to their corresponding key in the module instead of copying them in place?)\n",
      "  warnings.warn(f'for {key}: copying from a non-meta parameter in the checkpoint to a meta '\n",
      "/home/et/miniconda3/envs/llava_next/lib/python3.11/site-packages/torch/nn/modules/module.py:2025: UserWarning: for vision_model.encoder.layers.12.mlp.fc2.bias: copying from a non-meta parameter in the checkpoint to a meta parameter in the current model, which is a no-op. (Did you mean to pass `assign=True` to assign items in the state dictionary to their corresponding key in the module instead of copying them in place?)\n",
      "  warnings.warn(f'for {key}: copying from a non-meta parameter in the checkpoint to a meta '\n",
      "/home/et/miniconda3/envs/llava_next/lib/python3.11/site-packages/torch/nn/modules/module.py:2025: UserWarning: for vision_model.encoder.layers.12.layer_norm2.weight: copying from a non-meta parameter in the checkpoint to a meta parameter in the current model, which is a no-op. (Did you mean to pass `assign=True` to assign items in the state dictionary to their corresponding key in the module instead of copying them in place?)\n",
      "  warnings.warn(f'for {key}: copying from a non-meta parameter in the checkpoint to a meta '\n",
      "/home/et/miniconda3/envs/llava_next/lib/python3.11/site-packages/torch/nn/modules/module.py:2025: UserWarning: for vision_model.encoder.layers.12.layer_norm2.bias: copying from a non-meta parameter in the checkpoint to a meta parameter in the current model, which is a no-op. (Did you mean to pass `assign=True` to assign items in the state dictionary to their corresponding key in the module instead of copying them in place?)\n",
      "  warnings.warn(f'for {key}: copying from a non-meta parameter in the checkpoint to a meta '\n",
      "/home/et/miniconda3/envs/llava_next/lib/python3.11/site-packages/torch/nn/modules/module.py:2025: UserWarning: for vision_model.encoder.layers.13.self_attn.k_proj.weight: copying from a non-meta parameter in the checkpoint to a meta parameter in the current model, which is a no-op. (Did you mean to pass `assign=True` to assign items in the state dictionary to their corresponding key in the module instead of copying them in place?)\n",
      "  warnings.warn(f'for {key}: copying from a non-meta parameter in the checkpoint to a meta '\n",
      "/home/et/miniconda3/envs/llava_next/lib/python3.11/site-packages/torch/nn/modules/module.py:2025: UserWarning: for vision_model.encoder.layers.13.self_attn.k_proj.bias: copying from a non-meta parameter in the checkpoint to a meta parameter in the current model, which is a no-op. (Did you mean to pass `assign=True` to assign items in the state dictionary to their corresponding key in the module instead of copying them in place?)\n",
      "  warnings.warn(f'for {key}: copying from a non-meta parameter in the checkpoint to a meta '\n",
      "/home/et/miniconda3/envs/llava_next/lib/python3.11/site-packages/torch/nn/modules/module.py:2025: UserWarning: for vision_model.encoder.layers.13.self_attn.v_proj.weight: copying from a non-meta parameter in the checkpoint to a meta parameter in the current model, which is a no-op. (Did you mean to pass `assign=True` to assign items in the state dictionary to their corresponding key in the module instead of copying them in place?)\n",
      "  warnings.warn(f'for {key}: copying from a non-meta parameter in the checkpoint to a meta '\n",
      "/home/et/miniconda3/envs/llava_next/lib/python3.11/site-packages/torch/nn/modules/module.py:2025: UserWarning: for vision_model.encoder.layers.13.self_attn.v_proj.bias: copying from a non-meta parameter in the checkpoint to a meta parameter in the current model, which is a no-op. (Did you mean to pass `assign=True` to assign items in the state dictionary to their corresponding key in the module instead of copying them in place?)\n",
      "  warnings.warn(f'for {key}: copying from a non-meta parameter in the checkpoint to a meta '\n",
      "/home/et/miniconda3/envs/llava_next/lib/python3.11/site-packages/torch/nn/modules/module.py:2025: UserWarning: for vision_model.encoder.layers.13.self_attn.q_proj.weight: copying from a non-meta parameter in the checkpoint to a meta parameter in the current model, which is a no-op. (Did you mean to pass `assign=True` to assign items in the state dictionary to their corresponding key in the module instead of copying them in place?)\n",
      "  warnings.warn(f'for {key}: copying from a non-meta parameter in the checkpoint to a meta '\n",
      "/home/et/miniconda3/envs/llava_next/lib/python3.11/site-packages/torch/nn/modules/module.py:2025: UserWarning: for vision_model.encoder.layers.13.self_attn.q_proj.bias: copying from a non-meta parameter in the checkpoint to a meta parameter in the current model, which is a no-op. (Did you mean to pass `assign=True` to assign items in the state dictionary to their corresponding key in the module instead of copying them in place?)\n",
      "  warnings.warn(f'for {key}: copying from a non-meta parameter in the checkpoint to a meta '\n",
      "/home/et/miniconda3/envs/llava_next/lib/python3.11/site-packages/torch/nn/modules/module.py:2025: UserWarning: for vision_model.encoder.layers.13.self_attn.out_proj.weight: copying from a non-meta parameter in the checkpoint to a meta parameter in the current model, which is a no-op. (Did you mean to pass `assign=True` to assign items in the state dictionary to their corresponding key in the module instead of copying them in place?)\n",
      "  warnings.warn(f'for {key}: copying from a non-meta parameter in the checkpoint to a meta '\n",
      "/home/et/miniconda3/envs/llava_next/lib/python3.11/site-packages/torch/nn/modules/module.py:2025: UserWarning: for vision_model.encoder.layers.13.self_attn.out_proj.bias: copying from a non-meta parameter in the checkpoint to a meta parameter in the current model, which is a no-op. (Did you mean to pass `assign=True` to assign items in the state dictionary to their corresponding key in the module instead of copying them in place?)\n",
      "  warnings.warn(f'for {key}: copying from a non-meta parameter in the checkpoint to a meta '\n",
      "/home/et/miniconda3/envs/llava_next/lib/python3.11/site-packages/torch/nn/modules/module.py:2025: UserWarning: for vision_model.encoder.layers.13.layer_norm1.weight: copying from a non-meta parameter in the checkpoint to a meta parameter in the current model, which is a no-op. (Did you mean to pass `assign=True` to assign items in the state dictionary to their corresponding key in the module instead of copying them in place?)\n",
      "  warnings.warn(f'for {key}: copying from a non-meta parameter in the checkpoint to a meta '\n",
      "/home/et/miniconda3/envs/llava_next/lib/python3.11/site-packages/torch/nn/modules/module.py:2025: UserWarning: for vision_model.encoder.layers.13.layer_norm1.bias: copying from a non-meta parameter in the checkpoint to a meta parameter in the current model, which is a no-op. (Did you mean to pass `assign=True` to assign items in the state dictionary to their corresponding key in the module instead of copying them in place?)\n",
      "  warnings.warn(f'for {key}: copying from a non-meta parameter in the checkpoint to a meta '\n",
      "/home/et/miniconda3/envs/llava_next/lib/python3.11/site-packages/torch/nn/modules/module.py:2025: UserWarning: for vision_model.encoder.layers.13.mlp.fc1.weight: copying from a non-meta parameter in the checkpoint to a meta parameter in the current model, which is a no-op. (Did you mean to pass `assign=True` to assign items in the state dictionary to their corresponding key in the module instead of copying them in place?)\n",
      "  warnings.warn(f'for {key}: copying from a non-meta parameter in the checkpoint to a meta '\n",
      "/home/et/miniconda3/envs/llava_next/lib/python3.11/site-packages/torch/nn/modules/module.py:2025: UserWarning: for vision_model.encoder.layers.13.mlp.fc1.bias: copying from a non-meta parameter in the checkpoint to a meta parameter in the current model, which is a no-op. (Did you mean to pass `assign=True` to assign items in the state dictionary to their corresponding key in the module instead of copying them in place?)\n",
      "  warnings.warn(f'for {key}: copying from a non-meta parameter in the checkpoint to a meta '\n",
      "/home/et/miniconda3/envs/llava_next/lib/python3.11/site-packages/torch/nn/modules/module.py:2025: UserWarning: for vision_model.encoder.layers.13.mlp.fc2.weight: copying from a non-meta parameter in the checkpoint to a meta parameter in the current model, which is a no-op. (Did you mean to pass `assign=True` to assign items in the state dictionary to their corresponding key in the module instead of copying them in place?)\n",
      "  warnings.warn(f'for {key}: copying from a non-meta parameter in the checkpoint to a meta '\n",
      "/home/et/miniconda3/envs/llava_next/lib/python3.11/site-packages/torch/nn/modules/module.py:2025: UserWarning: for vision_model.encoder.layers.13.mlp.fc2.bias: copying from a non-meta parameter in the checkpoint to a meta parameter in the current model, which is a no-op. (Did you mean to pass `assign=True` to assign items in the state dictionary to their corresponding key in the module instead of copying them in place?)\n",
      "  warnings.warn(f'for {key}: copying from a non-meta parameter in the checkpoint to a meta '\n",
      "/home/et/miniconda3/envs/llava_next/lib/python3.11/site-packages/torch/nn/modules/module.py:2025: UserWarning: for vision_model.encoder.layers.13.layer_norm2.weight: copying from a non-meta parameter in the checkpoint to a meta parameter in the current model, which is a no-op. (Did you mean to pass `assign=True` to assign items in the state dictionary to their corresponding key in the module instead of copying them in place?)\n",
      "  warnings.warn(f'for {key}: copying from a non-meta parameter in the checkpoint to a meta '\n",
      "/home/et/miniconda3/envs/llava_next/lib/python3.11/site-packages/torch/nn/modules/module.py:2025: UserWarning: for vision_model.encoder.layers.13.layer_norm2.bias: copying from a non-meta parameter in the checkpoint to a meta parameter in the current model, which is a no-op. (Did you mean to pass `assign=True` to assign items in the state dictionary to their corresponding key in the module instead of copying them in place?)\n",
      "  warnings.warn(f'for {key}: copying from a non-meta parameter in the checkpoint to a meta '\n",
      "/home/et/miniconda3/envs/llava_next/lib/python3.11/site-packages/torch/nn/modules/module.py:2025: UserWarning: for vision_model.encoder.layers.14.self_attn.k_proj.weight: copying from a non-meta parameter in the checkpoint to a meta parameter in the current model, which is a no-op. (Did you mean to pass `assign=True` to assign items in the state dictionary to their corresponding key in the module instead of copying them in place?)\n",
      "  warnings.warn(f'for {key}: copying from a non-meta parameter in the checkpoint to a meta '\n",
      "/home/et/miniconda3/envs/llava_next/lib/python3.11/site-packages/torch/nn/modules/module.py:2025: UserWarning: for vision_model.encoder.layers.14.self_attn.k_proj.bias: copying from a non-meta parameter in the checkpoint to a meta parameter in the current model, which is a no-op. (Did you mean to pass `assign=True` to assign items in the state dictionary to their corresponding key in the module instead of copying them in place?)\n",
      "  warnings.warn(f'for {key}: copying from a non-meta parameter in the checkpoint to a meta '\n",
      "/home/et/miniconda3/envs/llava_next/lib/python3.11/site-packages/torch/nn/modules/module.py:2025: UserWarning: for vision_model.encoder.layers.14.self_attn.v_proj.weight: copying from a non-meta parameter in the checkpoint to a meta parameter in the current model, which is a no-op. (Did you mean to pass `assign=True` to assign items in the state dictionary to their corresponding key in the module instead of copying them in place?)\n",
      "  warnings.warn(f'for {key}: copying from a non-meta parameter in the checkpoint to a meta '\n",
      "/home/et/miniconda3/envs/llava_next/lib/python3.11/site-packages/torch/nn/modules/module.py:2025: UserWarning: for vision_model.encoder.layers.14.self_attn.v_proj.bias: copying from a non-meta parameter in the checkpoint to a meta parameter in the current model, which is a no-op. (Did you mean to pass `assign=True` to assign items in the state dictionary to their corresponding key in the module instead of copying them in place?)\n",
      "  warnings.warn(f'for {key}: copying from a non-meta parameter in the checkpoint to a meta '\n",
      "/home/et/miniconda3/envs/llava_next/lib/python3.11/site-packages/torch/nn/modules/module.py:2025: UserWarning: for vision_model.encoder.layers.14.self_attn.q_proj.weight: copying from a non-meta parameter in the checkpoint to a meta parameter in the current model, which is a no-op. (Did you mean to pass `assign=True` to assign items in the state dictionary to their corresponding key in the module instead of copying them in place?)\n",
      "  warnings.warn(f'for {key}: copying from a non-meta parameter in the checkpoint to a meta '\n",
      "/home/et/miniconda3/envs/llava_next/lib/python3.11/site-packages/torch/nn/modules/module.py:2025: UserWarning: for vision_model.encoder.layers.14.self_attn.q_proj.bias: copying from a non-meta parameter in the checkpoint to a meta parameter in the current model, which is a no-op. (Did you mean to pass `assign=True` to assign items in the state dictionary to their corresponding key in the module instead of copying them in place?)\n",
      "  warnings.warn(f'for {key}: copying from a non-meta parameter in the checkpoint to a meta '\n",
      "/home/et/miniconda3/envs/llava_next/lib/python3.11/site-packages/torch/nn/modules/module.py:2025: UserWarning: for vision_model.encoder.layers.14.self_attn.out_proj.weight: copying from a non-meta parameter in the checkpoint to a meta parameter in the current model, which is a no-op. (Did you mean to pass `assign=True` to assign items in the state dictionary to their corresponding key in the module instead of copying them in place?)\n",
      "  warnings.warn(f'for {key}: copying from a non-meta parameter in the checkpoint to a meta '\n",
      "/home/et/miniconda3/envs/llava_next/lib/python3.11/site-packages/torch/nn/modules/module.py:2025: UserWarning: for vision_model.encoder.layers.14.self_attn.out_proj.bias: copying from a non-meta parameter in the checkpoint to a meta parameter in the current model, which is a no-op. (Did you mean to pass `assign=True` to assign items in the state dictionary to their corresponding key in the module instead of copying them in place?)\n",
      "  warnings.warn(f'for {key}: copying from a non-meta parameter in the checkpoint to a meta '\n",
      "/home/et/miniconda3/envs/llava_next/lib/python3.11/site-packages/torch/nn/modules/module.py:2025: UserWarning: for vision_model.encoder.layers.14.layer_norm1.weight: copying from a non-meta parameter in the checkpoint to a meta parameter in the current model, which is a no-op. (Did you mean to pass `assign=True` to assign items in the state dictionary to their corresponding key in the module instead of copying them in place?)\n",
      "  warnings.warn(f'for {key}: copying from a non-meta parameter in the checkpoint to a meta '\n",
      "/home/et/miniconda3/envs/llava_next/lib/python3.11/site-packages/torch/nn/modules/module.py:2025: UserWarning: for vision_model.encoder.layers.14.layer_norm1.bias: copying from a non-meta parameter in the checkpoint to a meta parameter in the current model, which is a no-op. (Did you mean to pass `assign=True` to assign items in the state dictionary to their corresponding key in the module instead of copying them in place?)\n",
      "  warnings.warn(f'for {key}: copying from a non-meta parameter in the checkpoint to a meta '\n",
      "/home/et/miniconda3/envs/llava_next/lib/python3.11/site-packages/torch/nn/modules/module.py:2025: UserWarning: for vision_model.encoder.layers.14.mlp.fc1.weight: copying from a non-meta parameter in the checkpoint to a meta parameter in the current model, which is a no-op. (Did you mean to pass `assign=True` to assign items in the state dictionary to their corresponding key in the module instead of copying them in place?)\n",
      "  warnings.warn(f'for {key}: copying from a non-meta parameter in the checkpoint to a meta '\n",
      "/home/et/miniconda3/envs/llava_next/lib/python3.11/site-packages/torch/nn/modules/module.py:2025: UserWarning: for vision_model.encoder.layers.14.mlp.fc1.bias: copying from a non-meta parameter in the checkpoint to a meta parameter in the current model, which is a no-op. (Did you mean to pass `assign=True` to assign items in the state dictionary to their corresponding key in the module instead of copying them in place?)\n",
      "  warnings.warn(f'for {key}: copying from a non-meta parameter in the checkpoint to a meta '\n",
      "/home/et/miniconda3/envs/llava_next/lib/python3.11/site-packages/torch/nn/modules/module.py:2025: UserWarning: for vision_model.encoder.layers.14.mlp.fc2.weight: copying from a non-meta parameter in the checkpoint to a meta parameter in the current model, which is a no-op. (Did you mean to pass `assign=True` to assign items in the state dictionary to their corresponding key in the module instead of copying them in place?)\n",
      "  warnings.warn(f'for {key}: copying from a non-meta parameter in the checkpoint to a meta '\n",
      "/home/et/miniconda3/envs/llava_next/lib/python3.11/site-packages/torch/nn/modules/module.py:2025: UserWarning: for vision_model.encoder.layers.14.mlp.fc2.bias: copying from a non-meta parameter in the checkpoint to a meta parameter in the current model, which is a no-op. (Did you mean to pass `assign=True` to assign items in the state dictionary to their corresponding key in the module instead of copying them in place?)\n",
      "  warnings.warn(f'for {key}: copying from a non-meta parameter in the checkpoint to a meta '\n",
      "/home/et/miniconda3/envs/llava_next/lib/python3.11/site-packages/torch/nn/modules/module.py:2025: UserWarning: for vision_model.encoder.layers.14.layer_norm2.weight: copying from a non-meta parameter in the checkpoint to a meta parameter in the current model, which is a no-op. (Did you mean to pass `assign=True` to assign items in the state dictionary to their corresponding key in the module instead of copying them in place?)\n",
      "  warnings.warn(f'for {key}: copying from a non-meta parameter in the checkpoint to a meta '\n",
      "/home/et/miniconda3/envs/llava_next/lib/python3.11/site-packages/torch/nn/modules/module.py:2025: UserWarning: for vision_model.encoder.layers.14.layer_norm2.bias: copying from a non-meta parameter in the checkpoint to a meta parameter in the current model, which is a no-op. (Did you mean to pass `assign=True` to assign items in the state dictionary to their corresponding key in the module instead of copying them in place?)\n",
      "  warnings.warn(f'for {key}: copying from a non-meta parameter in the checkpoint to a meta '\n",
      "/home/et/miniconda3/envs/llava_next/lib/python3.11/site-packages/torch/nn/modules/module.py:2025: UserWarning: for vision_model.encoder.layers.15.self_attn.k_proj.weight: copying from a non-meta parameter in the checkpoint to a meta parameter in the current model, which is a no-op. (Did you mean to pass `assign=True` to assign items in the state dictionary to their corresponding key in the module instead of copying them in place?)\n",
      "  warnings.warn(f'for {key}: copying from a non-meta parameter in the checkpoint to a meta '\n",
      "/home/et/miniconda3/envs/llava_next/lib/python3.11/site-packages/torch/nn/modules/module.py:2025: UserWarning: for vision_model.encoder.layers.15.self_attn.k_proj.bias: copying from a non-meta parameter in the checkpoint to a meta parameter in the current model, which is a no-op. (Did you mean to pass `assign=True` to assign items in the state dictionary to their corresponding key in the module instead of copying them in place?)\n",
      "  warnings.warn(f'for {key}: copying from a non-meta parameter in the checkpoint to a meta '\n",
      "/home/et/miniconda3/envs/llava_next/lib/python3.11/site-packages/torch/nn/modules/module.py:2025: UserWarning: for vision_model.encoder.layers.15.self_attn.v_proj.weight: copying from a non-meta parameter in the checkpoint to a meta parameter in the current model, which is a no-op. (Did you mean to pass `assign=True` to assign items in the state dictionary to their corresponding key in the module instead of copying them in place?)\n",
      "  warnings.warn(f'for {key}: copying from a non-meta parameter in the checkpoint to a meta '\n",
      "/home/et/miniconda3/envs/llava_next/lib/python3.11/site-packages/torch/nn/modules/module.py:2025: UserWarning: for vision_model.encoder.layers.15.self_attn.v_proj.bias: copying from a non-meta parameter in the checkpoint to a meta parameter in the current model, which is a no-op. (Did you mean to pass `assign=True` to assign items in the state dictionary to their corresponding key in the module instead of copying them in place?)\n",
      "  warnings.warn(f'for {key}: copying from a non-meta parameter in the checkpoint to a meta '\n",
      "/home/et/miniconda3/envs/llava_next/lib/python3.11/site-packages/torch/nn/modules/module.py:2025: UserWarning: for vision_model.encoder.layers.15.self_attn.q_proj.weight: copying from a non-meta parameter in the checkpoint to a meta parameter in the current model, which is a no-op. (Did you mean to pass `assign=True` to assign items in the state dictionary to their corresponding key in the module instead of copying them in place?)\n",
      "  warnings.warn(f'for {key}: copying from a non-meta parameter in the checkpoint to a meta '\n",
      "/home/et/miniconda3/envs/llava_next/lib/python3.11/site-packages/torch/nn/modules/module.py:2025: UserWarning: for vision_model.encoder.layers.15.self_attn.q_proj.bias: copying from a non-meta parameter in the checkpoint to a meta parameter in the current model, which is a no-op. (Did you mean to pass `assign=True` to assign items in the state dictionary to their corresponding key in the module instead of copying them in place?)\n",
      "  warnings.warn(f'for {key}: copying from a non-meta parameter in the checkpoint to a meta '\n",
      "/home/et/miniconda3/envs/llava_next/lib/python3.11/site-packages/torch/nn/modules/module.py:2025: UserWarning: for vision_model.encoder.layers.15.self_attn.out_proj.weight: copying from a non-meta parameter in the checkpoint to a meta parameter in the current model, which is a no-op. (Did you mean to pass `assign=True` to assign items in the state dictionary to their corresponding key in the module instead of copying them in place?)\n",
      "  warnings.warn(f'for {key}: copying from a non-meta parameter in the checkpoint to a meta '\n",
      "/home/et/miniconda3/envs/llava_next/lib/python3.11/site-packages/torch/nn/modules/module.py:2025: UserWarning: for vision_model.encoder.layers.15.self_attn.out_proj.bias: copying from a non-meta parameter in the checkpoint to a meta parameter in the current model, which is a no-op. (Did you mean to pass `assign=True` to assign items in the state dictionary to their corresponding key in the module instead of copying them in place?)\n",
      "  warnings.warn(f'for {key}: copying from a non-meta parameter in the checkpoint to a meta '\n",
      "/home/et/miniconda3/envs/llava_next/lib/python3.11/site-packages/torch/nn/modules/module.py:2025: UserWarning: for vision_model.encoder.layers.15.layer_norm1.weight: copying from a non-meta parameter in the checkpoint to a meta parameter in the current model, which is a no-op. (Did you mean to pass `assign=True` to assign items in the state dictionary to their corresponding key in the module instead of copying them in place?)\n",
      "  warnings.warn(f'for {key}: copying from a non-meta parameter in the checkpoint to a meta '\n",
      "/home/et/miniconda3/envs/llava_next/lib/python3.11/site-packages/torch/nn/modules/module.py:2025: UserWarning: for vision_model.encoder.layers.15.layer_norm1.bias: copying from a non-meta parameter in the checkpoint to a meta parameter in the current model, which is a no-op. (Did you mean to pass `assign=True` to assign items in the state dictionary to their corresponding key in the module instead of copying them in place?)\n",
      "  warnings.warn(f'for {key}: copying from a non-meta parameter in the checkpoint to a meta '\n",
      "/home/et/miniconda3/envs/llava_next/lib/python3.11/site-packages/torch/nn/modules/module.py:2025: UserWarning: for vision_model.encoder.layers.15.mlp.fc1.weight: copying from a non-meta parameter in the checkpoint to a meta parameter in the current model, which is a no-op. (Did you mean to pass `assign=True` to assign items in the state dictionary to their corresponding key in the module instead of copying them in place?)\n",
      "  warnings.warn(f'for {key}: copying from a non-meta parameter in the checkpoint to a meta '\n",
      "/home/et/miniconda3/envs/llava_next/lib/python3.11/site-packages/torch/nn/modules/module.py:2025: UserWarning: for vision_model.encoder.layers.15.mlp.fc1.bias: copying from a non-meta parameter in the checkpoint to a meta parameter in the current model, which is a no-op. (Did you mean to pass `assign=True` to assign items in the state dictionary to their corresponding key in the module instead of copying them in place?)\n",
      "  warnings.warn(f'for {key}: copying from a non-meta parameter in the checkpoint to a meta '\n",
      "/home/et/miniconda3/envs/llava_next/lib/python3.11/site-packages/torch/nn/modules/module.py:2025: UserWarning: for vision_model.encoder.layers.15.mlp.fc2.weight: copying from a non-meta parameter in the checkpoint to a meta parameter in the current model, which is a no-op. (Did you mean to pass `assign=True` to assign items in the state dictionary to their corresponding key in the module instead of copying them in place?)\n",
      "  warnings.warn(f'for {key}: copying from a non-meta parameter in the checkpoint to a meta '\n",
      "/home/et/miniconda3/envs/llava_next/lib/python3.11/site-packages/torch/nn/modules/module.py:2025: UserWarning: for vision_model.encoder.layers.15.mlp.fc2.bias: copying from a non-meta parameter in the checkpoint to a meta parameter in the current model, which is a no-op. (Did you mean to pass `assign=True` to assign items in the state dictionary to their corresponding key in the module instead of copying them in place?)\n",
      "  warnings.warn(f'for {key}: copying from a non-meta parameter in the checkpoint to a meta '\n",
      "/home/et/miniconda3/envs/llava_next/lib/python3.11/site-packages/torch/nn/modules/module.py:2025: UserWarning: for vision_model.encoder.layers.15.layer_norm2.weight: copying from a non-meta parameter in the checkpoint to a meta parameter in the current model, which is a no-op. (Did you mean to pass `assign=True` to assign items in the state dictionary to their corresponding key in the module instead of copying them in place?)\n",
      "  warnings.warn(f'for {key}: copying from a non-meta parameter in the checkpoint to a meta '\n",
      "/home/et/miniconda3/envs/llava_next/lib/python3.11/site-packages/torch/nn/modules/module.py:2025: UserWarning: for vision_model.encoder.layers.15.layer_norm2.bias: copying from a non-meta parameter in the checkpoint to a meta parameter in the current model, which is a no-op. (Did you mean to pass `assign=True` to assign items in the state dictionary to their corresponding key in the module instead of copying them in place?)\n",
      "  warnings.warn(f'for {key}: copying from a non-meta parameter in the checkpoint to a meta '\n",
      "/home/et/miniconda3/envs/llava_next/lib/python3.11/site-packages/torch/nn/modules/module.py:2025: UserWarning: for vision_model.encoder.layers.16.self_attn.k_proj.weight: copying from a non-meta parameter in the checkpoint to a meta parameter in the current model, which is a no-op. (Did you mean to pass `assign=True` to assign items in the state dictionary to their corresponding key in the module instead of copying them in place?)\n",
      "  warnings.warn(f'for {key}: copying from a non-meta parameter in the checkpoint to a meta '\n",
      "/home/et/miniconda3/envs/llava_next/lib/python3.11/site-packages/torch/nn/modules/module.py:2025: UserWarning: for vision_model.encoder.layers.16.self_attn.k_proj.bias: copying from a non-meta parameter in the checkpoint to a meta parameter in the current model, which is a no-op. (Did you mean to pass `assign=True` to assign items in the state dictionary to their corresponding key in the module instead of copying them in place?)\n",
      "  warnings.warn(f'for {key}: copying from a non-meta parameter in the checkpoint to a meta '\n",
      "/home/et/miniconda3/envs/llava_next/lib/python3.11/site-packages/torch/nn/modules/module.py:2025: UserWarning: for vision_model.encoder.layers.16.self_attn.v_proj.weight: copying from a non-meta parameter in the checkpoint to a meta parameter in the current model, which is a no-op. (Did you mean to pass `assign=True` to assign items in the state dictionary to their corresponding key in the module instead of copying them in place?)\n",
      "  warnings.warn(f'for {key}: copying from a non-meta parameter in the checkpoint to a meta '\n",
      "/home/et/miniconda3/envs/llava_next/lib/python3.11/site-packages/torch/nn/modules/module.py:2025: UserWarning: for vision_model.encoder.layers.16.self_attn.v_proj.bias: copying from a non-meta parameter in the checkpoint to a meta parameter in the current model, which is a no-op. (Did you mean to pass `assign=True` to assign items in the state dictionary to their corresponding key in the module instead of copying them in place?)\n",
      "  warnings.warn(f'for {key}: copying from a non-meta parameter in the checkpoint to a meta '\n",
      "/home/et/miniconda3/envs/llava_next/lib/python3.11/site-packages/torch/nn/modules/module.py:2025: UserWarning: for vision_model.encoder.layers.16.self_attn.q_proj.weight: copying from a non-meta parameter in the checkpoint to a meta parameter in the current model, which is a no-op. (Did you mean to pass `assign=True` to assign items in the state dictionary to their corresponding key in the module instead of copying them in place?)\n",
      "  warnings.warn(f'for {key}: copying from a non-meta parameter in the checkpoint to a meta '\n",
      "/home/et/miniconda3/envs/llava_next/lib/python3.11/site-packages/torch/nn/modules/module.py:2025: UserWarning: for vision_model.encoder.layers.16.self_attn.q_proj.bias: copying from a non-meta parameter in the checkpoint to a meta parameter in the current model, which is a no-op. (Did you mean to pass `assign=True` to assign items in the state dictionary to their corresponding key in the module instead of copying them in place?)\n",
      "  warnings.warn(f'for {key}: copying from a non-meta parameter in the checkpoint to a meta '\n",
      "/home/et/miniconda3/envs/llava_next/lib/python3.11/site-packages/torch/nn/modules/module.py:2025: UserWarning: for vision_model.encoder.layers.16.self_attn.out_proj.weight: copying from a non-meta parameter in the checkpoint to a meta parameter in the current model, which is a no-op. (Did you mean to pass `assign=True` to assign items in the state dictionary to their corresponding key in the module instead of copying them in place?)\n",
      "  warnings.warn(f'for {key}: copying from a non-meta parameter in the checkpoint to a meta '\n",
      "/home/et/miniconda3/envs/llava_next/lib/python3.11/site-packages/torch/nn/modules/module.py:2025: UserWarning: for vision_model.encoder.layers.16.self_attn.out_proj.bias: copying from a non-meta parameter in the checkpoint to a meta parameter in the current model, which is a no-op. (Did you mean to pass `assign=True` to assign items in the state dictionary to their corresponding key in the module instead of copying them in place?)\n",
      "  warnings.warn(f'for {key}: copying from a non-meta parameter in the checkpoint to a meta '\n",
      "/home/et/miniconda3/envs/llava_next/lib/python3.11/site-packages/torch/nn/modules/module.py:2025: UserWarning: for vision_model.encoder.layers.16.layer_norm1.weight: copying from a non-meta parameter in the checkpoint to a meta parameter in the current model, which is a no-op. (Did you mean to pass `assign=True` to assign items in the state dictionary to their corresponding key in the module instead of copying them in place?)\n",
      "  warnings.warn(f'for {key}: copying from a non-meta parameter in the checkpoint to a meta '\n",
      "/home/et/miniconda3/envs/llava_next/lib/python3.11/site-packages/torch/nn/modules/module.py:2025: UserWarning: for vision_model.encoder.layers.16.layer_norm1.bias: copying from a non-meta parameter in the checkpoint to a meta parameter in the current model, which is a no-op. (Did you mean to pass `assign=True` to assign items in the state dictionary to their corresponding key in the module instead of copying them in place?)\n",
      "  warnings.warn(f'for {key}: copying from a non-meta parameter in the checkpoint to a meta '\n",
      "/home/et/miniconda3/envs/llava_next/lib/python3.11/site-packages/torch/nn/modules/module.py:2025: UserWarning: for vision_model.encoder.layers.16.mlp.fc1.weight: copying from a non-meta parameter in the checkpoint to a meta parameter in the current model, which is a no-op. (Did you mean to pass `assign=True` to assign items in the state dictionary to their corresponding key in the module instead of copying them in place?)\n",
      "  warnings.warn(f'for {key}: copying from a non-meta parameter in the checkpoint to a meta '\n",
      "/home/et/miniconda3/envs/llava_next/lib/python3.11/site-packages/torch/nn/modules/module.py:2025: UserWarning: for vision_model.encoder.layers.16.mlp.fc1.bias: copying from a non-meta parameter in the checkpoint to a meta parameter in the current model, which is a no-op. (Did you mean to pass `assign=True` to assign items in the state dictionary to their corresponding key in the module instead of copying them in place?)\n",
      "  warnings.warn(f'for {key}: copying from a non-meta parameter in the checkpoint to a meta '\n",
      "/home/et/miniconda3/envs/llava_next/lib/python3.11/site-packages/torch/nn/modules/module.py:2025: UserWarning: for vision_model.encoder.layers.16.mlp.fc2.weight: copying from a non-meta parameter in the checkpoint to a meta parameter in the current model, which is a no-op. (Did you mean to pass `assign=True` to assign items in the state dictionary to their corresponding key in the module instead of copying them in place?)\n",
      "  warnings.warn(f'for {key}: copying from a non-meta parameter in the checkpoint to a meta '\n",
      "/home/et/miniconda3/envs/llava_next/lib/python3.11/site-packages/torch/nn/modules/module.py:2025: UserWarning: for vision_model.encoder.layers.16.mlp.fc2.bias: copying from a non-meta parameter in the checkpoint to a meta parameter in the current model, which is a no-op. (Did you mean to pass `assign=True` to assign items in the state dictionary to their corresponding key in the module instead of copying them in place?)\n",
      "  warnings.warn(f'for {key}: copying from a non-meta parameter in the checkpoint to a meta '\n",
      "/home/et/miniconda3/envs/llava_next/lib/python3.11/site-packages/torch/nn/modules/module.py:2025: UserWarning: for vision_model.encoder.layers.16.layer_norm2.weight: copying from a non-meta parameter in the checkpoint to a meta parameter in the current model, which is a no-op. (Did you mean to pass `assign=True` to assign items in the state dictionary to their corresponding key in the module instead of copying them in place?)\n",
      "  warnings.warn(f'for {key}: copying from a non-meta parameter in the checkpoint to a meta '\n",
      "/home/et/miniconda3/envs/llava_next/lib/python3.11/site-packages/torch/nn/modules/module.py:2025: UserWarning: for vision_model.encoder.layers.16.layer_norm2.bias: copying from a non-meta parameter in the checkpoint to a meta parameter in the current model, which is a no-op. (Did you mean to pass `assign=True` to assign items in the state dictionary to their corresponding key in the module instead of copying them in place?)\n",
      "  warnings.warn(f'for {key}: copying from a non-meta parameter in the checkpoint to a meta '\n",
      "/home/et/miniconda3/envs/llava_next/lib/python3.11/site-packages/torch/nn/modules/module.py:2025: UserWarning: for vision_model.encoder.layers.17.self_attn.k_proj.weight: copying from a non-meta parameter in the checkpoint to a meta parameter in the current model, which is a no-op. (Did you mean to pass `assign=True` to assign items in the state dictionary to their corresponding key in the module instead of copying them in place?)\n",
      "  warnings.warn(f'for {key}: copying from a non-meta parameter in the checkpoint to a meta '\n",
      "/home/et/miniconda3/envs/llava_next/lib/python3.11/site-packages/torch/nn/modules/module.py:2025: UserWarning: for vision_model.encoder.layers.17.self_attn.k_proj.bias: copying from a non-meta parameter in the checkpoint to a meta parameter in the current model, which is a no-op. (Did you mean to pass `assign=True` to assign items in the state dictionary to their corresponding key in the module instead of copying them in place?)\n",
      "  warnings.warn(f'for {key}: copying from a non-meta parameter in the checkpoint to a meta '\n",
      "/home/et/miniconda3/envs/llava_next/lib/python3.11/site-packages/torch/nn/modules/module.py:2025: UserWarning: for vision_model.encoder.layers.17.self_attn.v_proj.weight: copying from a non-meta parameter in the checkpoint to a meta parameter in the current model, which is a no-op. (Did you mean to pass `assign=True` to assign items in the state dictionary to their corresponding key in the module instead of copying them in place?)\n",
      "  warnings.warn(f'for {key}: copying from a non-meta parameter in the checkpoint to a meta '\n",
      "/home/et/miniconda3/envs/llava_next/lib/python3.11/site-packages/torch/nn/modules/module.py:2025: UserWarning: for vision_model.encoder.layers.17.self_attn.v_proj.bias: copying from a non-meta parameter in the checkpoint to a meta parameter in the current model, which is a no-op. (Did you mean to pass `assign=True` to assign items in the state dictionary to their corresponding key in the module instead of copying them in place?)\n",
      "  warnings.warn(f'for {key}: copying from a non-meta parameter in the checkpoint to a meta '\n",
      "/home/et/miniconda3/envs/llava_next/lib/python3.11/site-packages/torch/nn/modules/module.py:2025: UserWarning: for vision_model.encoder.layers.17.self_attn.q_proj.weight: copying from a non-meta parameter in the checkpoint to a meta parameter in the current model, which is a no-op. (Did you mean to pass `assign=True` to assign items in the state dictionary to their corresponding key in the module instead of copying them in place?)\n",
      "  warnings.warn(f'for {key}: copying from a non-meta parameter in the checkpoint to a meta '\n",
      "/home/et/miniconda3/envs/llava_next/lib/python3.11/site-packages/torch/nn/modules/module.py:2025: UserWarning: for vision_model.encoder.layers.17.self_attn.q_proj.bias: copying from a non-meta parameter in the checkpoint to a meta parameter in the current model, which is a no-op. (Did you mean to pass `assign=True` to assign items in the state dictionary to their corresponding key in the module instead of copying them in place?)\n",
      "  warnings.warn(f'for {key}: copying from a non-meta parameter in the checkpoint to a meta '\n",
      "/home/et/miniconda3/envs/llava_next/lib/python3.11/site-packages/torch/nn/modules/module.py:2025: UserWarning: for vision_model.encoder.layers.17.self_attn.out_proj.weight: copying from a non-meta parameter in the checkpoint to a meta parameter in the current model, which is a no-op. (Did you mean to pass `assign=True` to assign items in the state dictionary to their corresponding key in the module instead of copying them in place?)\n",
      "  warnings.warn(f'for {key}: copying from a non-meta parameter in the checkpoint to a meta '\n",
      "/home/et/miniconda3/envs/llava_next/lib/python3.11/site-packages/torch/nn/modules/module.py:2025: UserWarning: for vision_model.encoder.layers.17.self_attn.out_proj.bias: copying from a non-meta parameter in the checkpoint to a meta parameter in the current model, which is a no-op. (Did you mean to pass `assign=True` to assign items in the state dictionary to their corresponding key in the module instead of copying them in place?)\n",
      "  warnings.warn(f'for {key}: copying from a non-meta parameter in the checkpoint to a meta '\n",
      "/home/et/miniconda3/envs/llava_next/lib/python3.11/site-packages/torch/nn/modules/module.py:2025: UserWarning: for vision_model.encoder.layers.17.layer_norm1.weight: copying from a non-meta parameter in the checkpoint to a meta parameter in the current model, which is a no-op. (Did you mean to pass `assign=True` to assign items in the state dictionary to their corresponding key in the module instead of copying them in place?)\n",
      "  warnings.warn(f'for {key}: copying from a non-meta parameter in the checkpoint to a meta '\n",
      "/home/et/miniconda3/envs/llava_next/lib/python3.11/site-packages/torch/nn/modules/module.py:2025: UserWarning: for vision_model.encoder.layers.17.layer_norm1.bias: copying from a non-meta parameter in the checkpoint to a meta parameter in the current model, which is a no-op. (Did you mean to pass `assign=True` to assign items in the state dictionary to their corresponding key in the module instead of copying them in place?)\n",
      "  warnings.warn(f'for {key}: copying from a non-meta parameter in the checkpoint to a meta '\n",
      "/home/et/miniconda3/envs/llava_next/lib/python3.11/site-packages/torch/nn/modules/module.py:2025: UserWarning: for vision_model.encoder.layers.17.mlp.fc1.weight: copying from a non-meta parameter in the checkpoint to a meta parameter in the current model, which is a no-op. (Did you mean to pass `assign=True` to assign items in the state dictionary to their corresponding key in the module instead of copying them in place?)\n",
      "  warnings.warn(f'for {key}: copying from a non-meta parameter in the checkpoint to a meta '\n",
      "/home/et/miniconda3/envs/llava_next/lib/python3.11/site-packages/torch/nn/modules/module.py:2025: UserWarning: for vision_model.encoder.layers.17.mlp.fc1.bias: copying from a non-meta parameter in the checkpoint to a meta parameter in the current model, which is a no-op. (Did you mean to pass `assign=True` to assign items in the state dictionary to their corresponding key in the module instead of copying them in place?)\n",
      "  warnings.warn(f'for {key}: copying from a non-meta parameter in the checkpoint to a meta '\n",
      "/home/et/miniconda3/envs/llava_next/lib/python3.11/site-packages/torch/nn/modules/module.py:2025: UserWarning: for vision_model.encoder.layers.17.mlp.fc2.weight: copying from a non-meta parameter in the checkpoint to a meta parameter in the current model, which is a no-op. (Did you mean to pass `assign=True` to assign items in the state dictionary to their corresponding key in the module instead of copying them in place?)\n",
      "  warnings.warn(f'for {key}: copying from a non-meta parameter in the checkpoint to a meta '\n",
      "/home/et/miniconda3/envs/llava_next/lib/python3.11/site-packages/torch/nn/modules/module.py:2025: UserWarning: for vision_model.encoder.layers.17.mlp.fc2.bias: copying from a non-meta parameter in the checkpoint to a meta parameter in the current model, which is a no-op. (Did you mean to pass `assign=True` to assign items in the state dictionary to their corresponding key in the module instead of copying them in place?)\n",
      "  warnings.warn(f'for {key}: copying from a non-meta parameter in the checkpoint to a meta '\n",
      "/home/et/miniconda3/envs/llava_next/lib/python3.11/site-packages/torch/nn/modules/module.py:2025: UserWarning: for vision_model.encoder.layers.17.layer_norm2.weight: copying from a non-meta parameter in the checkpoint to a meta parameter in the current model, which is a no-op. (Did you mean to pass `assign=True` to assign items in the state dictionary to their corresponding key in the module instead of copying them in place?)\n",
      "  warnings.warn(f'for {key}: copying from a non-meta parameter in the checkpoint to a meta '\n",
      "/home/et/miniconda3/envs/llava_next/lib/python3.11/site-packages/torch/nn/modules/module.py:2025: UserWarning: for vision_model.encoder.layers.17.layer_norm2.bias: copying from a non-meta parameter in the checkpoint to a meta parameter in the current model, which is a no-op. (Did you mean to pass `assign=True` to assign items in the state dictionary to their corresponding key in the module instead of copying them in place?)\n",
      "  warnings.warn(f'for {key}: copying from a non-meta parameter in the checkpoint to a meta '\n",
      "/home/et/miniconda3/envs/llava_next/lib/python3.11/site-packages/torch/nn/modules/module.py:2025: UserWarning: for vision_model.encoder.layers.18.self_attn.k_proj.weight: copying from a non-meta parameter in the checkpoint to a meta parameter in the current model, which is a no-op. (Did you mean to pass `assign=True` to assign items in the state dictionary to their corresponding key in the module instead of copying them in place?)\n",
      "  warnings.warn(f'for {key}: copying from a non-meta parameter in the checkpoint to a meta '\n",
      "/home/et/miniconda3/envs/llava_next/lib/python3.11/site-packages/torch/nn/modules/module.py:2025: UserWarning: for vision_model.encoder.layers.18.self_attn.k_proj.bias: copying from a non-meta parameter in the checkpoint to a meta parameter in the current model, which is a no-op. (Did you mean to pass `assign=True` to assign items in the state dictionary to their corresponding key in the module instead of copying them in place?)\n",
      "  warnings.warn(f'for {key}: copying from a non-meta parameter in the checkpoint to a meta '\n",
      "/home/et/miniconda3/envs/llava_next/lib/python3.11/site-packages/torch/nn/modules/module.py:2025: UserWarning: for vision_model.encoder.layers.18.self_attn.v_proj.weight: copying from a non-meta parameter in the checkpoint to a meta parameter in the current model, which is a no-op. (Did you mean to pass `assign=True` to assign items in the state dictionary to their corresponding key in the module instead of copying them in place?)\n",
      "  warnings.warn(f'for {key}: copying from a non-meta parameter in the checkpoint to a meta '\n",
      "/home/et/miniconda3/envs/llava_next/lib/python3.11/site-packages/torch/nn/modules/module.py:2025: UserWarning: for vision_model.encoder.layers.18.self_attn.v_proj.bias: copying from a non-meta parameter in the checkpoint to a meta parameter in the current model, which is a no-op. (Did you mean to pass `assign=True` to assign items in the state dictionary to their corresponding key in the module instead of copying them in place?)\n",
      "  warnings.warn(f'for {key}: copying from a non-meta parameter in the checkpoint to a meta '\n",
      "/home/et/miniconda3/envs/llava_next/lib/python3.11/site-packages/torch/nn/modules/module.py:2025: UserWarning: for vision_model.encoder.layers.18.self_attn.q_proj.weight: copying from a non-meta parameter in the checkpoint to a meta parameter in the current model, which is a no-op. (Did you mean to pass `assign=True` to assign items in the state dictionary to their corresponding key in the module instead of copying them in place?)\n",
      "  warnings.warn(f'for {key}: copying from a non-meta parameter in the checkpoint to a meta '\n",
      "/home/et/miniconda3/envs/llava_next/lib/python3.11/site-packages/torch/nn/modules/module.py:2025: UserWarning: for vision_model.encoder.layers.18.self_attn.q_proj.bias: copying from a non-meta parameter in the checkpoint to a meta parameter in the current model, which is a no-op. (Did you mean to pass `assign=True` to assign items in the state dictionary to their corresponding key in the module instead of copying them in place?)\n",
      "  warnings.warn(f'for {key}: copying from a non-meta parameter in the checkpoint to a meta '\n",
      "/home/et/miniconda3/envs/llava_next/lib/python3.11/site-packages/torch/nn/modules/module.py:2025: UserWarning: for vision_model.encoder.layers.18.self_attn.out_proj.weight: copying from a non-meta parameter in the checkpoint to a meta parameter in the current model, which is a no-op. (Did you mean to pass `assign=True` to assign items in the state dictionary to their corresponding key in the module instead of copying them in place?)\n",
      "  warnings.warn(f'for {key}: copying from a non-meta parameter in the checkpoint to a meta '\n",
      "/home/et/miniconda3/envs/llava_next/lib/python3.11/site-packages/torch/nn/modules/module.py:2025: UserWarning: for vision_model.encoder.layers.18.self_attn.out_proj.bias: copying from a non-meta parameter in the checkpoint to a meta parameter in the current model, which is a no-op. (Did you mean to pass `assign=True` to assign items in the state dictionary to their corresponding key in the module instead of copying them in place?)\n",
      "  warnings.warn(f'for {key}: copying from a non-meta parameter in the checkpoint to a meta '\n",
      "/home/et/miniconda3/envs/llava_next/lib/python3.11/site-packages/torch/nn/modules/module.py:2025: UserWarning: for vision_model.encoder.layers.18.layer_norm1.weight: copying from a non-meta parameter in the checkpoint to a meta parameter in the current model, which is a no-op. (Did you mean to pass `assign=True` to assign items in the state dictionary to their corresponding key in the module instead of copying them in place?)\n",
      "  warnings.warn(f'for {key}: copying from a non-meta parameter in the checkpoint to a meta '\n",
      "/home/et/miniconda3/envs/llava_next/lib/python3.11/site-packages/torch/nn/modules/module.py:2025: UserWarning: for vision_model.encoder.layers.18.layer_norm1.bias: copying from a non-meta parameter in the checkpoint to a meta parameter in the current model, which is a no-op. (Did you mean to pass `assign=True` to assign items in the state dictionary to their corresponding key in the module instead of copying them in place?)\n",
      "  warnings.warn(f'for {key}: copying from a non-meta parameter in the checkpoint to a meta '\n",
      "/home/et/miniconda3/envs/llava_next/lib/python3.11/site-packages/torch/nn/modules/module.py:2025: UserWarning: for vision_model.encoder.layers.18.mlp.fc1.weight: copying from a non-meta parameter in the checkpoint to a meta parameter in the current model, which is a no-op. (Did you mean to pass `assign=True` to assign items in the state dictionary to their corresponding key in the module instead of copying them in place?)\n",
      "  warnings.warn(f'for {key}: copying from a non-meta parameter in the checkpoint to a meta '\n",
      "/home/et/miniconda3/envs/llava_next/lib/python3.11/site-packages/torch/nn/modules/module.py:2025: UserWarning: for vision_model.encoder.layers.18.mlp.fc1.bias: copying from a non-meta parameter in the checkpoint to a meta parameter in the current model, which is a no-op. (Did you mean to pass `assign=True` to assign items in the state dictionary to their corresponding key in the module instead of copying them in place?)\n",
      "  warnings.warn(f'for {key}: copying from a non-meta parameter in the checkpoint to a meta '\n",
      "/home/et/miniconda3/envs/llava_next/lib/python3.11/site-packages/torch/nn/modules/module.py:2025: UserWarning: for vision_model.encoder.layers.18.mlp.fc2.weight: copying from a non-meta parameter in the checkpoint to a meta parameter in the current model, which is a no-op. (Did you mean to pass `assign=True` to assign items in the state dictionary to their corresponding key in the module instead of copying them in place?)\n",
      "  warnings.warn(f'for {key}: copying from a non-meta parameter in the checkpoint to a meta '\n",
      "/home/et/miniconda3/envs/llava_next/lib/python3.11/site-packages/torch/nn/modules/module.py:2025: UserWarning: for vision_model.encoder.layers.18.mlp.fc2.bias: copying from a non-meta parameter in the checkpoint to a meta parameter in the current model, which is a no-op. (Did you mean to pass `assign=True` to assign items in the state dictionary to their corresponding key in the module instead of copying them in place?)\n",
      "  warnings.warn(f'for {key}: copying from a non-meta parameter in the checkpoint to a meta '\n",
      "/home/et/miniconda3/envs/llava_next/lib/python3.11/site-packages/torch/nn/modules/module.py:2025: UserWarning: for vision_model.encoder.layers.18.layer_norm2.weight: copying from a non-meta parameter in the checkpoint to a meta parameter in the current model, which is a no-op. (Did you mean to pass `assign=True` to assign items in the state dictionary to their corresponding key in the module instead of copying them in place?)\n",
      "  warnings.warn(f'for {key}: copying from a non-meta parameter in the checkpoint to a meta '\n",
      "/home/et/miniconda3/envs/llava_next/lib/python3.11/site-packages/torch/nn/modules/module.py:2025: UserWarning: for vision_model.encoder.layers.18.layer_norm2.bias: copying from a non-meta parameter in the checkpoint to a meta parameter in the current model, which is a no-op. (Did you mean to pass `assign=True` to assign items in the state dictionary to their corresponding key in the module instead of copying them in place?)\n",
      "  warnings.warn(f'for {key}: copying from a non-meta parameter in the checkpoint to a meta '\n",
      "/home/et/miniconda3/envs/llava_next/lib/python3.11/site-packages/torch/nn/modules/module.py:2025: UserWarning: for vision_model.encoder.layers.19.self_attn.k_proj.weight: copying from a non-meta parameter in the checkpoint to a meta parameter in the current model, which is a no-op. (Did you mean to pass `assign=True` to assign items in the state dictionary to their corresponding key in the module instead of copying them in place?)\n",
      "  warnings.warn(f'for {key}: copying from a non-meta parameter in the checkpoint to a meta '\n",
      "/home/et/miniconda3/envs/llava_next/lib/python3.11/site-packages/torch/nn/modules/module.py:2025: UserWarning: for vision_model.encoder.layers.19.self_attn.k_proj.bias: copying from a non-meta parameter in the checkpoint to a meta parameter in the current model, which is a no-op. (Did you mean to pass `assign=True` to assign items in the state dictionary to their corresponding key in the module instead of copying them in place?)\n",
      "  warnings.warn(f'for {key}: copying from a non-meta parameter in the checkpoint to a meta '\n",
      "/home/et/miniconda3/envs/llava_next/lib/python3.11/site-packages/torch/nn/modules/module.py:2025: UserWarning: for vision_model.encoder.layers.19.self_attn.v_proj.weight: copying from a non-meta parameter in the checkpoint to a meta parameter in the current model, which is a no-op. (Did you mean to pass `assign=True` to assign items in the state dictionary to their corresponding key in the module instead of copying them in place?)\n",
      "  warnings.warn(f'for {key}: copying from a non-meta parameter in the checkpoint to a meta '\n",
      "/home/et/miniconda3/envs/llava_next/lib/python3.11/site-packages/torch/nn/modules/module.py:2025: UserWarning: for vision_model.encoder.layers.19.self_attn.v_proj.bias: copying from a non-meta parameter in the checkpoint to a meta parameter in the current model, which is a no-op. (Did you mean to pass `assign=True` to assign items in the state dictionary to their corresponding key in the module instead of copying them in place?)\n",
      "  warnings.warn(f'for {key}: copying from a non-meta parameter in the checkpoint to a meta '\n",
      "/home/et/miniconda3/envs/llava_next/lib/python3.11/site-packages/torch/nn/modules/module.py:2025: UserWarning: for vision_model.encoder.layers.19.self_attn.q_proj.weight: copying from a non-meta parameter in the checkpoint to a meta parameter in the current model, which is a no-op. (Did you mean to pass `assign=True` to assign items in the state dictionary to their corresponding key in the module instead of copying them in place?)\n",
      "  warnings.warn(f'for {key}: copying from a non-meta parameter in the checkpoint to a meta '\n",
      "/home/et/miniconda3/envs/llava_next/lib/python3.11/site-packages/torch/nn/modules/module.py:2025: UserWarning: for vision_model.encoder.layers.19.self_attn.q_proj.bias: copying from a non-meta parameter in the checkpoint to a meta parameter in the current model, which is a no-op. (Did you mean to pass `assign=True` to assign items in the state dictionary to their corresponding key in the module instead of copying them in place?)\n",
      "  warnings.warn(f'for {key}: copying from a non-meta parameter in the checkpoint to a meta '\n",
      "/home/et/miniconda3/envs/llava_next/lib/python3.11/site-packages/torch/nn/modules/module.py:2025: UserWarning: for vision_model.encoder.layers.19.self_attn.out_proj.weight: copying from a non-meta parameter in the checkpoint to a meta parameter in the current model, which is a no-op. (Did you mean to pass `assign=True` to assign items in the state dictionary to their corresponding key in the module instead of copying them in place?)\n",
      "  warnings.warn(f'for {key}: copying from a non-meta parameter in the checkpoint to a meta '\n",
      "/home/et/miniconda3/envs/llava_next/lib/python3.11/site-packages/torch/nn/modules/module.py:2025: UserWarning: for vision_model.encoder.layers.19.self_attn.out_proj.bias: copying from a non-meta parameter in the checkpoint to a meta parameter in the current model, which is a no-op. (Did you mean to pass `assign=True` to assign items in the state dictionary to their corresponding key in the module instead of copying them in place?)\n",
      "  warnings.warn(f'for {key}: copying from a non-meta parameter in the checkpoint to a meta '\n",
      "/home/et/miniconda3/envs/llava_next/lib/python3.11/site-packages/torch/nn/modules/module.py:2025: UserWarning: for vision_model.encoder.layers.19.layer_norm1.weight: copying from a non-meta parameter in the checkpoint to a meta parameter in the current model, which is a no-op. (Did you mean to pass `assign=True` to assign items in the state dictionary to their corresponding key in the module instead of copying them in place?)\n",
      "  warnings.warn(f'for {key}: copying from a non-meta parameter in the checkpoint to a meta '\n",
      "/home/et/miniconda3/envs/llava_next/lib/python3.11/site-packages/torch/nn/modules/module.py:2025: UserWarning: for vision_model.encoder.layers.19.layer_norm1.bias: copying from a non-meta parameter in the checkpoint to a meta parameter in the current model, which is a no-op. (Did you mean to pass `assign=True` to assign items in the state dictionary to their corresponding key in the module instead of copying them in place?)\n",
      "  warnings.warn(f'for {key}: copying from a non-meta parameter in the checkpoint to a meta '\n",
      "/home/et/miniconda3/envs/llava_next/lib/python3.11/site-packages/torch/nn/modules/module.py:2025: UserWarning: for vision_model.encoder.layers.19.mlp.fc1.weight: copying from a non-meta parameter in the checkpoint to a meta parameter in the current model, which is a no-op. (Did you mean to pass `assign=True` to assign items in the state dictionary to their corresponding key in the module instead of copying them in place?)\n",
      "  warnings.warn(f'for {key}: copying from a non-meta parameter in the checkpoint to a meta '\n",
      "/home/et/miniconda3/envs/llava_next/lib/python3.11/site-packages/torch/nn/modules/module.py:2025: UserWarning: for vision_model.encoder.layers.19.mlp.fc1.bias: copying from a non-meta parameter in the checkpoint to a meta parameter in the current model, which is a no-op. (Did you mean to pass `assign=True` to assign items in the state dictionary to their corresponding key in the module instead of copying them in place?)\n",
      "  warnings.warn(f'for {key}: copying from a non-meta parameter in the checkpoint to a meta '\n",
      "/home/et/miniconda3/envs/llava_next/lib/python3.11/site-packages/torch/nn/modules/module.py:2025: UserWarning: for vision_model.encoder.layers.19.mlp.fc2.weight: copying from a non-meta parameter in the checkpoint to a meta parameter in the current model, which is a no-op. (Did you mean to pass `assign=True` to assign items in the state dictionary to their corresponding key in the module instead of copying them in place?)\n",
      "  warnings.warn(f'for {key}: copying from a non-meta parameter in the checkpoint to a meta '\n",
      "/home/et/miniconda3/envs/llava_next/lib/python3.11/site-packages/torch/nn/modules/module.py:2025: UserWarning: for vision_model.encoder.layers.19.mlp.fc2.bias: copying from a non-meta parameter in the checkpoint to a meta parameter in the current model, which is a no-op. (Did you mean to pass `assign=True` to assign items in the state dictionary to their corresponding key in the module instead of copying them in place?)\n",
      "  warnings.warn(f'for {key}: copying from a non-meta parameter in the checkpoint to a meta '\n",
      "/home/et/miniconda3/envs/llava_next/lib/python3.11/site-packages/torch/nn/modules/module.py:2025: UserWarning: for vision_model.encoder.layers.19.layer_norm2.weight: copying from a non-meta parameter in the checkpoint to a meta parameter in the current model, which is a no-op. (Did you mean to pass `assign=True` to assign items in the state dictionary to their corresponding key in the module instead of copying them in place?)\n",
      "  warnings.warn(f'for {key}: copying from a non-meta parameter in the checkpoint to a meta '\n",
      "/home/et/miniconda3/envs/llava_next/lib/python3.11/site-packages/torch/nn/modules/module.py:2025: UserWarning: for vision_model.encoder.layers.19.layer_norm2.bias: copying from a non-meta parameter in the checkpoint to a meta parameter in the current model, which is a no-op. (Did you mean to pass `assign=True` to assign items in the state dictionary to their corresponding key in the module instead of copying them in place?)\n",
      "  warnings.warn(f'for {key}: copying from a non-meta parameter in the checkpoint to a meta '\n",
      "/home/et/miniconda3/envs/llava_next/lib/python3.11/site-packages/torch/nn/modules/module.py:2025: UserWarning: for vision_model.encoder.layers.20.self_attn.k_proj.weight: copying from a non-meta parameter in the checkpoint to a meta parameter in the current model, which is a no-op. (Did you mean to pass `assign=True` to assign items in the state dictionary to their corresponding key in the module instead of copying them in place?)\n",
      "  warnings.warn(f'for {key}: copying from a non-meta parameter in the checkpoint to a meta '\n",
      "/home/et/miniconda3/envs/llava_next/lib/python3.11/site-packages/torch/nn/modules/module.py:2025: UserWarning: for vision_model.encoder.layers.20.self_attn.k_proj.bias: copying from a non-meta parameter in the checkpoint to a meta parameter in the current model, which is a no-op. (Did you mean to pass `assign=True` to assign items in the state dictionary to their corresponding key in the module instead of copying them in place?)\n",
      "  warnings.warn(f'for {key}: copying from a non-meta parameter in the checkpoint to a meta '\n",
      "/home/et/miniconda3/envs/llava_next/lib/python3.11/site-packages/torch/nn/modules/module.py:2025: UserWarning: for vision_model.encoder.layers.20.self_attn.v_proj.weight: copying from a non-meta parameter in the checkpoint to a meta parameter in the current model, which is a no-op. (Did you mean to pass `assign=True` to assign items in the state dictionary to their corresponding key in the module instead of copying them in place?)\n",
      "  warnings.warn(f'for {key}: copying from a non-meta parameter in the checkpoint to a meta '\n",
      "/home/et/miniconda3/envs/llava_next/lib/python3.11/site-packages/torch/nn/modules/module.py:2025: UserWarning: for vision_model.encoder.layers.20.self_attn.v_proj.bias: copying from a non-meta parameter in the checkpoint to a meta parameter in the current model, which is a no-op. (Did you mean to pass `assign=True` to assign items in the state dictionary to their corresponding key in the module instead of copying them in place?)\n",
      "  warnings.warn(f'for {key}: copying from a non-meta parameter in the checkpoint to a meta '\n",
      "/home/et/miniconda3/envs/llava_next/lib/python3.11/site-packages/torch/nn/modules/module.py:2025: UserWarning: for vision_model.encoder.layers.20.self_attn.q_proj.weight: copying from a non-meta parameter in the checkpoint to a meta parameter in the current model, which is a no-op. (Did you mean to pass `assign=True` to assign items in the state dictionary to their corresponding key in the module instead of copying them in place?)\n",
      "  warnings.warn(f'for {key}: copying from a non-meta parameter in the checkpoint to a meta '\n",
      "/home/et/miniconda3/envs/llava_next/lib/python3.11/site-packages/torch/nn/modules/module.py:2025: UserWarning: for vision_model.encoder.layers.20.self_attn.q_proj.bias: copying from a non-meta parameter in the checkpoint to a meta parameter in the current model, which is a no-op. (Did you mean to pass `assign=True` to assign items in the state dictionary to their corresponding key in the module instead of copying them in place?)\n",
      "  warnings.warn(f'for {key}: copying from a non-meta parameter in the checkpoint to a meta '\n",
      "/home/et/miniconda3/envs/llava_next/lib/python3.11/site-packages/torch/nn/modules/module.py:2025: UserWarning: for vision_model.encoder.layers.20.self_attn.out_proj.weight: copying from a non-meta parameter in the checkpoint to a meta parameter in the current model, which is a no-op. (Did you mean to pass `assign=True` to assign items in the state dictionary to their corresponding key in the module instead of copying them in place?)\n",
      "  warnings.warn(f'for {key}: copying from a non-meta parameter in the checkpoint to a meta '\n",
      "/home/et/miniconda3/envs/llava_next/lib/python3.11/site-packages/torch/nn/modules/module.py:2025: UserWarning: for vision_model.encoder.layers.20.self_attn.out_proj.bias: copying from a non-meta parameter in the checkpoint to a meta parameter in the current model, which is a no-op. (Did you mean to pass `assign=True` to assign items in the state dictionary to their corresponding key in the module instead of copying them in place?)\n",
      "  warnings.warn(f'for {key}: copying from a non-meta parameter in the checkpoint to a meta '\n",
      "/home/et/miniconda3/envs/llava_next/lib/python3.11/site-packages/torch/nn/modules/module.py:2025: UserWarning: for vision_model.encoder.layers.20.layer_norm1.weight: copying from a non-meta parameter in the checkpoint to a meta parameter in the current model, which is a no-op. (Did you mean to pass `assign=True` to assign items in the state dictionary to their corresponding key in the module instead of copying them in place?)\n",
      "  warnings.warn(f'for {key}: copying from a non-meta parameter in the checkpoint to a meta '\n",
      "/home/et/miniconda3/envs/llava_next/lib/python3.11/site-packages/torch/nn/modules/module.py:2025: UserWarning: for vision_model.encoder.layers.20.layer_norm1.bias: copying from a non-meta parameter in the checkpoint to a meta parameter in the current model, which is a no-op. (Did you mean to pass `assign=True` to assign items in the state dictionary to their corresponding key in the module instead of copying them in place?)\n",
      "  warnings.warn(f'for {key}: copying from a non-meta parameter in the checkpoint to a meta '\n",
      "/home/et/miniconda3/envs/llava_next/lib/python3.11/site-packages/torch/nn/modules/module.py:2025: UserWarning: for vision_model.encoder.layers.20.mlp.fc1.weight: copying from a non-meta parameter in the checkpoint to a meta parameter in the current model, which is a no-op. (Did you mean to pass `assign=True` to assign items in the state dictionary to their corresponding key in the module instead of copying them in place?)\n",
      "  warnings.warn(f'for {key}: copying from a non-meta parameter in the checkpoint to a meta '\n",
      "/home/et/miniconda3/envs/llava_next/lib/python3.11/site-packages/torch/nn/modules/module.py:2025: UserWarning: for vision_model.encoder.layers.20.mlp.fc1.bias: copying from a non-meta parameter in the checkpoint to a meta parameter in the current model, which is a no-op. (Did you mean to pass `assign=True` to assign items in the state dictionary to their corresponding key in the module instead of copying them in place?)\n",
      "  warnings.warn(f'for {key}: copying from a non-meta parameter in the checkpoint to a meta '\n",
      "/home/et/miniconda3/envs/llava_next/lib/python3.11/site-packages/torch/nn/modules/module.py:2025: UserWarning: for vision_model.encoder.layers.20.mlp.fc2.weight: copying from a non-meta parameter in the checkpoint to a meta parameter in the current model, which is a no-op. (Did you mean to pass `assign=True` to assign items in the state dictionary to their corresponding key in the module instead of copying them in place?)\n",
      "  warnings.warn(f'for {key}: copying from a non-meta parameter in the checkpoint to a meta '\n",
      "/home/et/miniconda3/envs/llava_next/lib/python3.11/site-packages/torch/nn/modules/module.py:2025: UserWarning: for vision_model.encoder.layers.20.mlp.fc2.bias: copying from a non-meta parameter in the checkpoint to a meta parameter in the current model, which is a no-op. (Did you mean to pass `assign=True` to assign items in the state dictionary to their corresponding key in the module instead of copying them in place?)\n",
      "  warnings.warn(f'for {key}: copying from a non-meta parameter in the checkpoint to a meta '\n",
      "/home/et/miniconda3/envs/llava_next/lib/python3.11/site-packages/torch/nn/modules/module.py:2025: UserWarning: for vision_model.encoder.layers.20.layer_norm2.weight: copying from a non-meta parameter in the checkpoint to a meta parameter in the current model, which is a no-op. (Did you mean to pass `assign=True` to assign items in the state dictionary to their corresponding key in the module instead of copying them in place?)\n",
      "  warnings.warn(f'for {key}: copying from a non-meta parameter in the checkpoint to a meta '\n",
      "/home/et/miniconda3/envs/llava_next/lib/python3.11/site-packages/torch/nn/modules/module.py:2025: UserWarning: for vision_model.encoder.layers.20.layer_norm2.bias: copying from a non-meta parameter in the checkpoint to a meta parameter in the current model, which is a no-op. (Did you mean to pass `assign=True` to assign items in the state dictionary to their corresponding key in the module instead of copying them in place?)\n",
      "  warnings.warn(f'for {key}: copying from a non-meta parameter in the checkpoint to a meta '\n",
      "/home/et/miniconda3/envs/llava_next/lib/python3.11/site-packages/torch/nn/modules/module.py:2025: UserWarning: for vision_model.encoder.layers.21.self_attn.k_proj.weight: copying from a non-meta parameter in the checkpoint to a meta parameter in the current model, which is a no-op. (Did you mean to pass `assign=True` to assign items in the state dictionary to their corresponding key in the module instead of copying them in place?)\n",
      "  warnings.warn(f'for {key}: copying from a non-meta parameter in the checkpoint to a meta '\n",
      "/home/et/miniconda3/envs/llava_next/lib/python3.11/site-packages/torch/nn/modules/module.py:2025: UserWarning: for vision_model.encoder.layers.21.self_attn.k_proj.bias: copying from a non-meta parameter in the checkpoint to a meta parameter in the current model, which is a no-op. (Did you mean to pass `assign=True` to assign items in the state dictionary to their corresponding key in the module instead of copying them in place?)\n",
      "  warnings.warn(f'for {key}: copying from a non-meta parameter in the checkpoint to a meta '\n",
      "/home/et/miniconda3/envs/llava_next/lib/python3.11/site-packages/torch/nn/modules/module.py:2025: UserWarning: for vision_model.encoder.layers.21.self_attn.v_proj.weight: copying from a non-meta parameter in the checkpoint to a meta parameter in the current model, which is a no-op. (Did you mean to pass `assign=True` to assign items in the state dictionary to their corresponding key in the module instead of copying them in place?)\n",
      "  warnings.warn(f'for {key}: copying from a non-meta parameter in the checkpoint to a meta '\n",
      "/home/et/miniconda3/envs/llava_next/lib/python3.11/site-packages/torch/nn/modules/module.py:2025: UserWarning: for vision_model.encoder.layers.21.self_attn.v_proj.bias: copying from a non-meta parameter in the checkpoint to a meta parameter in the current model, which is a no-op. (Did you mean to pass `assign=True` to assign items in the state dictionary to their corresponding key in the module instead of copying them in place?)\n",
      "  warnings.warn(f'for {key}: copying from a non-meta parameter in the checkpoint to a meta '\n",
      "/home/et/miniconda3/envs/llava_next/lib/python3.11/site-packages/torch/nn/modules/module.py:2025: UserWarning: for vision_model.encoder.layers.21.self_attn.q_proj.weight: copying from a non-meta parameter in the checkpoint to a meta parameter in the current model, which is a no-op. (Did you mean to pass `assign=True` to assign items in the state dictionary to their corresponding key in the module instead of copying them in place?)\n",
      "  warnings.warn(f'for {key}: copying from a non-meta parameter in the checkpoint to a meta '\n",
      "/home/et/miniconda3/envs/llava_next/lib/python3.11/site-packages/torch/nn/modules/module.py:2025: UserWarning: for vision_model.encoder.layers.21.self_attn.q_proj.bias: copying from a non-meta parameter in the checkpoint to a meta parameter in the current model, which is a no-op. (Did you mean to pass `assign=True` to assign items in the state dictionary to their corresponding key in the module instead of copying them in place?)\n",
      "  warnings.warn(f'for {key}: copying from a non-meta parameter in the checkpoint to a meta '\n",
      "/home/et/miniconda3/envs/llava_next/lib/python3.11/site-packages/torch/nn/modules/module.py:2025: UserWarning: for vision_model.encoder.layers.21.self_attn.out_proj.weight: copying from a non-meta parameter in the checkpoint to a meta parameter in the current model, which is a no-op. (Did you mean to pass `assign=True` to assign items in the state dictionary to their corresponding key in the module instead of copying them in place?)\n",
      "  warnings.warn(f'for {key}: copying from a non-meta parameter in the checkpoint to a meta '\n",
      "/home/et/miniconda3/envs/llava_next/lib/python3.11/site-packages/torch/nn/modules/module.py:2025: UserWarning: for vision_model.encoder.layers.21.self_attn.out_proj.bias: copying from a non-meta parameter in the checkpoint to a meta parameter in the current model, which is a no-op. (Did you mean to pass `assign=True` to assign items in the state dictionary to their corresponding key in the module instead of copying them in place?)\n",
      "  warnings.warn(f'for {key}: copying from a non-meta parameter in the checkpoint to a meta '\n",
      "/home/et/miniconda3/envs/llava_next/lib/python3.11/site-packages/torch/nn/modules/module.py:2025: UserWarning: for vision_model.encoder.layers.21.layer_norm1.weight: copying from a non-meta parameter in the checkpoint to a meta parameter in the current model, which is a no-op. (Did you mean to pass `assign=True` to assign items in the state dictionary to their corresponding key in the module instead of copying them in place?)\n",
      "  warnings.warn(f'for {key}: copying from a non-meta parameter in the checkpoint to a meta '\n",
      "/home/et/miniconda3/envs/llava_next/lib/python3.11/site-packages/torch/nn/modules/module.py:2025: UserWarning: for vision_model.encoder.layers.21.layer_norm1.bias: copying from a non-meta parameter in the checkpoint to a meta parameter in the current model, which is a no-op. (Did you mean to pass `assign=True` to assign items in the state dictionary to their corresponding key in the module instead of copying them in place?)\n",
      "  warnings.warn(f'for {key}: copying from a non-meta parameter in the checkpoint to a meta '\n",
      "/home/et/miniconda3/envs/llava_next/lib/python3.11/site-packages/torch/nn/modules/module.py:2025: UserWarning: for vision_model.encoder.layers.21.mlp.fc1.weight: copying from a non-meta parameter in the checkpoint to a meta parameter in the current model, which is a no-op. (Did you mean to pass `assign=True` to assign items in the state dictionary to their corresponding key in the module instead of copying them in place?)\n",
      "  warnings.warn(f'for {key}: copying from a non-meta parameter in the checkpoint to a meta '\n",
      "/home/et/miniconda3/envs/llava_next/lib/python3.11/site-packages/torch/nn/modules/module.py:2025: UserWarning: for vision_model.encoder.layers.21.mlp.fc1.bias: copying from a non-meta parameter in the checkpoint to a meta parameter in the current model, which is a no-op. (Did you mean to pass `assign=True` to assign items in the state dictionary to their corresponding key in the module instead of copying them in place?)\n",
      "  warnings.warn(f'for {key}: copying from a non-meta parameter in the checkpoint to a meta '\n",
      "/home/et/miniconda3/envs/llava_next/lib/python3.11/site-packages/torch/nn/modules/module.py:2025: UserWarning: for vision_model.encoder.layers.21.mlp.fc2.weight: copying from a non-meta parameter in the checkpoint to a meta parameter in the current model, which is a no-op. (Did you mean to pass `assign=True` to assign items in the state dictionary to their corresponding key in the module instead of copying them in place?)\n",
      "  warnings.warn(f'for {key}: copying from a non-meta parameter in the checkpoint to a meta '\n",
      "/home/et/miniconda3/envs/llava_next/lib/python3.11/site-packages/torch/nn/modules/module.py:2025: UserWarning: for vision_model.encoder.layers.21.mlp.fc2.bias: copying from a non-meta parameter in the checkpoint to a meta parameter in the current model, which is a no-op. (Did you mean to pass `assign=True` to assign items in the state dictionary to their corresponding key in the module instead of copying them in place?)\n",
      "  warnings.warn(f'for {key}: copying from a non-meta parameter in the checkpoint to a meta '\n",
      "/home/et/miniconda3/envs/llava_next/lib/python3.11/site-packages/torch/nn/modules/module.py:2025: UserWarning: for vision_model.encoder.layers.21.layer_norm2.weight: copying from a non-meta parameter in the checkpoint to a meta parameter in the current model, which is a no-op. (Did you mean to pass `assign=True` to assign items in the state dictionary to their corresponding key in the module instead of copying them in place?)\n",
      "  warnings.warn(f'for {key}: copying from a non-meta parameter in the checkpoint to a meta '\n",
      "/home/et/miniconda3/envs/llava_next/lib/python3.11/site-packages/torch/nn/modules/module.py:2025: UserWarning: for vision_model.encoder.layers.21.layer_norm2.bias: copying from a non-meta parameter in the checkpoint to a meta parameter in the current model, which is a no-op. (Did you mean to pass `assign=True` to assign items in the state dictionary to their corresponding key in the module instead of copying them in place?)\n",
      "  warnings.warn(f'for {key}: copying from a non-meta parameter in the checkpoint to a meta '\n",
      "/home/et/miniconda3/envs/llava_next/lib/python3.11/site-packages/torch/nn/modules/module.py:2025: UserWarning: for vision_model.encoder.layers.22.self_attn.k_proj.weight: copying from a non-meta parameter in the checkpoint to a meta parameter in the current model, which is a no-op. (Did you mean to pass `assign=True` to assign items in the state dictionary to their corresponding key in the module instead of copying them in place?)\n",
      "  warnings.warn(f'for {key}: copying from a non-meta parameter in the checkpoint to a meta '\n",
      "/home/et/miniconda3/envs/llava_next/lib/python3.11/site-packages/torch/nn/modules/module.py:2025: UserWarning: for vision_model.encoder.layers.22.self_attn.k_proj.bias: copying from a non-meta parameter in the checkpoint to a meta parameter in the current model, which is a no-op. (Did you mean to pass `assign=True` to assign items in the state dictionary to their corresponding key in the module instead of copying them in place?)\n",
      "  warnings.warn(f'for {key}: copying from a non-meta parameter in the checkpoint to a meta '\n",
      "/home/et/miniconda3/envs/llava_next/lib/python3.11/site-packages/torch/nn/modules/module.py:2025: UserWarning: for vision_model.encoder.layers.22.self_attn.v_proj.weight: copying from a non-meta parameter in the checkpoint to a meta parameter in the current model, which is a no-op. (Did you mean to pass `assign=True` to assign items in the state dictionary to their corresponding key in the module instead of copying them in place?)\n",
      "  warnings.warn(f'for {key}: copying from a non-meta parameter in the checkpoint to a meta '\n",
      "/home/et/miniconda3/envs/llava_next/lib/python3.11/site-packages/torch/nn/modules/module.py:2025: UserWarning: for vision_model.encoder.layers.22.self_attn.v_proj.bias: copying from a non-meta parameter in the checkpoint to a meta parameter in the current model, which is a no-op. (Did you mean to pass `assign=True` to assign items in the state dictionary to their corresponding key in the module instead of copying them in place?)\n",
      "  warnings.warn(f'for {key}: copying from a non-meta parameter in the checkpoint to a meta '\n",
      "/home/et/miniconda3/envs/llava_next/lib/python3.11/site-packages/torch/nn/modules/module.py:2025: UserWarning: for vision_model.encoder.layers.22.self_attn.q_proj.weight: copying from a non-meta parameter in the checkpoint to a meta parameter in the current model, which is a no-op. (Did you mean to pass `assign=True` to assign items in the state dictionary to their corresponding key in the module instead of copying them in place?)\n",
      "  warnings.warn(f'for {key}: copying from a non-meta parameter in the checkpoint to a meta '\n",
      "/home/et/miniconda3/envs/llava_next/lib/python3.11/site-packages/torch/nn/modules/module.py:2025: UserWarning: for vision_model.encoder.layers.22.self_attn.q_proj.bias: copying from a non-meta parameter in the checkpoint to a meta parameter in the current model, which is a no-op. (Did you mean to pass `assign=True` to assign items in the state dictionary to their corresponding key in the module instead of copying them in place?)\n",
      "  warnings.warn(f'for {key}: copying from a non-meta parameter in the checkpoint to a meta '\n",
      "/home/et/miniconda3/envs/llava_next/lib/python3.11/site-packages/torch/nn/modules/module.py:2025: UserWarning: for vision_model.encoder.layers.22.self_attn.out_proj.weight: copying from a non-meta parameter in the checkpoint to a meta parameter in the current model, which is a no-op. (Did you mean to pass `assign=True` to assign items in the state dictionary to their corresponding key in the module instead of copying them in place?)\n",
      "  warnings.warn(f'for {key}: copying from a non-meta parameter in the checkpoint to a meta '\n",
      "/home/et/miniconda3/envs/llava_next/lib/python3.11/site-packages/torch/nn/modules/module.py:2025: UserWarning: for vision_model.encoder.layers.22.self_attn.out_proj.bias: copying from a non-meta parameter in the checkpoint to a meta parameter in the current model, which is a no-op. (Did you mean to pass `assign=True` to assign items in the state dictionary to their corresponding key in the module instead of copying them in place?)\n",
      "  warnings.warn(f'for {key}: copying from a non-meta parameter in the checkpoint to a meta '\n",
      "/home/et/miniconda3/envs/llava_next/lib/python3.11/site-packages/torch/nn/modules/module.py:2025: UserWarning: for vision_model.encoder.layers.22.layer_norm1.weight: copying from a non-meta parameter in the checkpoint to a meta parameter in the current model, which is a no-op. (Did you mean to pass `assign=True` to assign items in the state dictionary to their corresponding key in the module instead of copying them in place?)\n",
      "  warnings.warn(f'for {key}: copying from a non-meta parameter in the checkpoint to a meta '\n",
      "/home/et/miniconda3/envs/llava_next/lib/python3.11/site-packages/torch/nn/modules/module.py:2025: UserWarning: for vision_model.encoder.layers.22.layer_norm1.bias: copying from a non-meta parameter in the checkpoint to a meta parameter in the current model, which is a no-op. (Did you mean to pass `assign=True` to assign items in the state dictionary to their corresponding key in the module instead of copying them in place?)\n",
      "  warnings.warn(f'for {key}: copying from a non-meta parameter in the checkpoint to a meta '\n",
      "/home/et/miniconda3/envs/llava_next/lib/python3.11/site-packages/torch/nn/modules/module.py:2025: UserWarning: for vision_model.encoder.layers.22.mlp.fc1.weight: copying from a non-meta parameter in the checkpoint to a meta parameter in the current model, which is a no-op. (Did you mean to pass `assign=True` to assign items in the state dictionary to their corresponding key in the module instead of copying them in place?)\n",
      "  warnings.warn(f'for {key}: copying from a non-meta parameter in the checkpoint to a meta '\n",
      "/home/et/miniconda3/envs/llava_next/lib/python3.11/site-packages/torch/nn/modules/module.py:2025: UserWarning: for vision_model.encoder.layers.22.mlp.fc1.bias: copying from a non-meta parameter in the checkpoint to a meta parameter in the current model, which is a no-op. (Did you mean to pass `assign=True` to assign items in the state dictionary to their corresponding key in the module instead of copying them in place?)\n",
      "  warnings.warn(f'for {key}: copying from a non-meta parameter in the checkpoint to a meta '\n",
      "/home/et/miniconda3/envs/llava_next/lib/python3.11/site-packages/torch/nn/modules/module.py:2025: UserWarning: for vision_model.encoder.layers.22.mlp.fc2.weight: copying from a non-meta parameter in the checkpoint to a meta parameter in the current model, which is a no-op. (Did you mean to pass `assign=True` to assign items in the state dictionary to their corresponding key in the module instead of copying them in place?)\n",
      "  warnings.warn(f'for {key}: copying from a non-meta parameter in the checkpoint to a meta '\n",
      "/home/et/miniconda3/envs/llava_next/lib/python3.11/site-packages/torch/nn/modules/module.py:2025: UserWarning: for vision_model.encoder.layers.22.mlp.fc2.bias: copying from a non-meta parameter in the checkpoint to a meta parameter in the current model, which is a no-op. (Did you mean to pass `assign=True` to assign items in the state dictionary to their corresponding key in the module instead of copying them in place?)\n",
      "  warnings.warn(f'for {key}: copying from a non-meta parameter in the checkpoint to a meta '\n",
      "/home/et/miniconda3/envs/llava_next/lib/python3.11/site-packages/torch/nn/modules/module.py:2025: UserWarning: for vision_model.encoder.layers.22.layer_norm2.weight: copying from a non-meta parameter in the checkpoint to a meta parameter in the current model, which is a no-op. (Did you mean to pass `assign=True` to assign items in the state dictionary to their corresponding key in the module instead of copying them in place?)\n",
      "  warnings.warn(f'for {key}: copying from a non-meta parameter in the checkpoint to a meta '\n",
      "/home/et/miniconda3/envs/llava_next/lib/python3.11/site-packages/torch/nn/modules/module.py:2025: UserWarning: for vision_model.encoder.layers.22.layer_norm2.bias: copying from a non-meta parameter in the checkpoint to a meta parameter in the current model, which is a no-op. (Did you mean to pass `assign=True` to assign items in the state dictionary to their corresponding key in the module instead of copying them in place?)\n",
      "  warnings.warn(f'for {key}: copying from a non-meta parameter in the checkpoint to a meta '\n",
      "/home/et/miniconda3/envs/llava_next/lib/python3.11/site-packages/torch/nn/modules/module.py:2025: UserWarning: for vision_model.encoder.layers.23.self_attn.k_proj.weight: copying from a non-meta parameter in the checkpoint to a meta parameter in the current model, which is a no-op. (Did you mean to pass `assign=True` to assign items in the state dictionary to their corresponding key in the module instead of copying them in place?)\n",
      "  warnings.warn(f'for {key}: copying from a non-meta parameter in the checkpoint to a meta '\n",
      "/home/et/miniconda3/envs/llava_next/lib/python3.11/site-packages/torch/nn/modules/module.py:2025: UserWarning: for vision_model.encoder.layers.23.self_attn.k_proj.bias: copying from a non-meta parameter in the checkpoint to a meta parameter in the current model, which is a no-op. (Did you mean to pass `assign=True` to assign items in the state dictionary to their corresponding key in the module instead of copying them in place?)\n",
      "  warnings.warn(f'for {key}: copying from a non-meta parameter in the checkpoint to a meta '\n",
      "/home/et/miniconda3/envs/llava_next/lib/python3.11/site-packages/torch/nn/modules/module.py:2025: UserWarning: for vision_model.encoder.layers.23.self_attn.v_proj.weight: copying from a non-meta parameter in the checkpoint to a meta parameter in the current model, which is a no-op. (Did you mean to pass `assign=True` to assign items in the state dictionary to their corresponding key in the module instead of copying them in place?)\n",
      "  warnings.warn(f'for {key}: copying from a non-meta parameter in the checkpoint to a meta '\n",
      "/home/et/miniconda3/envs/llava_next/lib/python3.11/site-packages/torch/nn/modules/module.py:2025: UserWarning: for vision_model.encoder.layers.23.self_attn.v_proj.bias: copying from a non-meta parameter in the checkpoint to a meta parameter in the current model, which is a no-op. (Did you mean to pass `assign=True` to assign items in the state dictionary to their corresponding key in the module instead of copying them in place?)\n",
      "  warnings.warn(f'for {key}: copying from a non-meta parameter in the checkpoint to a meta '\n",
      "/home/et/miniconda3/envs/llava_next/lib/python3.11/site-packages/torch/nn/modules/module.py:2025: UserWarning: for vision_model.encoder.layers.23.self_attn.q_proj.weight: copying from a non-meta parameter in the checkpoint to a meta parameter in the current model, which is a no-op. (Did you mean to pass `assign=True` to assign items in the state dictionary to their corresponding key in the module instead of copying them in place?)\n",
      "  warnings.warn(f'for {key}: copying from a non-meta parameter in the checkpoint to a meta '\n",
      "/home/et/miniconda3/envs/llava_next/lib/python3.11/site-packages/torch/nn/modules/module.py:2025: UserWarning: for vision_model.encoder.layers.23.self_attn.q_proj.bias: copying from a non-meta parameter in the checkpoint to a meta parameter in the current model, which is a no-op. (Did you mean to pass `assign=True` to assign items in the state dictionary to their corresponding key in the module instead of copying them in place?)\n",
      "  warnings.warn(f'for {key}: copying from a non-meta parameter in the checkpoint to a meta '\n",
      "/home/et/miniconda3/envs/llava_next/lib/python3.11/site-packages/torch/nn/modules/module.py:2025: UserWarning: for vision_model.encoder.layers.23.self_attn.out_proj.weight: copying from a non-meta parameter in the checkpoint to a meta parameter in the current model, which is a no-op. (Did you mean to pass `assign=True` to assign items in the state dictionary to their corresponding key in the module instead of copying them in place?)\n",
      "  warnings.warn(f'for {key}: copying from a non-meta parameter in the checkpoint to a meta '\n",
      "/home/et/miniconda3/envs/llava_next/lib/python3.11/site-packages/torch/nn/modules/module.py:2025: UserWarning: for vision_model.encoder.layers.23.self_attn.out_proj.bias: copying from a non-meta parameter in the checkpoint to a meta parameter in the current model, which is a no-op. (Did you mean to pass `assign=True` to assign items in the state dictionary to their corresponding key in the module instead of copying them in place?)\n",
      "  warnings.warn(f'for {key}: copying from a non-meta parameter in the checkpoint to a meta '\n",
      "/home/et/miniconda3/envs/llava_next/lib/python3.11/site-packages/torch/nn/modules/module.py:2025: UserWarning: for vision_model.encoder.layers.23.layer_norm1.weight: copying from a non-meta parameter in the checkpoint to a meta parameter in the current model, which is a no-op. (Did you mean to pass `assign=True` to assign items in the state dictionary to their corresponding key in the module instead of copying them in place?)\n",
      "  warnings.warn(f'for {key}: copying from a non-meta parameter in the checkpoint to a meta '\n",
      "/home/et/miniconda3/envs/llava_next/lib/python3.11/site-packages/torch/nn/modules/module.py:2025: UserWarning: for vision_model.encoder.layers.23.layer_norm1.bias: copying from a non-meta parameter in the checkpoint to a meta parameter in the current model, which is a no-op. (Did you mean to pass `assign=True` to assign items in the state dictionary to their corresponding key in the module instead of copying them in place?)\n",
      "  warnings.warn(f'for {key}: copying from a non-meta parameter in the checkpoint to a meta '\n",
      "/home/et/miniconda3/envs/llava_next/lib/python3.11/site-packages/torch/nn/modules/module.py:2025: UserWarning: for vision_model.encoder.layers.23.mlp.fc1.weight: copying from a non-meta parameter in the checkpoint to a meta parameter in the current model, which is a no-op. (Did you mean to pass `assign=True` to assign items in the state dictionary to their corresponding key in the module instead of copying them in place?)\n",
      "  warnings.warn(f'for {key}: copying from a non-meta parameter in the checkpoint to a meta '\n",
      "/home/et/miniconda3/envs/llava_next/lib/python3.11/site-packages/torch/nn/modules/module.py:2025: UserWarning: for vision_model.encoder.layers.23.mlp.fc1.bias: copying from a non-meta parameter in the checkpoint to a meta parameter in the current model, which is a no-op. (Did you mean to pass `assign=True` to assign items in the state dictionary to their corresponding key in the module instead of copying them in place?)\n",
      "  warnings.warn(f'for {key}: copying from a non-meta parameter in the checkpoint to a meta '\n",
      "/home/et/miniconda3/envs/llava_next/lib/python3.11/site-packages/torch/nn/modules/module.py:2025: UserWarning: for vision_model.encoder.layers.23.mlp.fc2.weight: copying from a non-meta parameter in the checkpoint to a meta parameter in the current model, which is a no-op. (Did you mean to pass `assign=True` to assign items in the state dictionary to their corresponding key in the module instead of copying them in place?)\n",
      "  warnings.warn(f'for {key}: copying from a non-meta parameter in the checkpoint to a meta '\n",
      "/home/et/miniconda3/envs/llava_next/lib/python3.11/site-packages/torch/nn/modules/module.py:2025: UserWarning: for vision_model.encoder.layers.23.mlp.fc2.bias: copying from a non-meta parameter in the checkpoint to a meta parameter in the current model, which is a no-op. (Did you mean to pass `assign=True` to assign items in the state dictionary to their corresponding key in the module instead of copying them in place?)\n",
      "  warnings.warn(f'for {key}: copying from a non-meta parameter in the checkpoint to a meta '\n",
      "/home/et/miniconda3/envs/llava_next/lib/python3.11/site-packages/torch/nn/modules/module.py:2025: UserWarning: for vision_model.encoder.layers.23.layer_norm2.weight: copying from a non-meta parameter in the checkpoint to a meta parameter in the current model, which is a no-op. (Did you mean to pass `assign=True` to assign items in the state dictionary to their corresponding key in the module instead of copying them in place?)\n",
      "  warnings.warn(f'for {key}: copying from a non-meta parameter in the checkpoint to a meta '\n",
      "/home/et/miniconda3/envs/llava_next/lib/python3.11/site-packages/torch/nn/modules/module.py:2025: UserWarning: for vision_model.encoder.layers.23.layer_norm2.bias: copying from a non-meta parameter in the checkpoint to a meta parameter in the current model, which is a no-op. (Did you mean to pass `assign=True` to assign items in the state dictionary to their corresponding key in the module instead of copying them in place?)\n",
      "  warnings.warn(f'for {key}: copying from a non-meta parameter in the checkpoint to a meta '\n",
      "/home/et/miniconda3/envs/llava_next/lib/python3.11/site-packages/torch/nn/modules/module.py:2025: UserWarning: for vision_model.post_layernorm.weight: copying from a non-meta parameter in the checkpoint to a meta parameter in the current model, which is a no-op. (Did you mean to pass `assign=True` to assign items in the state dictionary to their corresponding key in the module instead of copying them in place?)\n",
      "  warnings.warn(f'for {key}: copying from a non-meta parameter in the checkpoint to a meta '\n",
      "/home/et/miniconda3/envs/llava_next/lib/python3.11/site-packages/torch/nn/modules/module.py:2025: UserWarning: for vision_model.post_layernorm.bias: copying from a non-meta parameter in the checkpoint to a meta parameter in the current model, which is a no-op. (Did you mean to pass `assign=True` to assign items in the state dictionary to their corresponding key in the module instead of copying them in place?)\n",
      "  warnings.warn(f'for {key}: copying from a non-meta parameter in the checkpoint to a meta '\n"
     ]
    },
    {
     "data": {
      "application/vnd.jupyter.widget-view+json": {
       "model_id": "3ff6e1bcb2fb4ca78f5be22a492be070",
       "version_major": 2,
       "version_minor": 0
      },
      "text/plain": [
       "Loading checkpoint shards:   0%|          | 0/15 [00:00<?, ?it/s]"
      ]
     },
     "metadata": {},
     "output_type": "display_data"
    }
   ],
   "source": [
    "model_path = 'liuhaotian/llava-v1.6-34b'\n",
    "\n",
    "tokenizer, model, image_processor, context_len = load_pretrained_model(\n",
    "    model_path=model_path,\n",
    "    model_base=None,\n",
    "    model_name=get_model_name_from_path(model_path),\n",
    "    cache_dir='/mnt/esperanto/et/huggingface/hub'\n",
    ")"
   ]
  },
  {
   "cell_type": "code",
   "execution_count": 4,
   "metadata": {},
   "outputs": [],
   "source": [
    "def generate_label(raw_image):\n",
    "    device = torch.device('cuda')\n",
    "    prompt = \"\"\"<|im_start|>user\n",
    "    <image>\n",
    "    This image is taken from a recipe. Describe the cooking step in a very short snippet.<|im_end|>\n",
    "    <|im_start|>assistant\"\"\"\n",
    "\n",
    "    image_tensor = image_processor(raw_image, return_tensors='pt')['pixel_values'].to(device, torch.float16)\n",
    "    input_ids = tokenizer_image_token(prompt, tokenizer, IMAGE_TOKEN_INDEX, return_tensors='pt').unsqueeze(0).to(device)\n",
    "\n",
    "    with torch.inference_mode():\n",
    "        output_ids = model.generate(\n",
    "                            input_ids,\n",
    "                            images=image_tensor,\n",
    "                            do_sample=False,\n",
    "                            #temperature=0.2,\n",
    "                            max_new_tokens=30,\n",
    "                            #use_cache=True,\n",
    "                            )\n",
    "\n",
    "    outputs = tokenizer.decode(output_ids[0,:], skip_special_tokens=True).strip().strip('\"')\n",
    "    return outputs"
   ]
  },
  {
   "cell_type": "code",
   "execution_count": 5,
   "metadata": {},
   "outputs": [
    {
     "name": "stderr",
     "output_type": "stream",
     "text": [
      "  0%|          | 0/188 [00:00<?, ?it/s]"
     ]
    },
    {
     "name": "stdout",
     "output_type": "stream",
     "text": [
      "Heat a large pot on the stove.\n",
      "Adding vegetables to the pot for stir-frying.\n",
      "Adding liquid to a simmering sauce.\n",
      "Adding sliced onions to a pot of simmering liquid.\n",
      "Stirring ingredients in a pot on the stove.\n",
      "Adding ingredients to a pot on the stove.\n",
      "Adding tomato sauce to the pan with the chicken\n"
     ]
    },
    {
     "name": "stderr",
     "output_type": "stream",
     "text": [
      "  1%|          | 1/188 [00:13<41:05, 13.18s/it]"
     ]
    },
    {
     "name": "stdout",
     "output_type": "stream",
     "text": [
      "Simmering the sauce with onions and spices.\n",
      "Sprinkle the seasoning evenly over the surface of the food in the pan.\n",
      "Slice the cake into even pieces.\n",
      "Adding oil to a hot pan for cooking.\n",
      "Frying tofu cubes in a pan.\n",
      "Chopping green onions on a cutting board.\n",
      "Mixing ingredients in a pot.\n",
      "Grilling tofu cubes on a griddle.\n",
      "Sauté tofu cubes in a hot pan with a small amount of oil until golden brown on all sides.\n",
      "Add stir-fried vegetables to the noodles.\n",
      "Dipping sauce ready to be served with sushi rolls.\n"
     ]
    },
    {
     "name": "stderr",
     "output_type": "stream",
     "text": [
      "  1%|          | 2/188 [00:31<50:41, 16.35s/it]"
     ]
    },
    {
     "name": "stdout",
     "output_type": "stream",
     "text": [
      "Toss cooked noodles with sauce and stir-fry until coated.\n",
      "Prepare the ingredients and gather them on the counter.\n",
      "Adding the final touch to the dish with a sprinkle of fresh herbs.\n",
      "Slice and arrange tomatoes in a roasting pan, season with herbs and garlic, and drizzle with olive oil.\n",
      "Roasting tomatoes and herbs on a baking sheet.\n",
      "Roasting tomatoes with herbs and garlic.\n",
      "Pouring sauce into a simmering pot of pasta.\n",
      "Add fresh basil leaves to the pot for added flavor.\n",
      "Adding ingredients to the pot to create a flavorful soup.\n"
     ]
    },
    {
     "name": "stderr",
     "output_type": "stream",
     "text": [
      "  2%|▏         | 3/188 [00:46<48:46, 15.82s/it]"
     ]
    },
    {
     "name": "stdout",
     "output_type": "stream",
     "text": [
      "Adding ingredients to the pot.\n",
      "Pour the dark sauce into the glass bowl.\n",
      "Seasoning salmon with a red sauce.\n",
      "Brushing sauce onto salmon fillets.\n",
      "Add cooked rice to a bowl and mix with sauce.\n",
      "Assemble sushi rolls on a bamboo mat.\n",
      "Rolling sushi with bamboo mat and adding filling.\n",
      "Place the cooked chicken into the orange container.\n"
     ]
    },
    {
     "name": "stderr",
     "output_type": "stream",
     "text": [
      "  2%|▏         | 4/188 [00:58<43:52, 14.31s/it]"
     ]
    },
    {
     "name": "stdout",
     "output_type": "stream",
     "text": [
      "Pour the sauce into the glass bowl on the wooden table.\n",
      "The chef is demonstrating the process of stirring ingredients in a pan, likely to ensure even cooking and to prevent sticking or burning.\n",
      "The chef is in the process of adding ingredients to a pan, likely sautéing or stir-frying them as part of the recipe\n",
      "Adding white pepper powder to stir-fried vegetables.\n",
      "The chef is in the process of stirring the contents of a wok, likely to ensure even cooking and to prevent sticking or burning.\n",
      "Cutting vegetables for stir-fry.\n",
      "Toss the shredded vegetables with the dressing to evenly coat.\n",
      "Frying spring rolls in a pan.\n"
     ]
    },
    {
     "name": "stderr",
     "output_type": "stream",
     "text": [
      "  3%|▎         | 5/188 [01:13<44:07, 14.47s/it]"
     ]
    },
    {
     "name": "stdout",
     "output_type": "stream",
     "text": [
      "Stir-fry the vegetables in a hot wok.\n",
      "Adding liquid to a hot pan.\n",
      "Sautéing meat in a pan with oil.\n",
      "Frying ingredients in a pan.\n",
      "Frying chopped mushrooms in a pan.\n",
      "Adding seasoning to the rice mixture.\n",
      "Stir-fry the rice in the wok with a spatula.\n",
      "Stir-fry the rice and vegetables in a hot pan with a small amount of oil.\n"
     ]
    },
    {
     "name": "stderr",
     "output_type": "stream",
     "text": [
      "  3%|▎         | 6/188 [01:23<38:54, 12.83s/it]"
     ]
    },
    {
     "name": "stdout",
     "output_type": "stream",
     "text": [
      "Heat a wok or large skillet over medium-high heat.\n",
      "Mixing ingredients in a bowl.\n",
      "Chopped meat and vegetables being mixed in a bowl.\n",
      "Adding sauce to the meat patty before cooking.\n",
      "Heat a pan with a small amount of oil.\n",
      "Frying dumplings in a pan.\n",
      "Frying dumplings in a pan.\n",
      "Fried dumplings on a plate.\n"
     ]
    },
    {
     "name": "stderr",
     "output_type": "stream",
     "text": [
      "  4%|▎         | 7/188 [01:32<34:38, 11.48s/it]"
     ]
    },
    {
     "name": "stdout",
     "output_type": "stream",
     "text": [
      "Fried dumplings on a plate.\n",
      "Mixing the ingredients for the potato pancake batter.\n",
      "Mash the potatoes with a fork.\n",
      "Mix the batter and pour it onto the hot griddle.\n",
      "Flip the pancake to cook the other side.\n",
      "Adding green topping to potato pancake.\n",
      "Mix the mashed potatoes with the egg and seasonings.\n",
      "Flip the potato pancake to cook the other side.\n"
     ]
    },
    {
     "name": "stderr",
     "output_type": "stream",
     "text": [
      "  4%|▍         | 8/188 [01:41<32:08, 10.71s/it]"
     ]
    },
    {
     "name": "stdout",
     "output_type": "stream",
     "text": [
      "Flip the potato pancake to cook the other side.\n",
      "Mixing dry ingredients in a bowl.\n",
      "Chopping vegetables on a cutting board.\n",
      "Chopped avocado and tomato ready to be mixed into the guacamole.\n",
      "Sautéing ground beef in a pan on the stove.\n",
      "Adding onions to the pan with ground meat.\n",
      "Adding spices to the ground beef mixture in the pan.\n",
      "The woman is adding oil to a pan on the stove, likely preparing to cook the ingredients for the recipe.\n",
      "Adding pasta to boiling water.\n",
      "The woman is in the process of adding ingredients to a pan on the stove, likely preparing a dish that involves sautéing or cooking the\n"
     ]
    },
    {
     "name": "stderr",
     "output_type": "stream",
     "text": [
      "  5%|▍         | 9/188 [01:58<38:19, 12.85s/it]"
     ]
    },
    {
     "name": "stdout",
     "output_type": "stream",
     "text": [
      "Woman holding a tortilla, preparing to make a taco with the filling in the pan.\n",
      "Tossing the stir-fry ingredients in a pan.\n",
      "Heat a large pot over medium heat.\n",
      "Stirring the contents of a pot on the stove.\n",
      "Baking potatoes in the oven\n",
      "Heat a large pot on the stove.\n",
      "Grilling sausages on a pan.\n",
      "Fry the fish fillets until golden brown on both sides.\n",
      "Mixing ingredients in a pot.\n"
     ]
    },
    {
     "name": "stderr",
     "output_type": "stream",
     "text": [
      "  5%|▌         | 10/188 [02:08<35:24, 11.94s/it]"
     ]
    },
    {
     "name": "stdout",
     "output_type": "stream",
     "text": [
      "Stirring the ingredients in the pot.\n",
      "Roll out dough into a thin sheet.\n",
      "Spreading tomato sauce on pizza dough.\n",
      "The person in the image appears to be in the process of preparing a dish, possibly following a recipe. They are looking down at the ingredients or\n",
      "Add sliced tomatoes to the pizza dough with sauce.\n",
      "Add sliced mozzarella and tomatoes to the pizza dough.\n",
      "Adding fresh mozzarella and basil leaves to the pizza before baking.\n",
      "Add sliced tomatoes to the pizza dough with sauce.\n"
     ]
    },
    {
     "name": "stderr",
     "output_type": "stream",
     "text": [
      "  6%|▌         | 11/188 [02:19<33:59, 11.52s/it]"
     ]
    },
    {
     "name": "stdout",
     "output_type": "stream",
     "text": [
      "Adding sliced tomatoes to pizza dough.\n",
      "Mixing ingredients in a bowl.\n",
      "The person in the image is pouring a liquid from a bottle into a pan or pot, likely adding an ingredient to the dish they are preparing.\n",
      "Combine ground meat and breadcrumbs in a bowl.\n",
      "Adding sauce to the stir-fry ingredients in the bowl.\n",
      "Adding meat mixture to the center of the tortilla.\n",
      "The person in the image appears to be in the process of cooking, possibly stirring or seasoning ingredients in a pot or pan. They are focused\n",
      "Heat a wok or large skillet over medium-high heat.\n",
      "Adding seasoning to the dish.\n",
      "Frying dumplings in a pan.\n"
     ]
    },
    {
     "name": "stderr",
     "output_type": "stream",
     "text": [
      "  6%|▋         | 12/188 [02:33<36:04, 12.30s/it]"
     ]
    },
    {
     "name": "stdout",
     "output_type": "stream",
     "text": [
      "Frying dumplings in a pan.\n",
      "Adding spice to a dish.\n",
      "Season the meat with the spice mixture from the bowl.\n",
      "Season the steak with salt and pepper, then place it on a cutting board or plate.\n",
      "Place the seasoned meat in the slow cooker.\n",
      "Shredding cooked meat with a fork.\n",
      "Adding spice to the pan.\n",
      "Grill the meat until it reaches the desired level of doneness, then let it rest before slicing and serving.\n"
     ]
    },
    {
     "name": "stderr",
     "output_type": "stream",
     "text": [
      "  7%|▋         | 13/188 [02:47<37:14, 12.77s/it]"
     ]
    },
    {
     "name": "stdout",
     "output_type": "stream",
     "text": [
      "Shredding cooked meat with a fork.\n",
      "Peeling a large potato with a peeler.\n",
      "Add ingredients to the bowl and mix well.\n",
      "Shredding cheese on a cutting board.\n",
      "Adding a splash of water to a hot pan to deglaze and create a sauce.\n",
      "Sprinkle the flour mixture over the wet ingredients, stirring gently until just combined.\n",
      "Fry the hash browns until golden and crispy.\n",
      "Fry the hash browns until golden and crispy.\n"
     ]
    },
    {
     "name": "stderr",
     "output_type": "stream",
     "text": [
      "  7%|▋         | 14/188 [03:01<38:17, 13.20s/it]"
     ]
    },
    {
     "name": "stdout",
     "output_type": "stream",
     "text": [
      "Tossing shredded cheese into a hot pan to melt.\n",
      "Peeling and slicing the fruit for the dessert.\n",
      "Mixing ingredients in a bowl.\n",
      "Add the chopped onions to the pan and sauté until translucent.\n",
      "Strain the cooked pasta through a colander.\n",
      "The person is stirring a pot of soup on the stove, likely to ensure even cooking and to prevent it from sticking to the bottom.\n",
      "Adding ingredients to a pot on the stove.\n",
      "Adding ingredients to a pot on the stove.\n"
     ]
    },
    {
     "name": "stderr",
     "output_type": "stream",
     "text": [
      "  8%|▊         | 15/188 [03:14<38:26, 13.33s/it]"
     ]
    },
    {
     "name": "stdout",
     "output_type": "stream",
     "text": [
      "Draining cooked pasta through a colander.\n",
      "Adding ingredients to a mixing bowl.\n",
      "Mixing ingredients in a bowl.\n",
      "Mixing ingredients in a bowl.\n",
      "The chef is in the process of adding ingredients to a bowl, likely preparing a mixture for a dish.\n",
      "Mixing ingredients in a bowl.\n",
      "Frying tortillas on a griddle.\n",
      "Add ingredients to mixing bowl.\n"
     ]
    },
    {
     "name": "stderr",
     "output_type": "stream",
     "text": [
      "  9%|▊         | 16/188 [03:23<33:59, 11.86s/it]"
     ]
    },
    {
     "name": "stdout",
     "output_type": "stream",
     "text": [
      "Pour the batter into the prepared baking dish.\n",
      "Add flour to the bowl and mix with the wet ingredients.\n",
      "Add eggs to the flour mixture and whisk until smooth.\n",
      "Mixing ingredients in a bowl.\n",
      "Mix remaining milk until smooth.\n",
      "Let the mixture rest for 10 minutes (or freeze for another day)\n",
      "Sprinkle seasoning evenly over the hot pan.\n",
      "Pouring batter into a hot pan to make a pancake.\n",
      "Flip the pancake to cook the other side evenly.\n"
     ]
    },
    {
     "name": "stderr",
     "output_type": "stream",
     "text": [
      "  9%|▉         | 17/188 [03:37<36:11, 12.70s/it]"
     ]
    },
    {
     "name": "stdout",
     "output_type": "stream",
     "text": [
      "Fold the cooked pancake and wrap it in a freezer-safe wrap to store for later.\n",
      "Chop fresh lettuce for a healthy salad.\n",
      "Wash and chop fresh greens for salad.\n",
      "Add water to the pot.\n",
      "Fry the ingredients in a hot pan with oil.\n",
      "Mix ingredients in a bowl.\n",
      "Mix ingredients in a bowl.\n",
      "Washing green vegetables in a bowl.\n",
      "Mix the ingredients in a bowl to form a smooth sauce.\n",
      "Mix the ingredients in a bowl to create a smooth sauce.\n",
      "Pour the cooked pasta into the jar.\n"
     ]
    },
    {
     "name": "stderr",
     "output_type": "stream",
     "text": [
      " 10%|▉         | 18/188 [03:55<39:59, 14.11s/it]"
     ]
    },
    {
     "name": "stdout",
     "output_type": "stream",
     "text": [
      "Pouring brine into a jar of pickled vegetables.\n",
      "Adding liquid to the chopped ingredients in a pan.\n",
      "Chopping green vegetables on a cutting board.\n",
      "Chopping green onions on a cutting board.\n",
      "Chopped ingredients ready to be cooked in a wok.\n",
      "Chopping and adding ingredients to a pan.\n",
      "Mashing potatoes with a fork.\n",
      "Mashing potatoes with a fork.\n"
     ]
    },
    {
     "name": "stderr",
     "output_type": "stream",
     "text": [
      " 10%|█         | 19/188 [04:04<35:16, 12.52s/it]"
     ]
    },
    {
     "name": "stdout",
     "output_type": "stream",
     "text": [
      "Mixing ingredients in a bowl for a creamy salad.\n",
      "Peeling potatoes with a peeler.\n",
      "Chopped apples ready for cooking.\n",
      "Adding liquid to the pot with the sliced fruit.\n",
      "Frying food in a pan.\n",
      "Frying diced potatoes in a pan.\n",
      "Frying diced potatoes in a pan.\n",
      "Mash cooked potatoes in a pot.\n",
      "Mashing potatoes with a fork.\n",
      "Mash cooked potatoes in a bowl.\n"
     ]
    },
    {
     "name": "stderr",
     "output_type": "stream",
     "text": [
      " 11%|█         | 20/188 [04:18<36:14, 12.94s/it]"
     ]
    },
    {
     "name": "stdout",
     "output_type": "stream",
     "text": [
      "Mashing potatoes with a fork.\n",
      "Chop and mix vegetables for stir-fry.\n",
      "Adding chopped greens to a pot of simmering vegetables.\n",
      "Add vegetables to the pot and stir to combine.\n",
      "Adding sliced garlic to a simmering pot of soup.\n",
      "Adding vegetables to the pot.\n",
      "Shredding cheese onto a plate.\n",
      "Add chopped vegetables to the pot.\n"
     ]
    },
    {
     "name": "stderr",
     "output_type": "stream",
     "text": [
      " 11%|█         | 21/188 [04:29<34:51, 12.52s/it]"
     ]
    },
    {
     "name": "stdout",
     "output_type": "stream",
     "text": [
      "Chopping fresh herbs for a dish.\n",
      "Peeling and slicing the garlic cloves for the dish.\n",
      "Grate cheese onto the surface.\n",
      "Combine rice and seasonings in a bowl.\n",
      "Tossing ingredients in a bowl to evenly coat with marinade or seasoning.\n",
      "Slicing a banana on a cutting board.\n",
      "Chopped green onions and garlic being added to a pan.\n",
      "Place the dough on a floured surface and roll it out.\n",
      "Frying ingredients in a hot pan.\n",
      "Boiling green beans in a pot.\n"
     ]
    },
    {
     "name": "stderr",
     "output_type": "stream",
     "text": [
      " 12%|█▏        | 22/188 [04:46<37:50, 13.68s/it]"
     ]
    },
    {
     "name": "stdout",
     "output_type": "stream",
     "text": [
      "Mixing ingredients in a bowl.\n",
      "Pouring melted chocolate onto a surface to create a thin layer for setting.\n",
      "Chopped onions and rice being stirred together in a pan.\n",
      "Chopped vegetables ready for cooking.\n",
      "Add cooked beans and red kidney beans to the pot.\n",
      "Stir-fry the vegetables in a hot pan with a small amount of oil.\n",
      "Tossing the greens with the dressing to evenly coat.\n",
      "Cook pasta in boiling water until al dente, then drain and set aside.\n"
     ]
    },
    {
     "name": "stderr",
     "output_type": "stream",
     "text": [
      " 13%|█▎        | 24/188 [04:57<27:05,  9.91s/it]"
     ]
    },
    {
     "name": "stdout",
     "output_type": "stream",
     "text": [
      "Chopped onions and garlic sautéing in a pan.\n",
      "Chopping lettuce on a cutting board.\n",
      "Shredding cheese on a cutting board\n",
      "Mixing ingredients in a bowl.\n",
      "Adding ingredients to a bowl for mixing.\n",
      "Adding green sauce to the bowl\n",
      "The image shows a person pouring a green liquid from a teapot into a bowl, which is likely a step in a recipe involving steeping\n",
      "Preparing to mix ingredients in a bowl.\n"
     ]
    },
    {
     "name": "stderr",
     "output_type": "stream",
     "text": [
      " 13%|█▎        | 25/188 [05:10<29:00, 10.68s/it]"
     ]
    },
    {
     "name": "stdout",
     "output_type": "stream",
     "text": [
      "Chopping cabbage on a cutting board.\n",
      "Adding spices to the mixture.\n",
      "Mixing dry ingredients in a bowl.\n",
      "Mixing ingredients in a bowl.\n",
      "Heat the wok on medium-high heat.\n",
      "Adding ingredients to a pan.\n",
      "Sautéing vegetables in a pan.\n",
      "Sautéing diced potatoes in a pan with oil.\n",
      "Mash the cooked potatoes with a fork.\n",
      "Roll out dough on a floured surface.\n",
      "Assembling the dish: Place the cooked rice on a tortilla and add the desired toppings.\n"
     ]
    },
    {
     "name": "stderr",
     "output_type": "stream",
     "text": [
      " 14%|█▍        | 26/188 [05:27<33:42, 12.49s/it]"
     ]
    },
    {
     "name": "stdout",
     "output_type": "stream",
     "text": [
      "Frying an egg in a pan on a stove.\n",
      "Add the wet ingredients to the dry ingredients and mix until just combined.\n",
      "Mixing dough with sauce for a flavorful filling.\n",
      "Seasoning the meat with salt and pepper before cooking.\n",
      "Preparing to roll out the dough for the pizza base.\n",
      "Preparing the ingredients: The chef is holding a plate with a portion of the dish, possibly for tasting or plating.\n",
      "Blend ingredients in a food processor.\n",
      "Dicing tomatoes on a cutting board.\n",
      "Knead the dough on a floured surface until smooth and elastic.\n",
      "Seasoning the meat before cooking.\n",
      "Spreading a layer of pesto on a piece of bread.\n"
     ]
    },
    {
     "name": "stderr",
     "output_type": "stream",
     "text": [
      " 15%|█▍        | 28/188 [05:46<29:32, 11.08s/it]"
     ]
    },
    {
     "name": "stdout",
     "output_type": "stream",
     "text": [
      "Adding a poached egg to the dish.\n",
      "The chef is in the process of preparing a dish, likely sautéing ingredients in a pan.\n",
      "The chef is in the process of searing a piece of meat on a hot grill, likely to create a flavorful crust and cook the meat\n",
      "The chef is in the process of adding ingredients to a pan, likely preparing a dish that involves sautéing or frying.\n",
      "The chef is in the process of preparing a dish, likely in the step of seasoning or adding ingredients to the pan.\n",
      "The chef is in the process of sautéing ingredients in a pan, likely preparing a dish that requires cooking over high heat to achieve a\n",
      "The chef is in the process of adding ingredients to a pan, likely sautéing or stir-frying them as part of the recipe\n",
      "The chef is in the process of stirring or mixing ingredients in a pan or pot on the stove, likely to ensure even cooking and to prevent sticking\n"
     ]
    },
    {
     "name": "stderr",
     "output_type": "stream",
     "text": [
      " 15%|█▌        | 29/188 [06:05<34:36, 13.06s/it]"
     ]
    },
    {
     "name": "stdout",
     "output_type": "stream",
     "text": [
      "The chef is in the process of stirring or mixing ingredients in a pan or pot on the stove, likely to ensure even cooking and to prevent sticking\n",
      "Frying bacon in a pan.\n",
      "Frying bacon in a pan.\n",
      "Sear the meat in a hot pan.\n",
      "Add flour to the pot\n",
      "Adding sauce to stir-fry ingredients.\n",
      "Cooking the vegetables in a pot\n",
      "Add wine to the pot\n",
      "Frying chicken in hot oil.\n",
      "Add fresh herbs to the pot\n",
      "Add fresh herbs to the stew for extra flavor.\n"
     ]
    },
    {
     "name": "stderr",
     "output_type": "stream",
     "text": [
      " 16%|█▌        | 30/188 [06:21<36:10, 13.74s/it]"
     ]
    },
    {
     "name": "stdout",
     "output_type": "stream",
     "text": [
      "Sautéing onions and mushrooms in a pan.\n",
      "Crack two eggs into a bowl.\n",
      "Mixing ingredients in a bowl with a hand mixer.\n",
      "Mixing ingredients in a bowl.\n",
      "Crack an egg into a bowl.\n",
      "Adding fresh greens to the sandwich for a healthy and flavorful twist.\n",
      "Assembling the dish: Place the cooked asparagus on top of the eggs and garnish with fresh herbs.\n",
      "Assemble open-faced sandwiches with toasted bread, cream cheese, smoked salmon, and fresh greens.\n"
     ]
    },
    {
     "name": "stderr",
     "output_type": "stream",
     "text": [
      " 16%|█▋        | 31/188 [06:34<35:44, 13.66s/it]"
     ]
    },
    {
     "name": "stdout",
     "output_type": "stream",
     "text": [
      "Adding a layer of fresh greens to the sandwich.\n",
      "The image shows a pot with a bubbling mixture, likely a sauce or soup, being cooked. The cooking step could be described as \"Sim\n",
      "Stirring cooked rice with a wooden spoon to evenly distribute seasoning and heat.\n",
      "Stirring the ingredients in a pan.\n",
      "Stirring the ingredients in a pan.\n",
      "Place the lid on the pot to trap heat and steam for even cooking.\n",
      "Adding spices to the pan to enhance the flavor of the dish.\n",
      "Stirring the ingredients in the pan to ensure even cooking and to prevent sticking.\n",
      "Saute onions and garlic in a pan with oil.\n"
     ]
    },
    {
     "name": "stderr",
     "output_type": "stream",
     "text": [
      " 17%|█▋        | 32/188 [06:50<37:18, 14.35s/it]"
     ]
    },
    {
     "name": "stdout",
     "output_type": "stream",
     "text": [
      "Simmering the curry with added spices and herbs.\n",
      "Heat the pan with oil for stir-frying.\n",
      "Frying onions in a pan.\n",
      "Slicing onions for cooking.\n",
      "Sautéing vegetables in a pan on the stove.\n",
      "Sautéing vegetables in a pan on the stove.\n",
      "Stir-frying vegetables in a wok.\n",
      "Sautéing vegetables in a pan with stir-fry sauce.\n"
     ]
    },
    {
     "name": "stderr",
     "output_type": "stream",
     "text": [
      " 18%|█▊        | 33/188 [07:03<35:35, 13.78s/it]"
     ]
    },
    {
     "name": "stdout",
     "output_type": "stream",
     "text": [
      "Stir-fry the vegetables and chicken in a hot pan with oil.\n",
      "Boiling beans in a pot with water.\n",
      "The woman is stirring the contents of a pot, likely to ensure even cooking and to prevent sticking or burning at the bottom of the pot.\n",
      "Heat a pan with a small amount of oil.\n",
      "Place the lid on the pot and secure it with the knob.\n",
      "The woman is stirring the contents of a pot on the stove, likely to ensure even cooking and to prevent sticking or burning.\n",
      "Adding spice to the pot.\n",
      "Stirring the sauce in the pot.\n"
     ]
    },
    {
     "name": "stderr",
     "output_type": "stream",
     "text": [
      " 18%|█▊        | 34/188 [07:16<35:13, 13.73s/it]"
     ]
    },
    {
     "name": "stdout",
     "output_type": "stream",
     "text": [
      "Sauteing diced onions in a pan.\n",
      "Dredge chicken in flour mixture.\n",
      "Sprinkle the flour onto the hot pan to create a thin layer.\n",
      "Whisking ingredients in a small bowl.\n",
      "Cutting chicken into bite-sized pieces.\n",
      "Cutting raw meat into bite-sized pieces.\n",
      "Tossing marinated chicken pieces in a bowl.\n",
      "Coating chicken pieces with flour before cooking.\n",
      "Adding ingredients to chicken broth for flavor enhancement.\n",
      "Chopping garlic on a cutting board.\n",
      "Frying food in a pan with oil.\n",
      "Adding garlic to a hot pan.\n"
     ]
    },
    {
     "name": "stderr",
     "output_type": "stream",
     "text": [
      " 19%|█▊        | 35/188 [07:35<38:26, 15.08s/it]"
     ]
    },
    {
     "name": "stdout",
     "output_type": "stream",
     "text": [
      "Frying chicken in a pan with oil.\n",
      "Chopping green onions and garlic on a cutting board.\n",
      "Slice the jalapeño into thin rounds.\n",
      "Chopping green onions into a food processor.\n",
      "Cutting raw chicken into pieces.\n",
      "Blending the ingredients together to create a smooth mixture.\n",
      "The next day...\" suggests that the recipe involves some preparation or marination that takes place overnight before the actual cooking begins.\n",
      "Grilling skewered meat and vegetables on a barbecue grill.\n"
     ]
    },
    {
     "name": "stderr",
     "output_type": "stream",
     "text": [
      " 19%|█▉        | 36/188 [07:48<37:06, 14.64s/it]"
     ]
    },
    {
     "name": "stdout",
     "output_type": "stream",
     "text": [
      "Combine ingredients in a glass container.\n",
      "Adding spices to the marinade for a flavorful dish.\n",
      "Mixing batter in a bowl.\n",
      "Mixing ingredients in a bowl.\n",
      "Mixing ingredients in a bowl.\n",
      "Frying food in hot oil.\n",
      "Frying food in hot oil.\n",
      "Adding sauce to the marinated meat in preparation for cooking.\n"
     ]
    },
    {
     "name": "stderr",
     "output_type": "stream",
     "text": [
      " 20%|█▉        | 37/188 [08:01<35:01, 13.92s/it]"
     ]
    },
    {
     "name": "stdout",
     "output_type": "stream",
     "text": [
      "Chopping vegetables for a stir-fry.\n",
      "The chef is in the process of adding ingredients to a pan, likely preparing to cook or sauté them.\n",
      "Heat a pan with a small amount of oil to cook the ingredients.\n",
      "The chef is carefully measuring ingredients, ensuring precise proportions for the recipe.\n",
      "Adding the chopped garlic to the hot pan with oil.\n",
      "Mixing ingredients in a bowl.\n",
      "Add pre-prepared gravy to onions\n",
      "Mixing ingredients in a bowl before forming into balls.\n"
     ]
    },
    {
     "name": "stderr",
     "output_type": "stream",
     "text": [
      " 20%|██        | 38/188 [08:11<32:21, 12.95s/it]"
     ]
    },
    {
     "name": "stdout",
     "output_type": "stream",
     "text": [
      "Placing cooked sausages into a pan with sauce.\n",
      "Adding ingredients to the baking dish.\n",
      "Opening a can of tomatoes.\n",
      "Stirring pasta in sauce to coat evenly.\n",
      "Adding ingredients to a pan.\n",
      "Adding cheese to the pasta dish.\n",
      "Baking the casserole in the oven.\n",
      "Adding shredded cheese to the casserole.\n"
     ]
    },
    {
     "name": "stderr",
     "output_type": "stream",
     "text": [
      " 21%|██        | 39/188 [08:20<29:05, 11.71s/it]"
     ]
    },
    {
     "name": "stdout",
     "output_type": "stream",
     "text": [
      "Mixing ingredients in a bowl.\n",
      "The person in the image is in the process of adding ingredients to a pan or pot, likely preparing a dish that involves cooking with a combination of\n",
      "The person in the image is pouring a liquid, likely a sauce or a marinade, into a bowl or a container, which is a\n",
      "Add 4 to 5 cloves to the pot.\n",
      "Add the chopped vegetables to the boiling water in the pot.\n",
      "The person in the image is stirring a pot, likely to ensure even cooking and to prevent the ingredients from sticking to the bottom of the pan.\n",
      "The person in the image is in the process of adding a red liquid, likely a sauce or a mixture of spices, to a pot. This\n",
      "Add the chopped vegetables to the pot with the oil.\n",
      "Slice green chilies lengthwise and remove seeds.\n",
      "Add 1/2 tablespoon of masala to the pan.\n"
     ]
    },
    {
     "name": "stderr",
     "output_type": "stream",
     "text": [
      " 21%|██▏       | 40/188 [08:40<34:39, 14.05s/it]"
     ]
    },
    {
     "name": "stdout",
     "output_type": "stream",
     "text": [
      "The person in the image appears to be in the process of cooking, possibly stirring or seasoning the contents of a pot. They are wearing a\n",
      "Grill the sausages evenly on all sides.\n",
      "Chopping garlic on a cutting board.\n",
      "Grilling hot dogs on a barbecue grill.\n",
      "Grilling hot dogs on a barbecue.\n",
      "Spreading mustard on hot dogs\n",
      "Chopping pickles on a cutting board.\n",
      "Grill hot dogs and buns on a black grill\n"
     ]
    },
    {
     "name": "stderr",
     "output_type": "stream",
     "text": [
      " 22%|██▏       | 41/188 [08:47<29:49, 12.17s/it]"
     ]
    },
    {
     "name": "stdout",
     "output_type": "stream",
     "text": [
      "Chopping pickles on a cutting board.\n",
      "Adding oil to a hot pan to cook the ingredients.\n",
      "Frying an egg in a pan on a stove.\n",
      "Adding chopped garlic to a hot pan.\n",
      "The chef is in the process of cooking, likely sautéing ingredients in a pan on the stove.\n",
      "Frying food in a pan on a stove.\n",
      "Plating the dish: Transferring the cooked food from the pan to the plate.\n",
      "Plating the stir-fried dish onto a white plate.\n"
     ]
    },
    {
     "name": "stderr",
     "output_type": "stream",
     "text": [
      " 22%|██▏       | 42/188 [08:58<28:23, 11.67s/it]"
     ]
    },
    {
     "name": "stdout",
     "output_type": "stream",
     "text": [
      "Frying food in a pan, transferring to a plate.\n",
      "Mixing ingredients in a bowl.\n",
      "Adding ingredients to a pot.\n",
      "Mixing ingredients in a pot.\n",
      "Whisking ingredients in a bowl.\n",
      "Whisking ingredients in a bowl.\n",
      "Mixing ingredients in a bowl.\n",
      "Draining pasta from boiling water using a colander.\n",
      "Baking the casserole in the oven.\n",
      "Add the chopped onions to the pan and sauté until translucent.\n"
     ]
    },
    {
     "name": "stderr",
     "output_type": "stream",
     "text": [
      " 23%|██▎       | 43/188 [09:08<27:14, 11.27s/it]"
     ]
    },
    {
     "name": "stdout",
     "output_type": "stream",
     "text": [
      "Preparing to mix ingredients in a bowl.\n",
      "Mixing ingredients in a measuring cup.\n",
      "Mixing ingredients in a bowl.\n",
      "Mixing ingredients in a bowl\n",
      "Pouring beer into a glass.\n",
      "Add the ingredients to the mixing bowl.\n",
      "Cutting dough into portions for individual servings.\n",
      "Mix ingredients in a large bowl.\n",
      "The image shows a person in a kitchen, likely in the process of preparing a meal. They are holding a fork and appear to be either mixing\n",
      "Add ingredients to a bowl and mix well.\n",
      "Kneading dough on a cutting board.\n",
      "Spreading tomato sauce on pizza dough\n",
      "Rolling out the dough for a homemade pizza.\n"
     ]
    },
    {
     "name": "stderr",
     "output_type": "stream",
     "text": [
      " 23%|██▎       | 44/188 [09:24<30:21, 12.65s/it]"
     ]
    },
    {
     "name": "stdout",
     "output_type": "stream",
     "text": [
      "The image shows a person in a kitchen, preparing a pizza. They are in the process of adding toppings to the pizza dough, which is\n",
      "Mixing ingredients in a bowl.\n",
      "Whisk the ingredients together in a saucepan.\n",
      "Chopping fresh herbs and vegetables on a cutting board.\n",
      "Chopped vegetables being added to a bowl.\n",
      "Frying food in a pan with oil.\n",
      "Roll out dough and cut into desired shapes.\n",
      "Tossing the salad with a light dressing to enhance the flavors of the fresh ingredients.\n"
     ]
    },
    {
     "name": "stderr",
     "output_type": "stream",
     "text": [
      " 24%|██▍       | 45/188 [09:36<29:58, 12.57s/it]"
     ]
    },
    {
     "name": "stdout",
     "output_type": "stream",
     "text": [
      "Whisk the ingredients together in a saucepan.\n",
      "Add the mixture to the pot and stir gently.\n",
      "The chef is pouring a liquid, likely a sauce or a reduction, into a pot of simmering food, which is a common step in cooking\n",
      "Whisk the ingredients in a bowl.\n",
      "The chef is in the process of adding ingredients to a pot, likely preparing a sauce or a base for a dish.\n",
      "The chef is in the process of adding ingredients to a pot, likely preparing a sauce or a base for a dish.\n",
      "Adding liquid to a pot.\n",
      "Chopping garlic on a cutting board.\n"
     ]
    },
    {
     "name": "stderr",
     "output_type": "stream",
     "text": [
      " 24%|██▍       | 46/188 [09:50<30:21, 12.82s/it]"
     ]
    },
    {
     "name": "stdout",
     "output_type": "stream",
     "text": [
      "Chopping garlic on a cutting board.\n",
      "Adding green seasoning to the bowl.\n",
      "Mixing ingredients in a bowl with a whisk.\n",
      "Mixing ingredients in a bowl.\n",
      "Mixing ingredients in a bowl.\n",
      "The image shows a person in a kitchen, opening an oven door and reaching inside to either place or remove a dish. This action typically represents the\n",
      "The image shows a person pulling a dish out of an oven, indicating that the dish has been cooked and is ready to be served or transferred to\n",
      "Adding green seasoning to the bowl.\n"
     ]
    },
    {
     "name": "stderr",
     "output_type": "stream",
     "text": [
      " 25%|██▌       | 47/188 [10:03<30:14, 12.87s/it]"
     ]
    },
    {
     "name": "stdout",
     "output_type": "stream",
     "text": [
      "Adding green seasoning to the bowl.\n",
      "Mixing the dough for the pancake batter.\n",
      "Mixing ingredients in a bowl.\n",
      "Mixing dough in a bowl\n",
      "Knead the dough on a floured surface until smooth and elastic.\n",
      "Rolling out the dough for a flatbread.\n",
      "Heat a non-stick pan over medium heat.\n",
      "Place the flattened dough on a hot, greased griddle or pan.\n"
     ]
    },
    {
     "name": "stderr",
     "output_type": "stream",
     "text": [
      " 26%|██▌       | 48/188 [10:16<30:20, 13.00s/it]"
     ]
    },
    {
     "name": "stdout",
     "output_type": "stream",
     "text": [
      "Frying a flatbread on a stovetop.\n",
      "The chef is in the process of preparing a dish, likely following a recipe. He is focused on the task at hand, which involves cutting or\n",
      "The chef is in the process of adding ingredients to a pan or pot, likely preparing to cook or sauté them.\n",
      "Mixing ingredients in a bowl.\n",
      "Combine cooked rice, chopped vegetables, and seasonings in a bowl.\n",
      "Rolling out dough on a floured surface.\n",
      "The chef is in the process of preparing a dish, likely following a recipe. He is holding a piece of food, possibly a vegetable or a\n",
      "Frying food in hot oil.\n"
     ]
    },
    {
     "name": "stderr",
     "output_type": "stream",
     "text": [
      " 26%|██▌       | 49/188 [10:28<29:22, 12.68s/it]"
     ]
    },
    {
     "name": "stdout",
     "output_type": "stream",
     "text": [
      "Mixing ingredients in a bowl.\n",
      "Mixing ingredients in a bowl.\n",
      "Mixing ingredients in a bowl.\n",
      "The image shows a person stirring a pot on a stove, which suggests that they are in the process of cooking or mixing ingredients. The exact cooking\n",
      "Bake the bread until golden brown and crusty.\n",
      "Tasting the sauce for seasoning adjustments.\n",
      "The woman is stirring a pot on the stove, likely to ensure even cooking and to prevent the ingredients from sticking to the bottom of the pan.\n",
      "Blending ingredients together in a pot.\n"
     ]
    },
    {
     "name": "stderr",
     "output_type": "stream",
     "text": [
      " 27%|██▋       | 50/188 [10:42<30:03, 13.07s/it]"
     ]
    },
    {
     "name": "stdout",
     "output_type": "stream",
     "text": [
      "Mixing batter in a bowl.\n",
      "Slicing raw meat on a cutting board.\n",
      "Mixing ingredients in a bowl.\n",
      "Mixing ingredients in a bowl.\n",
      "Mixing ingredients in a bowl.\n",
      "Grilling meat on a griddle.\n",
      "Spreading condiments on a baguette.\n",
      "Slice the baguette and spread condiments on the bread.\n",
      "Slice the loaf of bread lengthwise.\n",
      "Assemble the sandwich with the prepared ingredients.\n"
     ]
    },
    {
     "name": "stderr",
     "output_type": "stream",
     "text": [
      " 27%|██▋       | 51/188 [10:57<31:09, 13.65s/it]"
     ]
    },
    {
     "name": "stdout",
     "output_type": "stream",
     "text": [
      "Adding sauce to the sandwich.\n",
      "Wrap the meat in plastic wrap to marinate or tenderize.\n",
      "The chef is in the process of mixing ingredients in a bowl, likely preparing a batter or a sauce for the next step in the recipe.\n",
      "Fry the ingredients in a hot pan with oil.\n",
      "Placing the seasoned chicken on the baking sheet, ready for the oven.\n",
      "Plating the dish: The chef carefully arranges the cooked ingredients on a plate, ensuring an appealing presentation.\n",
      "Add the chopped vegetables to the hot pan.\n",
      "The chef is in the process of stirring a sauce or mixture in a pan, likely to ensure even cooking and to prevent it from sticking to the\n",
      "The chef is in the process of stirring or mixing ingredients in a pan or pot, likely to ensure even cooking and to prevent sticking or burning.\n"
     ]
    },
    {
     "name": "stderr",
     "output_type": "stream",
     "text": [
      " 28%|██▊       | 53/188 [11:12<24:30, 10.89s/it]"
     ]
    },
    {
     "name": "stdout",
     "output_type": "stream",
     "text": [
      "Plating the dish: Carefully transfer the cooked pasta to a serving plate, ensuring it retains its shape and presentation.\n",
      "Adding ingredients to a pan on the stove.\n",
      "Whisking together the egg mixture in a bowl.\n",
      "Adding ingredients to the pan.\n",
      "Mixing sauce with ingredients in a pan.\n",
      "Frying scrambled eggs in a pan.\n",
      "Adding ingredients to a bowl on the stove.\n",
      "Whisking the egg mixture in a bowl before adding it to the pan.\n"
     ]
    },
    {
     "name": "stderr",
     "output_type": "stream",
     "text": [
      " 29%|██▊       | 54/188 [11:26<25:36, 11.47s/it]"
     ]
    },
    {
     "name": "stdout",
     "output_type": "stream",
     "text": [
      "Adding ingredients to a bowl on the stove.\n",
      "Boiling pasta in a pot of water.\n",
      "Add the sauce to the pan and stir to coat the ingredients evenly.\n",
      "Blend ingredients in a food processor until smooth.\n",
      "Stirring tomato sauce in a pot.\n",
      "Adding ingredients to a hot pan.\n",
      "Boiling pasta in a pot of salted water.\n",
      "Mix the ingredients together in a bowl.\n"
     ]
    },
    {
     "name": "stderr",
     "output_type": "stream",
     "text": [
      " 29%|██▉       | 55/188 [11:35<24:21, 10.99s/it]"
     ]
    },
    {
     "name": "stdout",
     "output_type": "stream",
     "text": [
      "Pour the sauce over the cooked pasta and toss to coat evenly.\n",
      "Chopped vegetables ready to be cooked.\n",
      "Sauteing chopped vegetables in a pan.\n",
      "Add 2 tbsp ketchup and 1 tbsp soy sauce to the pan.\n",
      "Stirring ingredients in a pan.\n",
      "Add 1 tbsp vinegar, MSG, and salt to taste to the simmering sauce.\n",
      "Adding ingredients to a simmering sauce.\n",
      "Sauteing onions and garlic in a pan.\n"
     ]
    },
    {
     "name": "stderr",
     "output_type": "stream",
     "text": [
      " 30%|██▉       | 56/188 [11:48<25:19, 11.51s/it]"
     ]
    },
    {
     "name": "stdout",
     "output_type": "stream",
     "text": [
      "Sauteing onions and garlic in a pan.\n",
      "Chopping vegetables on a cutting board.\n",
      "Add sliced meat to hot pan.\n",
      "Adding ingredients to a pot on the stove.\n",
      "Adding sauce to stir-fry.\n",
      "Fry cubed potatoes in hot oil until golden brown.\n",
      "Stirring the ingredients in the pot with a wooden spoon.\n",
      "Fry the sliced carrots in a pan with a little oil until they are tender and slightly browned.\n",
      "Add green peas to the simmering sauce to cook until tender.\n",
      "Toss the cubed butternut squash with olive oil and seasonings, then roast in a preheated oven until tender.\n",
      "Add breaded and fried chicken pieces to the simmering sauce.\n"
     ]
    },
    {
     "name": "stderr",
     "output_type": "stream",
     "text": [
      " 31%|███       | 58/188 [12:03<20:58,  9.68s/it]"
     ]
    },
    {
     "name": "stdout",
     "output_type": "stream",
     "text": [
      "Baking the crumble mixture in the oven.\n",
      "Add the chopped onions and sauté until translucent.\n",
      "Chopping vegetables on a cutting board.\n",
      "Adding sauce to stir-fry in a wok.\n",
      "Chopping vegetables on a cutting board.\n",
      "Adding chopped vegetables to a stir-fry in a wok.\n",
      "Adding liquid to a pan to deglaze and create a sauce.\n",
      "Sauteing the vegetables in a pan with a little oil.\n",
      "Adding sauce to fried rice.\n"
     ]
    },
    {
     "name": "stderr",
     "output_type": "stream",
     "text": [
      " 31%|███▏      | 59/188 [12:17<22:59, 10.69s/it]"
     ]
    },
    {
     "name": "stdout",
     "output_type": "stream",
     "text": [
      "Pour cooked rice into a serving dish.\n",
      "Peeling a potato with a peeler.\n",
      "Cutting the dough in half with a knife.\n",
      "Boiling potatoes in water.\n",
      "Cube the butter for even melting and better incorporation into the dough.\n",
      "Whisk the ingredients together until smooth.\n",
      "Chop butter into small cubes for even melting.\n",
      "Mixing ingredients in a bowl.\n",
      "Mixing ingredients together in a bowl.\n",
      "Mixing ingredients in a bowl.\n"
     ]
    },
    {
     "name": "stderr",
     "output_type": "stream",
     "text": [
      " 32%|███▏      | 60/188 [12:32<25:29, 11.95s/it]"
     ]
    },
    {
     "name": "stdout",
     "output_type": "stream",
     "text": [
      "Bake at 350°F for approximately 20 minutes.\n",
      "Add the chopped onions to the pan and sauté until translucent.\n",
      "Pouring batter into a hot, oiled skillet to make a pancake.\n",
      "Pouring batter into a hot skillet to make a pancake.\n",
      "Frying an egg in a pan.\n",
      "Scooping cooked pasta onto a plate with a slotted spoon.\n",
      "Pouring batter into a hot pan to make a pancake.\n",
      "The image shows a person looking down, possibly at a recipe or cooking instructions. They seem to be in a kitchen, which is a common setting\n"
     ]
    },
    {
     "name": "stderr",
     "output_type": "stream",
     "text": [
      " 32%|███▏      | 61/188 [12:44<25:05, 11.86s/it]"
     ]
    },
    {
     "name": "stdout",
     "output_type": "stream",
     "text": [
      "Add the chopped onions to the pan and sauté until translucent.\n",
      "Mix ingredients in a bowl before adding to the pan.\n",
      "Adding chopped vegetables to the pan for sautéing.\n",
      "Adding ground meat to a hot pan for cooking.\n",
      "Adding stir-fry ingredients to a hot pan.\n",
      "Adding the sauce to the stir-fry.\n",
      "Heat the pan on medium-high heat.\n",
      "Dice potatoes into small cubes.\n",
      "Mashing potatoes with a fork.\n",
      "Cook the rice and vegetables together in a saucepan until the rice is tender and the vegetables are cooked through.\n",
      "Mixing ingredients in a bowl.\n",
      "Adding the chopped vegetables to the pan.\n"
     ]
    },
    {
     "name": "stderr",
     "output_type": "stream",
     "text": [
      " 33%|███▎      | 62/188 [13:04<29:48, 14.19s/it]"
     ]
    },
    {
     "name": "stdout",
     "output_type": "stream",
     "text": [
      "Place casserole dish with prepared casserole into preheated oven.\n",
      "Shredding cheese into a bowl.\n",
      "Mixing ingredients in a bowl.\n",
      "Cutting and marinating chicken.\n",
      "Opening the refrigerator to retrieve ingredients for the recipe.\n",
      "Pour the mixture into the prepared molds.\n",
      "Mixing ingredients in a bowl.\n",
      "Adding sliced mushrooms to a hot pan with oil.\n",
      "Adding stir-fry ingredients to the pan.\n",
      "Tossing cooked noodles with vegetables in a wok.\n"
     ]
    },
    {
     "name": "stderr",
     "output_type": "stream",
     "text": [
      " 34%|███▍      | 64/188 [13:20<23:37, 11.43s/it]"
     ]
    },
    {
     "name": "stdout",
     "output_type": "stream",
     "text": [
      "Cook the noodles according to package instructions, then toss with stir-fried chicken and vegetables.\n",
      "Heat a pan on the stove.\n",
      "Frying ingredients in a pan.\n",
      "Stirring and sautéing vegetables in a pan.\n",
      "Stir fry the ingredients in the wok.\n",
      "Add cooked rice to the stir-fry pan with vegetables and protein.\n",
      "Stirring the fried rice in a pan to evenly distribute the flavors and ensure the rice is cooked through.\n",
      "Stir-frying rice and vegetables in a pan.\n"
     ]
    },
    {
     "name": "stderr",
     "output_type": "stream",
     "text": [
      " 35%|███▍      | 65/188 [13:34<24:31, 11.96s/it]"
     ]
    },
    {
     "name": "stdout",
     "output_type": "stream",
     "text": [
      "Stir-fry the rice and vegetables in a hot pan with a small amount of oil.\n",
      "Rolling out dough on a floured surface.\n",
      "Mixing ingredients in a bowl before adding to the pan.\n",
      "Chopping onions on a cutting board.\n",
      "Mixing ingredients in a bowl.\n",
      "Adding rice to a hot pan to start cooking.\n",
      "Rolling out dough on a floured surface.\n",
      "The person in the image is in the process of rolling out dough on a floured surface, likely preparing to make a flatbread or similar dish\n",
      "The person in the image is in the process of rolling out dough and cutting it into circles, which is a common step in preparing dough for baking\n",
      "Prepare the dough for rolling out.\n"
     ]
    },
    {
     "name": "stderr",
     "output_type": "stream",
     "text": [
      " 35%|███▌      | 66/188 [13:52<27:27, 13.50s/it]"
     ]
    },
    {
     "name": "stdout",
     "output_type": "stream",
     "text": [
      "Serve the cooked ravioli on a plate with a drizzle of sauce and garnished with chopped herbs.\n",
      "Sautéing onions and carrots in a pan.\n",
      "Stirring cooked rice and vegetables in a pan.\n",
      "Stirring cooked rice and vegetables in a pan.\n",
      "Cooking the meat and vegetables in a pan before transferring to the oven.\n",
      "Slicing and dicing ingredients for a dish.\n",
      "Mixing ingredients in a bowl.\n",
      "Spreading mashed potatoes evenly over the top of a baked casserole.\n",
      "Mixing the ingredients together in a baking dish.\n"
     ]
    },
    {
     "name": "stderr",
     "output_type": "stream",
     "text": [
      " 36%|███▌      | 67/188 [14:06<27:50, 13.81s/it]"
     ]
    },
    {
     "name": "stdout",
     "output_type": "stream",
     "text": [
      "Baking the dish in the oven.\n",
      "Marinating chicken with a sauce.\n",
      "Chopping onions and garlic on a cutting board.\n",
      "Mixing ingredients in a bowl.\n",
      "Heating a pan on the stove.\n",
      "Cooking step: Stir-frying meat in a pan on a stove.\n",
      "Sautéing onions and peppers in a pan on the stove.\n",
      "Cooking stir-fry on a stovetop.\n"
     ]
    },
    {
     "name": "stderr",
     "output_type": "stream",
     "text": [
      " 36%|███▌      | 68/188 [14:20<27:13, 13.61s/it]"
     ]
    },
    {
     "name": "stdout",
     "output_type": "stream",
     "text": [
      "Sautéing ingredients in a pan on the stove.\n",
      "Soak chickpeas for 45 minutes.\n",
      "Add the chopped onions to the hot pan and sauté until translucent.\n",
      "The chef is carefully observing the cooking process, likely ensuring that the ingredients are properly combined or checking for the right consistency.\n",
      "Mixing ingredients in a bowl for a dish.\n",
      "The chef is looking down, likely focusing on the task at hand, which could be measuring ingredients, preparing a dish, or checking on the progress\n",
      "The chef is holding a piece of food, likely a test bite or a small portion of the dish being prepared, to inspect its texture, taste\n",
      "Frying meatballs in a pan with oil.\n"
     ]
    },
    {
     "name": "stderr",
     "output_type": "stream",
     "text": [
      " 37%|███▋      | 69/188 [14:35<27:52, 14.06s/it]"
     ]
    },
    {
     "name": "stdout",
     "output_type": "stream",
     "text": [
      "Boiling water in a pot.\n",
      "Marinating chicken with spices and sauce.\n",
      "Mixing ingredients in a bowl.\n",
      "Mixing marinade with chicken in a bowl.\n",
      "Frying ingredients in a pan.\n",
      "Mixing ingredients in a bowl before adding to the dish.\n",
      "Frying chicken in a pan with oil.\n",
      "Tossing ingredients in a bowl with a dressing.\n"
     ]
    },
    {
     "name": "stderr",
     "output_type": "stream",
     "text": [
      " 37%|███▋      | 70/188 [14:47<26:43, 13.59s/it]"
     ]
    },
    {
     "name": "stdout",
     "output_type": "stream",
     "text": [
      "Marinate the chicken with spices and herbs.\n",
      "Season the cooked meat with a blend of spices and herbs.\n",
      "Chop and mix ingredients in a bowl.\n",
      "Chopped tomatoes ready to be added to the dish.\n",
      "Sauté onions and garlic in a pan with oil until translucent.\n",
      "Sauteing vegetables in a pan with oil.\n",
      "Frying ground meat with seasoning in a pan.\n",
      "Tossing the pasta with sauce and spices in a skillet.\n",
      "Frying ingredients in a pan.\n",
      "Stir-fry the ingredients in a hot pan with oil.\n",
      "Adding liquid to a pan of cooked ingredients.\n",
      "Cooking the chicken in a rich, spiced sauce.\n"
     ]
    },
    {
     "name": "stderr",
     "output_type": "stream",
     "text": [
      " 38%|███▊      | 71/188 [15:08<30:22, 15.57s/it]"
     ]
    },
    {
     "name": "stdout",
     "output_type": "stream",
     "text": [
      "Simmering the sauce with the meat and vegetables.\n",
      "Add the sliced vegetables to the simmering broth.\n",
      "Add the chopped herbs to the boiling water.\n",
      "Boiling water in a pot for tea.\n",
      "Cutting the butter into small cubes for easier incorporation into the dough.\n",
      "Chopping green onions on a cutting board.\n",
      "Add the marinated meat to the boiling water.\n",
      "Boiling water with greens and a piece of meat, likely preparing a stew or soup.\n"
     ]
    },
    {
     "name": "stderr",
     "output_type": "stream",
     "text": [
      " 38%|███▊      | 72/188 [15:21<28:44, 14.87s/it]"
     ]
    },
    {
     "name": "stdout",
     "output_type": "stream",
     "text": [
      "Adding ingredients to a simmering sauce.\n",
      "Adding onions to a pot.\n",
      "Cutting a tomato in half with a knife.\n",
      "Add 6 garlic cloves\n",
      "Blending a sauce or soup into a pot.\n",
      "The chef is adding a liquid ingredient to a pot, likely to create a sauce or to cook a dish that requires a liquid component.\n",
      "Pouring sauce into a bowl.\n",
      "Preparing to mix ingredients in a bowl.\n",
      "Assembling the dessert: Place the blue mold on the prepared surface.\n",
      "Mixing ingredients in a bowl.\n"
     ]
    },
    {
     "name": "stderr",
     "output_type": "stream",
     "text": [
      " 39%|███▉      | 73/188 [15:32<26:43, 13.94s/it]"
     ]
    },
    {
     "name": "stdout",
     "output_type": "stream",
     "text": [
      "Adding liquid to the batter.\n",
      "Add the yellow rice to the pot.\n",
      "Chopping fresh parsley on a cutting board.\n",
      "Dice tomatoes for salad.\n",
      "Chopping cabbage on a cutting board.\n",
      "Garnish with shredded cheese and chopped tomatoes.\n",
      "Mixing chopped vegetables in a bowl.\n",
      "Adding liquid to the dry ingredients.\n"
     ]
    },
    {
     "name": "stderr",
     "output_type": "stream",
     "text": [
      " 39%|███▉      | 74/188 [15:43<24:37, 12.96s/it]"
     ]
    },
    {
     "name": "stdout",
     "output_type": "stream",
     "text": [
      "Adding liquid to the dry ingredients.\n",
      "Sauteing chopped onions in a pan.\n",
      "Sautéing spices and aromatics in a pan.\n",
      "Sautéing chopped vegetables in a pan.\n",
      "Stir-frying vegetables in a pan.\n",
      "Sautéing mussels in a pan with garlic and white wine.\n",
      "Cooking mussels with onions and tomatoes in a pan.\n",
      "Add beer to the pan with the mussels and onions.\n",
      "Cooking mussels in a sauce on a stovetop.\n"
     ]
    },
    {
     "name": "stderr",
     "output_type": "stream",
     "text": [
      " 40%|███▉      | 75/188 [15:58<25:41, 13.64s/it]"
     ]
    },
    {
     "name": "stdout",
     "output_type": "stream",
     "text": [
      "Steaming mussels in a pot with a little wine and herbs.\n",
      "Add the chopped garlic to the hot pan and sauté until fragrant.\n",
      "Add the ingredients to the mixing bowl.\n",
      "Frying vegetables in a pan.\n",
      "Melt butter in a pan with onions and garlic.\n",
      "Adding a block of butter to a simmering pot of soup.\n",
      "Bring the soup to a simmer on medium heat, stirring occasionally.\n",
      "Heat oil in a pan and add the ingredients.\n",
      "Stirring the ingredients in a pan on the stove.\n"
     ]
    },
    {
     "name": "stderr",
     "output_type": "stream",
     "text": [
      " 40%|████      | 76/188 [16:13<25:48, 13.83s/it]"
     ]
    },
    {
     "name": "stdout",
     "output_type": "stream",
     "text": [
      "Heat the pot on the stove.\n",
      "Heat a large pot on the stove.\n",
      "Mixing ingredients in a bowl.\n",
      "Chopping meat on a cutting board.\n",
      "Chopping meat on a cutting board.\n",
      "Heat a pan on the stove.\n",
      "The image shows a person in a kitchen, standing at a stove with a pan on it. The person appears to be in the process of cooking\n",
      "Frying food in a pan on a stove.\n",
      "The image shows a person cooking, likely following a recipe. The cooking step appears to involve stirring or flipping food in a pan on a stov\n"
     ]
    },
    {
     "name": "stderr",
     "output_type": "stream",
     "text": [
      " 41%|████      | 77/188 [16:28<26:12, 14.17s/it]"
     ]
    },
    {
     "name": "stdout",
     "output_type": "stream",
     "text": [
      "Cook pasta according to package instructions, drain, and set aside.\n",
      "Washing clams in a bowl of water.\n",
      "Adding ingredients to a pot of boiling water.\n",
      "Strain the mixture through a fine-mesh sieve into a clean bowl.\n",
      "Heat a large pot over medium heat.\n",
      "Sauteing vegetables in a pan.\n",
      "Add chopped vegetables to the pot.\n",
      "Adding liquid to a simmering sauce or soup.\n",
      "Stirring the ingredients in a pot.\n",
      "Shelling mussels for a seafood dish.\n",
      "Mixing ingredients in a bowl before adding to the pan.\n",
      "The chef is adding a clear liquid, possibly a sauce or broth, to a pot of simmering ingredients, likely as part of the cooking process\n",
      "Add vegetables to the pot with the broth.\n"
     ]
    },
    {
     "name": "stderr",
     "output_type": "stream",
     "text": [
      " 41%|████▏     | 78/188 [16:50<30:18, 16.53s/it]"
     ]
    },
    {
     "name": "stdout",
     "output_type": "stream",
     "text": [
      "Adding ingredients to a pot for cooking.\n",
      "Pour the mixture into the prepared baking dish.\n",
      "Add the green vegetables to the boiling water and cook for 2 minutes.\n",
      "Marinate the chicken in a resealable bag with the marinade.\n",
      "Brush the grill grates with oil to prevent sticking.\n",
      "Grill the ribs until they are cooked through and have a nice charred exterior.\n",
      "Grilling meat on a barbecue grill.\n",
      "Serve the cooked meat and rice on a plate, garnished with sesame seeds and cucumber slices.\n"
     ]
    },
    {
     "name": "stderr",
     "output_type": "stream",
     "text": [
      " 42%|████▏     | 79/188 [17:04<28:48, 15.85s/it]"
     ]
    },
    {
     "name": "stdout",
     "output_type": "stream",
     "text": [
      "Sprinkle the chopped herbs over the bread crumbs.\n",
      "The chef is in the process of adding a liquid ingredient to a bowl, likely preparing a batter or sauce.\n",
      "Mixing ingredients in a bowl.\n",
      "Kneading dough on a countertop.\n",
      "Whisking the batter in a rectangular pan.\n",
      "Chopping garlic on a cutting board.\n",
      "Preparing the pasta dough for rolling.\n",
      "Adding toppings to the pizza dough.\n"
     ]
    },
    {
     "name": "stderr",
     "output_type": "stream",
     "text": [
      " 43%|████▎     | 80/188 [17:16<26:25, 14.68s/it]"
     ]
    },
    {
     "name": "stdout",
     "output_type": "stream",
     "text": [
      "Spreading tomato sauce on pizza dough.\n",
      "Chop and mix vegetables in a bowl.\n",
      "Stirring the pot of mixed vegetables.\n",
      "Sauteing vegetables in a pan.\n",
      "Carefully remove the pot from the oven using oven mitts.\n",
      "Adding herbs to the pot for enhanced flavor.\n",
      "Stirring the vegetables in a pan.\n",
      "Chopped vegetables in a bowl, ready to be cooked.\n"
     ]
    },
    {
     "name": "stderr",
     "output_type": "stream",
     "text": [
      " 43%|████▎     | 81/188 [17:28<24:36, 13.80s/it]"
     ]
    },
    {
     "name": "stdout",
     "output_type": "stream",
     "text": [
      "Stirring the vegetables in a pan.\n",
      "Sautéing colorful vegetables in a pan.\n",
      "Frying sausages on a stovetop.\n",
      "Grilling sausages on a stovetop.\n",
      "Frying sausages in a pan with sauce.\n",
      "Add colorful vegetables to the hot dog for a fresh and vibrant topping.\n",
      "Grilling sausages on a stovetop with a side of colorful vegetables.\n",
      "Frying sliced potatoes in a pan with butter.\n"
     ]
    },
    {
     "name": "stderr",
     "output_type": "stream",
     "text": [
      " 44%|████▎     | 82/188 [17:42<24:33, 13.90s/it]"
     ]
    },
    {
     "name": "stdout",
     "output_type": "stream",
     "text": [
      "Grilling sausages on a stovetop with a side of colorful vegetables.\n",
      "The image shows a blender with a few ingredients inside, including what appears to be a piece of ginger and possibly some other vegetables or fruits. The\n",
      "Mixing ingredients in a bowl.\n",
      "Mixing ingredients in a bowl.\n",
      "Blending the ingredients together in a food processor.\n",
      "Marinating raw meat in a red marinade.\n",
      "The image shows a step in a cooking process where water is being poured over a bowl of mushrooms. The text suggests that the mushrooms will be cooked\n",
      "The image shows a cooking step where a spoon is being used to stir a pot of food, likely a stew or soup, with ingredients such as meat\n",
      "The image shows a step in a cooking process where a strainer is being used to drain a mixture of ingredients, possibly a sauce or a marin\n",
      "Boiling eggs in a pot of water.\n",
      "The image shows a hand stirring a mixture in a bowl, which appears to be a step in preparing a dish. The text suggests that the mixture\n",
      "Cutting raw meat with a sharp knife.\n",
      "Boiling pasta in a pot of water.\n",
      "The image shows a bowl of noodles being stirred, likely during the cooking process. The text in the image suggests that the noodles are being cooked with a\n",
      "Boiling dumplings in a pot of water.\n"
     ]
    },
    {
     "name": "stderr",
     "output_type": "stream",
     "text": [
      " 44%|████▍     | 83/188 [18:10<32:07, 18.36s/it]"
     ]
    },
    {
     "name": "stdout",
     "output_type": "stream",
     "text": [
      "The image shows a person transferring cooked food from a pot to a bowl, which is a common step in many recipes to serve the dish.\n",
      "Adding sliced mushrooms to a bowl with a drizzle of olive oil.\n",
      "Stirring the ingredients in a pan on the stove.\n",
      "Frying rice in a pan.\n",
      "Adding liquid to the mixture in the bowl.\n",
      "Grinding ingredients in a food processor.\n",
      "Whisk the ingredients together in a bowl.\n",
      "Blending ingredients in a food processor.\n",
      "Blend ingredients in a food processor until smooth.\n",
      "Rolling out dough on a floured surface\n",
      "Rolling out dough and cutting into squares for a pastry recipe.\n",
      "Rolling out dough into a square shape.\n"
     ]
    },
    {
     "name": "stderr",
     "output_type": "stream",
     "text": [
      " 45%|████▍     | 84/188 [18:30<32:20, 18.66s/it]"
     ]
    },
    {
     "name": "stdout",
     "output_type": "stream",
     "text": [
      "Frying dumplings in a pan.\n",
      "Chopping onions on a cutting board.\n",
      "Chopping mushrooms on a cutting board.\n",
      "Crack eggs into a bowl and beat until yolks and whites are well combined.\n",
      "Slicing cooked omelette on a cutting board.\n",
      "Adding minced garlic to a hot pan.\n",
      "Tossing stir-fry ingredients in a wok with a wooden spatula.\n",
      "Sauteing mushrooms in a pan with oil.\n",
      "Tossing the stir-fry ingredients with a wooden spatula.\n",
      "Add white pepper to enhance the dish's flavor.\n",
      "Drizzle sesame oil over the dish for added flavor.\n"
     ]
    },
    {
     "name": "stderr",
     "output_type": "stream",
     "text": [
      " 45%|████▌     | 85/188 [18:47<31:22, 18.28s/it]"
     ]
    },
    {
     "name": "stdout",
     "output_type": "stream",
     "text": [
      "Tossing stir-fried noodles with vegetables and sauce.\n",
      "Mixing ingredients in a bowl.\n",
      "Rolling out dough on a floured surface.\n",
      "Rolling out dough for pizza crust.\n",
      "Rolling out dough with a rolling pin.\n",
      "Roll out the dough into a flat, round shape.\n",
      "Roll out the dough into a flat, round shape.\n",
      "Place the flattened dough on a hot, oiled griddle or pan.\n",
      "Bake the flatbread until golden brown and slightly crispy.\n",
      "Place the dough on a floured surface and roll it out to the desired thickness.\n"
     ]
    },
    {
     "name": "stderr",
     "output_type": "stream",
     "text": [
      " 46%|████▌     | 86/188 [19:00<28:29, 16.76s/it]"
     ]
    },
    {
     "name": "stdout",
     "output_type": "stream",
     "text": [
      "Toast the bread on a hot griddle or skillet until golden brown and slightly charred.\n",
      "Mixing ingredients in a bowl.\n",
      "Thread hot dog onto skewer.\n",
      "Adding a liquid ingredient to a batter.\n",
      "Stirring the sauce with a spoon to ensure even cooking and to prevent sticking.\n",
      "Frying food in hot oil.\n",
      "Mixing dry ingredients in a bowl.\n",
      "Frying food in hot oil.\n"
     ]
    },
    {
     "name": "stderr",
     "output_type": "stream",
     "text": [
      " 46%|████▋     | 87/188 [19:12<25:44, 15.29s/it]"
     ]
    },
    {
     "name": "stdout",
     "output_type": "stream",
     "text": [
      "Frying food in hot oil.\n",
      "Adding fresh herbs to a simmering sauce or soup.\n",
      "Stirring the sauce in the bowl to ensure even distribution of flavors.\n",
      "Pouring sauce over marinated meat.\n",
      "Scrape batter onto hot griddle to make pancakes.\n",
      "Grilling a piece of meat on a hot plate.\n",
      "Grilling meat on a hot plate.\n",
      "Grilling mushrooms and meat on a hot plate.\n"
     ]
    },
    {
     "name": "stderr",
     "output_type": "stream",
     "text": [
      " 47%|████▋     | 89/188 [19:25<18:22, 11.14s/it]"
     ]
    },
    {
     "name": "stdout",
     "output_type": "stream",
     "text": [
      "Adding seasoning to a sauce.\n",
      "Blanching the pasta: Cook the pasta in boiling water for 10 minutes.\n",
      "Add salt to taste.\n",
      "Slicing and rinsing scallions for cooking.\n",
      "Add ice cold water to the flour mixture.\n",
      "Mixing ingredients in a bowl.\n",
      "Mix the dry ingredients in a large bowl.\n",
      "Mixing cooked rice with sauce in a bowl.\n"
     ]
    },
    {
     "name": "stderr",
     "output_type": "stream",
     "text": [
      " 48%|████▊     | 90/188 [19:38<18:52, 11.55s/it]"
     ]
    },
    {
     "name": "stdout",
     "output_type": "stream",
     "text": [
      "Frying the onion rings in hot oil.\n",
      "Combine ground meat with seasonings and vegetables in a large bowl.\n",
      "Adding chopped green onions to the stir-fry mixture.\n",
      "Mixing ingredients in a bowl for a stir-fry dish.\n",
      "Plating the dish: Arrange the cooked pasta on a plate, drizzle with sauce, and garnish with grated cheese.\n",
      "Frying dumplings in a pan.\n",
      "Frying tofu in a pan with oil.\n",
      "Frying dumplings in a pan.\n"
     ]
    },
    {
     "name": "stderr",
     "output_type": "stream",
     "text": [
      " 48%|████▊     | 91/188 [19:48<18:19, 11.33s/it]"
     ]
    },
    {
     "name": "stdout",
     "output_type": "stream",
     "text": [
      "Add chopped green onions to the bowl of cooked pasta.\n",
      "Chopping onions on a cutting board.\n",
      "Cutting raw meat on a cutting board.\n",
      "Pouring marinade over raw meat in a bowl.\n",
      "Stirring the ingredients in the bowl to combine them evenly.\n",
      "Tossing pasta with sauce in a pan.\n",
      "Mixing ingredients in a bowl.\n",
      "Mixing ingredients in a bowl.\n"
     ]
    },
    {
     "name": "stderr",
     "output_type": "stream",
     "text": [
      " 49%|████▉     | 92/188 [20:01<18:32, 11.58s/it]"
     ]
    },
    {
     "name": "stdout",
     "output_type": "stream",
     "text": [
      "Adding sauce to stir-fry ingredients.\n",
      "Heat a large pot on the stove.\n",
      "Heat a large, empty pot on the stove.\n",
      "Cube the cheese.\n",
      "Boiling noodles in a pot of water.\n",
      "Adding sliced mushrooms to simmering broth.\n",
      "Strain the broth through a fine-mesh sieve into a clean pot.\n",
      "Stirring ingredients in a pan.\n"
     ]
    },
    {
     "name": "stderr",
     "output_type": "stream",
     "text": [
      " 49%|████▉     | 93/188 [20:14<18:59, 11.99s/it]"
     ]
    },
    {
     "name": "stdout",
     "output_type": "stream",
     "text": [
      "Stirring the ingredients in the pot to ensure even cooking and to prevent sticking.\n",
      "Mixing ingredients in a bowl\n",
      "Mixing ingredients in a bowl.\n",
      "Mixing ingredients in a bowl.\n",
      "Blending ingredients in a food processor.\n",
      "Rolling out dough on a floured surface.\n",
      "Mixing ingredients in a bowl.\n",
      "Place the rolled-out dough on a hot, greased griddle or pan.\n"
     ]
    },
    {
     "name": "stderr",
     "output_type": "stream",
     "text": [
      " 50%|█████     | 94/188 [20:23<17:20, 11.07s/it]"
     ]
    },
    {
     "name": "stdout",
     "output_type": "stream",
     "text": [
      "Fry the tortilla on a hot griddle until it's slightly browned and crispy.\n",
      "Add the chopped herbs to the simmering sauce.\n",
      "Marinate the sliced meat in a mixture of soy sauce, garlic, and ginger for at least 30 minutes.\n",
      "Mixing ingredients together.\n",
      "Fry the chicken until golden and cooked through.\n",
      "Add the mixture to the prepared baking dish.\n",
      "Fry the breaded chicken pieces until golden brown.\n",
      "Frying the breaded chicken pieces in hot oil.\n",
      "Frying sliced red onions and peppers in a pan.\n",
      "Adding liquid to a simmering sauce or soup.\n",
      "Basting the roast with pan juices to ensure it remains moist and flavorful.\n"
     ]
    },
    {
     "name": "stderr",
     "output_type": "stream",
     "text": [
      " 51%|█████     | 95/188 [20:40<19:57, 12.88s/it]"
     ]
    },
    {
     "name": "stdout",
     "output_type": "stream",
     "text": [
      "Sautéing ingredients in a hot pan.\n",
      "Chopping onions on a cutting board.\n",
      "Adding liquid to the sautéed vegetables to create a stew.\n",
      "Stirring the vegetable mixture in the pot to ensure even cooking and to prevent sticking.\n",
      "Sauteing vegetables in a pan with olive oil.\n",
      "Adding grated cheese to the cooked vegetables.\n",
      "Chopping garlic on a cutting board.\n",
      "Add diced tomatoes to the pot.\n"
     ]
    },
    {
     "name": "stderr",
     "output_type": "stream",
     "text": [
      " 51%|█████     | 96/188 [20:53<19:56, 13.00s/it]"
     ]
    },
    {
     "name": "stdout",
     "output_type": "stream",
     "text": [
      "Stirring the vegetable mixture in a pot.\n",
      "Peeling and cutting a vegetable.\n",
      "Chopping fresh herbs on a cutting board.\n",
      "Adding a drizzle of olive oil to the dish.\n",
      "Adding cubed vegetables to a simmering sauce.\n",
      "Adding canned tomatoes to a pot of simmering ingredients.\n",
      "Tossing pasta with sauce and vegetables.\n",
      "Adding herbs to a simmering sauce or soup.\n",
      "Add pasta to boiling water.\n"
     ]
    },
    {
     "name": "stderr",
     "output_type": "stream",
     "text": [
      " 52%|█████▏    | 97/188 [21:06<19:52, 13.11s/it]"
     ]
    },
    {
     "name": "stdout",
     "output_type": "stream",
     "text": [
      "Add pasta to boiling water and cook according to package instructions.\n",
      "Frying food in a pan on a stove.\n",
      "The chef is preparing a dish by placing a piece of food onto a plate, likely for plating and presentation before serving.\n",
      "The chef is in the process of assembling a dish, likely a sandwich or a similar type of food, by placing ingredients onto a plate.\n",
      "Plating the dish, adding garnish or sauce.\n",
      "The chef is inspecting the cooked dish on the plate, likely ensuring it's ready to serve or checking for any final adjustments before plating\n",
      "The chef is carefully plating a dish, ensuring the presentation is visually appealing before serving.\n",
      "The chef is inspecting the cooked dish on the plate, likely ensuring it's ready to serve or checking for any final adjustments before plating\n"
     ]
    },
    {
     "name": "stderr",
     "output_type": "stream",
     "text": [
      " 52%|█████▏    | 98/188 [21:20<20:01, 13.35s/it]"
     ]
    },
    {
     "name": "stdout",
     "output_type": "stream",
     "text": [
      "The chef is in the process of seasoning a dish, likely adding herbs or spices to enhance the flavor.\n",
      "Chef demonstrates proper technique for seasoning a dish.\n",
      "The chef is carefully observing the cooking process, likely ensuring that the dish is cooked evenly and to the desired level of doneness.\n",
      "The chef is taking a moment to rest his eyes, possibly after focusing on a task or preparing for the next step in the recipe.\n",
      "Heating a pan on a gas stove to cook the next ingredient.\n",
      "Add pasta to boiling water and cook according to package instructions.\n",
      "Serving the pasta dish onto a plate.\n",
      "Heat a pan with a small amount of oil over medium heat.\n"
     ]
    },
    {
     "name": "stderr",
     "output_type": "stream",
     "text": [
      " 53%|█████▎    | 99/188 [21:37<21:02, 14.18s/it]"
     ]
    },
    {
     "name": "stdout",
     "output_type": "stream",
     "text": [
      "Chef's Tip: Ensure your ingredients are fresh and properly stored to enhance the flavor of your dish.\n",
      "Strain the tomato mixture through a fine-mesh sieve.\n",
      "Roast tomatoes in the oven for the most flavorful soup.\n",
      "Adding cooked pasta to a saucepan with simmering sauce.\n",
      "Adding spices to the pot to enhance the flavor of the dish.\n",
      "Adding sauce to the pot.\n",
      "Simmering sauce on low heat to meld flavors.\n",
      "Adding a splash of white wine to a simmering tomato sauce.\n"
     ]
    },
    {
     "name": "stderr",
     "output_type": "stream",
     "text": [
      " 53%|█████▎    | 100/188 [21:50<20:23, 13.91s/it]"
     ]
    },
    {
     "name": "stdout",
     "output_type": "stream",
     "text": [
      "Mixing ingredients in a bowl before adding to the pan.\n",
      "Slicing a loaf of bread into even pieces.\n",
      "Add cubed bread to a bowl.\n",
      "Frying food in a pan on a stove.\n",
      "Mixing ingredients in a bowl.\n",
      "Chopping fresh greens for a salad or dish.\n",
      "Grate cheese over the greens.\n",
      "Drizzling dressing over salad greens.\n"
     ]
    },
    {
     "name": "stderr",
     "output_type": "stream",
     "text": [
      " 54%|█████▎    | 101/188 [22:01<19:04, 13.16s/it]"
     ]
    },
    {
     "name": "stdout",
     "output_type": "stream",
     "text": [
      "Chopping fresh green lettuce on a cutting board.\n",
      "Mixing ingredients in a bowl.\n",
      "Mixing ingredients in a bowl.\n",
      "Rolling out dough balls on a cutting board.\n",
      "Frying the dough in hot oil.\n",
      "Flattening dough on a hot pan.\n",
      "Filling a tortilla with cooked meat and sauce.\n",
      "The person in the image is preparing food, likely following a recipe. They are in the process of cutting or slicing ingredients on a cutting board\n"
     ]
    },
    {
     "name": "stderr",
     "output_type": "stream",
     "text": [
      " 54%|█████▍    | 102/188 [22:11<17:17, 12.06s/it]"
     ]
    },
    {
     "name": "stdout",
     "output_type": "stream",
     "text": [
      "Flattening dough on a hot pan\n",
      "Chopping garlic on a cutting board.\n",
      "Chopping red bell pepper on a cutting board.\n",
      "Tossing the salad with dressing.\n",
      "Adding chopped vegetables to the stir-fry.\n",
      "Slicing cucumbers on a cutting board.\n",
      "Roll out dough on a floured surface.\n",
      "Combine chopped kale with other ingredients in a bowl.\n",
      "Add cooked noodles to the bowl.\n",
      "Sauté sliced cucumbers in a pan with a sprinkle of salt and pepper.\n",
      "Shredded carrots being added to a pan.\n",
      "Pan-fry the mushrooms and meat\n",
      "Add red pepper powder to the sauce.\n"
     ]
    },
    {
     "name": "stderr",
     "output_type": "stream",
     "text": [
      " 55%|█████▍    | 103/188 [22:32<20:57, 14.79s/it]"
     ]
    },
    {
     "name": "stdout",
     "output_type": "stream",
     "text": [
      "Add cooked rice to the bowl and mix with the sautéed vegetables.\n",
      "Rinse chickpeas thoroughly under cold water.\n",
      "Soak chickpeas in water with a bay leaf and a pinch of salt overnight.\n",
      "Mix the ingredients in a bowl to create a flavorful blend.\n",
      "Grinding spices in a mortar and pestle for a flavorful blend.\n",
      "Adding liquid to a hot pan.\n",
      "Forking through the cooked beans to check for tenderness and seasoning.\n",
      "Mixing ingredients in a bowl.\n",
      "Mixing ingredients in a pan.\n",
      "Stirring the sauce into the pan to coat the ingredients evenly.\n",
      "Frying ingredients in a pan.\n"
     ]
    },
    {
     "name": "stderr",
     "output_type": "stream",
     "text": [
      " 55%|█████▌    | 104/188 [22:51<22:27, 16.04s/it]"
     ]
    },
    {
     "name": "stdout",
     "output_type": "stream",
     "text": [
      "Adding the cooked lentils to the pan with the spices.\n",
      "Adding oil to a hot pan.\n",
      "Frying food in a wok on a gas stove.\n",
      "Stir-frying rice in a wok with a wooden spoon.\n",
      "Adding stir-fry ingredients to a hot wok.\n",
      "Scooping stir-fried rice onto a plate.\n",
      "Stir-frying rice in a wok with a wooden spoon.\n",
      "Stir-frying rice in a wok with a wooden spatula.\n"
     ]
    },
    {
     "name": "stderr",
     "output_type": "stream",
     "text": [
      " 56%|█████▌    | 105/188 [23:04<21:04, 15.23s/it]"
     ]
    },
    {
     "name": "stdout",
     "output_type": "stream",
     "text": [
      "Stir-frying rice in a wok with a wooden spoon.\n",
      "The image shows a stainless steel bowl with a small amount of liquid at the bottom, which appears to be a cooking step involving a reduction or a\n",
      "Mash the cooked potatoes until smooth.\n",
      "Mix the ingredients together to form a smooth batter.\n",
      "Place the dough in the preheated oven.\n",
      "Layer sliced meat on top of shredded cheese on the bread.\n",
      "Adding shredded cheese to the sandwich.\n",
      "Spreading a layer of creamy filling onto the bread.\n",
      "Remove the baked dish from the oven using oven mitts.\n",
      "Sprinkle bread with toasted nuts and seeds.\n"
     ]
    },
    {
     "name": "stderr",
     "output_type": "stream",
     "text": [
      " 56%|█████▋    | 106/188 [23:21<21:28, 15.71s/it]"
     ]
    },
    {
     "name": "stdout",
     "output_type": "stream",
     "text": [
      "Bake the cake until a toothpick inserted into the center comes out clean.\n",
      "Place the seasoned meat under the broiler for a few minutes to sear the top.\n",
      "Fry the meatballs in a pan with sauce until cooked through.\n",
      "Mix the ingredients in a bowl.\n",
      "Cook the clams in a flavorful broth until they open, then serve with a side of crusty bread.\n",
      "Add chopped greens to the simmering sauce to wilt.\n",
      "Add chopped greens to the simmering sauce to wilt.\n",
      "Add chopped greens to the simmering sauce to wilt.\n"
     ]
    },
    {
     "name": "stderr",
     "output_type": "stream",
     "text": [
      " 57%|█████▋    | 107/188 [23:34<20:14, 14.99s/it]"
     ]
    },
    {
     "name": "stdout",
     "output_type": "stream",
     "text": [
      "Adding cooked meat to a simmering sauce.\n",
      "Pour batter into a hot, greased waffle iron.\n",
      "Adding spices to a pan.\n",
      "Adding ingredients to a pot.\n",
      "Adding spices to the simmering sauce.\n",
      "Stirring ingredients in a pan.\n",
      "Stir-frying vegetables in a pan.\n",
      "Stirring ingredients in a pot.\n",
      "The image shows a pot of simmering sauce with chunks of red bell pepper and possibly other vegetables or ingredients. It appears to be a step in\n"
     ]
    },
    {
     "name": "stderr",
     "output_type": "stream",
     "text": [
      " 57%|█████▋    | 108/188 [23:48<19:37, 14.71s/it]"
     ]
    },
    {
     "name": "stdout",
     "output_type": "stream",
     "text": [
      "Peeling and dicing a tomato for a sauce or salad.\n",
      "Adding a small amount of liquid to the dry ingredients.\n",
      "Mixing ingredients in a bowl.\n",
      "Knead the dough in a bowl.\n",
      "Rolling out dough on a floured surface.\n",
      "Mixing ingredients in a bowl before shaping dough.\n",
      "Rolling out dough on a metal plate.\n",
      "Rolling out dough on a metal surface.\n"
     ]
    },
    {
     "name": "stderr",
     "output_type": "stream",
     "text": [
      " 58%|█████▊    | 109/188 [24:01<18:35, 14.12s/it]"
     ]
    },
    {
     "name": "stdout",
     "output_type": "stream",
     "text": [
      "Roll out the dough into a thin, even circle.\n",
      "Mixing ingredients in a bowl.\n",
      "Grating cheese into a bowl.\n",
      "Shredding cheese on a grater.\n",
      "Adding spices to sauerkraut mixture.\n",
      "Tasting the sauce for seasoning adjustments.\n",
      "Adding the batter to the hot pan to create a pancake.\n",
      "Adding the mixture to the hot pan.\n"
     ]
    },
    {
     "name": "stderr",
     "output_type": "stream",
     "text": [
      " 59%|█████▊    | 110/188 [24:14<17:48, 13.70s/it]"
     ]
    },
    {
     "name": "stdout",
     "output_type": "stream",
     "text": [
      "Grate the cheese onto the plate.\n",
      "Frying tofu in a pan with oil.\n",
      "Frying an egg in a pan.\n",
      "Flip the pancake to cook the other side.\n",
      "Melt cheese on top of the dish.\n",
      "Flipping a piece of French toast in a pan.\n",
      "Slicing a piece of bread.\n",
      "Cutting French toast with a knife and fork.\n"
     ]
    },
    {
     "name": "stderr",
     "output_type": "stream",
     "text": [
      " 59%|█████▉    | 111/188 [24:25<16:40, 12.99s/it]"
     ]
    },
    {
     "name": "stdout",
     "output_type": "stream",
     "text": [
      "Frying a sandwich on a pan.\n",
      "Pour the mixture into the prepared baking dish.\n",
      "Adding liquid to a bowl.\n",
      "Mixing ingredients in a bowl.\n",
      "Whisking egg whites to stiff peaks for meringue.\n",
      "Mixing ingredients in a bowl.\n",
      "Forming the dough into a ball for kneading.\n",
      "Add the ingredients to the mixing bowl.\n",
      "Flip the pancake with a spatula.\n",
      "Frying pancakes on a griddle.\n",
      "Flip the pancake to cook the other side.\n",
      "Flip the pancake to cook the other side.\n"
     ]
    },
    {
     "name": "stderr",
     "output_type": "stream",
     "text": [
      " 60%|█████▉    | 112/188 [24:39<16:45, 13.23s/it]"
     ]
    },
    {
     "name": "stdout",
     "output_type": "stream",
     "text": [
      "Stack the cooked pancakes on a clean cloth or paper towel to keep them warm and absorb any excess oil.\n",
      "Add the chopped vegetables to the pan and stir-fry until they are slightly softened.\n",
      "Prepare ingredients for marination.\n",
      "Frying an egg over a bed of sautéed onions.\n",
      "Scrambling eggs in a pan with a wooden spoon.\n",
      "Add cooked rice to the pan with stir-fried vegetables.\n",
      "Add the chopped garlic and onions to the hot pan.\n",
      "Adding the chopped garlic to the hot pan.\n",
      "Add the chopped garlic and ginger to the hot pan.\n",
      "Sauteing vegetables in a pan with a small amount of oil.\n",
      "Heat the pan and add the ingredients to cook.\n"
     ]
    },
    {
     "name": "stderr",
     "output_type": "stream",
     "text": [
      " 60%|██████    | 113/188 [24:57<18:25, 14.74s/it]"
     ]
    },
    {
     "name": "stdout",
     "output_type": "stream",
     "text": [
      "Adding ingredients to a pan for stir-frying.\n",
      "Chopped vegetables and ingredients ready for mixing.\n",
      "Adding liquid to a mixture in a bowl.\n",
      "Preparing the ingredients for a healthy salad.\n",
      "Chopping fruits and vegetables on a cutting board.\n",
      "Chop and mix ingredients in a large bowl.\n",
      "Add sliced apples to the salad for a touch of sweetness.\n",
      "Add grilled chicken to the salad.\n",
      "Add grilled chicken to the salad.\n"
     ]
    },
    {
     "name": "stderr",
     "output_type": "stream",
     "text": [
      " 61%|██████    | 114/188 [25:10<17:33, 14.24s/it]"
     ]
    },
    {
     "name": "stdout",
     "output_type": "stream",
     "text": [
      "Adding dressing to the salad.\n",
      "Adding ingredients to the pan.\n",
      "Chopping tomatoes on a cutting board.\n",
      "Chopping tomatoes on a cutting board.\n",
      "Adding toppings to pizza dough.\n",
      "Peeling and slicing lemons for a citrus garnish.\n",
      "Add the olive oil to the pan and heat it up.\n",
      "Chopping green onions on a cutting board.\n"
     ]
    },
    {
     "name": "stderr",
     "output_type": "stream",
     "text": [
      " 61%|██████    | 115/188 [25:22<16:29, 13.55s/it]"
     ]
    },
    {
     "name": "stdout",
     "output_type": "stream",
     "text": [
      "Adding olive oil to the salad for a healthy dressing.\n",
      "Sprinkle the flour mixture evenly over the wet ingredients.\n",
      "Mixing dry ingredients: Stir together flour, baking powder, and salt in a bowl.\n",
      "Mixing ingredients in a bowl.\n",
      "Mixing ingredients in a bowl.\n",
      "Pouring batter onto a hot griddle to make pancakes\n",
      "Frying pancake on a hot griddle.\n",
      "Stack the cooked pancakes on a plate and drizzle with maple syrup.\n"
     ]
    },
    {
     "name": "stderr",
     "output_type": "stream",
     "text": [
      " 62%|██████▏   | 116/188 [25:35<15:56, 13.28s/it]"
     ]
    },
    {
     "name": "stdout",
     "output_type": "stream",
     "text": [
      "Pouring batter onto a hot griddle to make pancakes\n",
      "Mixing ingredients in a bowl.\n",
      "Add salt to the pot.\n",
      "Rolling out dough on a floured surface.\n",
      "Pressing down on the dough with a rolling pin to flatten it evenly.\n",
      "Mash the potato filling and stuff the shell.\n",
      "Mixing ingredients in a bowl.\n",
      "Rinse the rice under cold water to remove excess starch and prevent sticking.\n"
     ]
    },
    {
     "name": "stderr",
     "output_type": "stream",
     "text": [
      " 62%|██████▏   | 117/188 [25:45<14:35, 12.33s/it]"
     ]
    },
    {
     "name": "stdout",
     "output_type": "stream",
     "text": [
      "Add the chopped onions to the pan and sauté until translucent.\n",
      "The person in the image is in the process of mixing ingredients in a bowl, likely preparing a sauce or a batter for cooking.\n",
      "Chopping an onion on a cutting board.\n",
      "Heat the pan on medium-high heat.\n",
      "Tossing the marinated meat with a spatula to ensure even cooking.\n",
      "Sprinkle sesame seeds on top of the cooked meat for added texture and flavor.\n",
      "Marinated and seared meat ready for the oven.\n",
      "Adding a dark sauce to a bowl.\n"
     ]
    },
    {
     "name": "stderr",
     "output_type": "stream",
     "text": [
      " 63%|██████▎   | 118/188 [26:00<15:09, 13.00s/it]"
     ]
    },
    {
     "name": "stdout",
     "output_type": "stream",
     "text": [
      "Sear the steak in a hot pan.\n",
      "Marinate the shrimp in a mixture of lemon juice, garlic, and herbs.\n",
      "Whisking the sauce to ensure smooth consistency.\n",
      "Crumbly bread for a base or topping.\n",
      "Pour the oil into the pan.\n",
      "Fry the chicken in hot oil until golden and cooked through.\n",
      "Frying food in a pan.\n",
      "Drizzle sauce over the cooked chicken pieces in the bowl.\n"
     ]
    },
    {
     "name": "stderr",
     "output_type": "stream",
     "text": [
      " 63%|██████▎   | 119/188 [26:13<15:05, 13.12s/it]"
     ]
    },
    {
     "name": "stdout",
     "output_type": "stream",
     "text": [
      "Tossing cooked shrimp with sauce in a bowl.\n",
      "Opening a can of tomatoes for a recipe.\n",
      "Layering cheese slices on a prepared crust.\n",
      "Stretching and shaping pizza dough on a metal pan.\n",
      "Bake the dish in a preheated oven until the top is golden brown and bubbly.\n",
      "Bake the pizza at 475°F (245°C) for 12-15 minutes or until\n",
      "Rolling out dough for a pie crust.\n",
      "Layering cheese slices on a surface.\n"
     ]
    },
    {
     "name": "stderr",
     "output_type": "stream",
     "text": [
      " 64%|██████▍   | 120/188 [26:27<15:01, 13.26s/it]"
     ]
    },
    {
     "name": "stdout",
     "output_type": "stream",
     "text": [
      "Sprinkle grated cheese evenly over the pizza sauce.\n",
      "Chopped pineapple on a cutting board, ready for the next step in the recipe.\n",
      "Dice apples in a bowl with a table spoon of lemon.\n",
      "Peel and core apples, then cut into bite-sized pieces.\n",
      "Toss the ingredients in a bowl to coat evenly.\n",
      "Adding liquid to the mixture.\n",
      "Add the cooked quinoa to the sautéed vegetables.\n",
      "Mix the ingredients together in a bowl.\n"
     ]
    },
    {
     "name": "stderr",
     "output_type": "stream",
     "text": [
      " 64%|██████▍   | 121/188 [26:36<13:41, 12.26s/it]"
     ]
    },
    {
     "name": "stdout",
     "output_type": "stream",
     "text": [
      "Dice apples and soak in water with a pinch of salt.\n",
      "Mixing green pesto with pink meat mixture.\n",
      "The person in the image is stirring a mixture in a pan, likely combining ingredients or ensuring even cooking.\n",
      "Prepare the ingredients: chop the vegetables, measure the spices, and set them aside.\n",
      "Peeling and slicing a lemon for a dish.\n",
      "The image shows a person in the process of cooking, likely following a recipe. The cooking step appears to involve stirring or mixing ingredients in a pan\n",
      "Stirring the ingredients in a pan to ensure even cooking and to prevent sticking.\n",
      "The image shows a person in a kitchen, likely in the process of preparing a meal. They are standing in front of a stove with a pot\n",
      "The woman is preparing dough, likely for making bread or flatbread, as she is seen rolling out the dough on a wooden surface.\n",
      "The person in the image is stirring a pot on the stove, likely to ensure even cooking and to prevent the food from sticking to the bottom of\n",
      "Sprinkle grated cheese evenly over the prepared casserole.\n",
      "The person in the image is in the process of adding ingredients to a dish, likely following a recipe. They are pouring or sprinkling a white\n"
     ]
    },
    {
     "name": "stderr",
     "output_type": "stream",
     "text": [
      " 65%|██████▍   | 122/188 [27:01<17:36, 16.00s/it]"
     ]
    },
    {
     "name": "stdout",
     "output_type": "stream",
     "text": [
      "Baking the pie in the oven for 25 minutes.\n",
      "Mixing ingredients in a bowl.\n",
      "Mixing ingredients in a bowl.\n",
      "Rolling out dough for pizza crust.\n",
      "Chopped ingredients ready for cooking.\n",
      "Adding toppings to pizza dough.\n",
      "Mixing ingredients in a bowl.\n",
      "Adding toppings to pizza dough.\n"
     ]
    },
    {
     "name": "stderr",
     "output_type": "stream",
     "text": [
      " 66%|██████▌   | 124/188 [27:09<11:06, 10.42s/it]"
     ]
    },
    {
     "name": "stdout",
     "output_type": "stream",
     "text": [
      "Adding toppings to pizza dough.\n",
      "Mixing ingredients in a bowl.\n",
      "Roll the meat in the seasoned flour mixture.\n",
      "Cutting raw meat on a cutting board.\n",
      "Cutting the meat into thin slices for marination.\n",
      "Mixing ingredients in a bowl.\n",
      "Combine mixed greens, cherry tomatoes, cucumber slices, and olives in a large salad bowl.\n",
      "Heat the pan with a small amount of oil.\n",
      "Frying pizza slices in a pan with oil.\n",
      "Add cubed butter to hot saucepan.\n"
     ]
    },
    {
     "name": "stderr",
     "output_type": "stream",
     "text": [
      " 66%|██████▋   | 125/188 [27:21<11:17, 10.75s/it]"
     ]
    },
    {
     "name": "stdout",
     "output_type": "stream",
     "text": [
      "Frying cheese in a pan.\n",
      "Draining noodles in a colander.\n",
      "Slice the cooked chicken breast into thin strips.\n",
      "Tossing stir-fry ingredients in a pan.\n",
      "Toss cooked noodles with stir-fried vegetables and sauce.\n",
      "Season the chicken with salt and pepper before cooking.\n",
      "Sprinkling sesame seeds over stir-fried vegetables.\n",
      "Stir-fry the vegetables and noodles in a hot pan with oil.\n"
     ]
    },
    {
     "name": "stderr",
     "output_type": "stream",
     "text": [
      " 67%|██████▋   | 126/188 [27:34<11:46, 11.40s/it]"
     ]
    },
    {
     "name": "stdout",
     "output_type": "stream",
     "text": [
      "Tossing the stir-fry ingredients with sauce to coat evenly.\n",
      "Chopping vegetables on a cutting board.\n",
      "Chopping avocado on a cutting board.\n",
      "The chef is in the process of preparing a dish, likely a sushi roll, as indicated by the presence of sushi rice, nori sheets,\n",
      "Slicing vegetables for sushi roll.\n",
      "Rolling sushi with bamboo mat.\n",
      "The chef is in the process of preparing a dish, likely a sushi roll, as indicated by the ingredients and the bamboo mat used for rolling sushi\n",
      "Rolling sushi with avocado and carrot inside.\n"
     ]
    },
    {
     "name": "stderr",
     "output_type": "stream",
     "text": [
      " 68%|██████▊   | 127/188 [27:47<12:03, 11.86s/it]"
     ]
    },
    {
     "name": "stdout",
     "output_type": "stream",
     "text": [
      "Chopping vegetables on a cutting board.\n",
      "Peeling and dicing a garlic clove for cooking.\n",
      "Grating cheese into a bowl.\n",
      "Pour the batter into the prepared pan.\n",
      "Sprinkle the cinnamon and nutmeg over the top of the pastry.\n",
      "Mixing the ingredients in a bowl.\n",
      "Frying garlic in oil.\n",
      "Cube the bread for a rustic texture.\n",
      "Adding crumbled cheese to the salad.\n",
      "Shredded cheese being sprinkled over a green salad.\n"
     ]
    },
    {
     "name": "stderr",
     "output_type": "stream",
     "text": [
      " 68%|██████▊   | 128/188 [28:02<12:38, 12.64s/it]"
     ]
    },
    {
     "name": "stdout",
     "output_type": "stream",
     "text": [
      "Tossing salad with dressing.\n",
      "Sauteing diced onions in a pan.\n",
      "Sauteing onions in a pan.\n",
      "Chopping cucumbers into small pieces.\n",
      "Sautéing onions and carrots in a pan with oil.\n",
      "Chopped vegetables being sautéed in a pan.\n",
      "Add the cooked pasta to the pot with the sauce and vegetables.\n",
      "Adding fresh basil to a simmering tomato-based sauce.\n"
     ]
    },
    {
     "name": "stderr",
     "output_type": "stream",
     "text": [
      " 69%|██████▊   | 129/188 [28:15<12:34, 12.79s/it]"
     ]
    },
    {
     "name": "stdout",
     "output_type": "stream",
     "text": [
      "Sauteing diced onions in a pan.\n",
      "Baking in the oven.\n",
      "Chop and toss the greens in a bowl.\n",
      "Mixing ingredients in a bowl.\n",
      "Adding creamy dressing to a fresh vegetable salad.\n",
      "Kneading dough to achieve a smooth and elastic texture.\n",
      "The person in the image is in the process of preparing a dish, likely a salad or a similar food item. They are using a mortar and\n",
      "Kneading dough to achieve a smooth and elastic texture.\n"
     ]
    },
    {
     "name": "stderr",
     "output_type": "stream",
     "text": [
      " 69%|██████▉   | 130/188 [28:27<12:14, 12.66s/it]"
     ]
    },
    {
     "name": "stdout",
     "output_type": "stream",
     "text": [
      "Kneading dough to achieve a smooth and elastic texture.\n",
      "Add ingredients to slow cooker and cook on low for 6-8 hours.\n",
      "Slicing raw meat on a cutting board.\n",
      "Frying diced onions in a pan.\n",
      "Adding green vegetables to a simmering sauce.\n",
      "Heat the pan on medium heat.\n",
      "Stirring ingredients in a pot.\n",
      "Stirring the ingredients in a pan.\n",
      "Stirring cooked rice in a pan\n"
     ]
    },
    {
     "name": "stderr",
     "output_type": "stream",
     "text": [
      " 70%|██████▉   | 131/188 [28:37<11:21, 11.96s/it]"
     ]
    },
    {
     "name": "stdout",
     "output_type": "stream",
     "text": [
      "Adding garnish to the cooked rice dish.\n",
      "Cooking pasta in boiling water.\n",
      "Chopped vegetables ready to be cooked.\n",
      "Combine pasta, vegetables, and sauce in a large bowl.\n",
      "Tossing the salad with a dressing.\n",
      "Tossing the cooked rice with vegetables and sauce.\n",
      "Toss pasta and vegetables in a pan with sauce.\n",
      "Toss pasta and vegetables in a pan with sauce.\n"
     ]
    },
    {
     "name": "stderr",
     "output_type": "stream",
     "text": [
      " 70%|███████   | 132/188 [28:50<11:22, 12.19s/it]"
     ]
    },
    {
     "name": "stdout",
     "output_type": "stream",
     "text": [
      "Combine cooked pasta, chicken, and vegetables in a large bowl.\n",
      "Adding sauce to the pan.\n",
      "Adding minced garlic to the pan.\n",
      "Sautéing onions in a pan before adding other ingredients.\n",
      "Stirring the ingredients in the pan to ensure even cooking and to prevent sticking.\n",
      "Adding cheese to the pasta dish.\n",
      "Toss the greens with the dressing to evenly coat.\n",
      "Tossing pasta and spinach in a pan with olive oil.\n"
     ]
    },
    {
     "name": "stderr",
     "output_type": "stream",
     "text": [
      " 71%|███████   | 133/188 [29:00<10:38, 11.62s/it]"
     ]
    },
    {
     "name": "stdout",
     "output_type": "stream",
     "text": [
      "Add a small amount of oil to the pan to prevent sticking.\n",
      "Chopped ingredients ready to be mixed into the sauce.\n",
      "Heat a large pot over medium heat.\n",
      "Adding ingredients to a bowl for mixing.\n",
      "Add the chopped herbs to the pan.\n",
      "Pour the mixture into the prepared baking dish.\n",
      "Pour the melted butter over the bread slices.\n",
      "Pouring liquid from a measuring cup into a saucepan on the stove.\n",
      "Adding the green ingredient to the pot.\n"
     ]
    },
    {
     "name": "stderr",
     "output_type": "stream",
     "text": [
      " 71%|███████▏  | 134/188 [29:16<11:25, 12.69s/it]"
     ]
    },
    {
     "name": "stdout",
     "output_type": "stream",
     "text": [
      "Stirring the sauce in the pot to ensure even cooking and to prevent sticking.\n",
      "Mix the ingredients together to form a dough.\n",
      "Roll out the dough and place it on the baking sheet.\n",
      "Knead the dough until smooth and elastic.\n",
      "Prepare dough balls for rolling and shaping.\n",
      "Rolling out dough with a rolling pin.\n",
      "Roll out the dough on a floured surface.\n",
      "Fry the tortilla on a hot skillet until it's slightly browned and has small bubbles on the surface.\n",
      "Sauté the onions and garlic in a pan with olive oil until translucent.\n",
      "Sauté green peas in a pan with a small amount of oil until they are heated through.\n",
      "Saute chopped onions and garlic in olive oil until translucent.\n",
      "Add the sauce to the pan and stir to coat the chicken.\n",
      "Rolling out dough on a wooden surface.\n",
      "Pour the batter into the prepared pan.\n"
     ]
    },
    {
     "name": "stderr",
     "output_type": "stream",
     "text": [
      " 72%|███████▏  | 135/188 [29:41<14:29, 16.40s/it]"
     ]
    },
    {
     "name": "stdout",
     "output_type": "stream",
     "text": [
      "Melt butter in a pan over medium heat.\n",
      "Add brown sugar to the mixing bowl.\n",
      "Blend the sauce ingredients until smooth.\n",
      "Boiling noodles in a pot.\n",
      "Adding oil to a pan.\n",
      "Sautéing red bell pepper strips with green onions in a pan.\n",
      "Pouring melted cheese over cooked pasta.\n",
      "Chopping limes on a cutting board.\n"
     ]
    },
    {
     "name": "stderr",
     "output_type": "stream",
     "text": [
      " 73%|███████▎  | 137/188 [29:52<09:48, 11.53s/it]"
     ]
    },
    {
     "name": "stdout",
     "output_type": "stream",
     "text": [
      "Cutting a green pepper into slices.\n",
      "Blending the ingredients together in a food processor.\n",
      "Mixing ingredients in a stand mixer.\n",
      "Strain the mixture into the bowl\n",
      "Mixing ingredients in a pot.\n",
      "Combining ingredients in a bowl.\n",
      "Combining ingredients in a bowl.\n",
      "Add the sliced vegetables to the pan.\n"
     ]
    },
    {
     "name": "stderr",
     "output_type": "stream",
     "text": [
      " 73%|███████▎  | 138/188 [30:01<08:56, 10.73s/it]"
     ]
    },
    {
     "name": "stdout",
     "output_type": "stream",
     "text": [
      "Adding the sauce to the cooked chicken\n",
      "Slice onions and place them in a pan.\n",
      "Blending ingredients in a blender.\n",
      "Frying chicken in a pan with oil.\n",
      "Frying chicken in a pan with oil.\n",
      "Tossing the cooked chicken with sauce in a pan.\n",
      "Tossing the meat in the pan with sauce.\n",
      "Stirring the curry sauce to ensure even cooking and to prevent sticking.\n"
     ]
    },
    {
     "name": "stderr",
     "output_type": "stream",
     "text": [
      " 74%|███████▍  | 139/188 [30:13<09:03, 11.08s/it]"
     ]
    },
    {
     "name": "stdout",
     "output_type": "stream",
     "text": [
      "Stirring the sauce to ensure even cooking and to prevent sticking.\n",
      "Blanching the onions in boiling water to soften and remove any bitterness.\n",
      "Sauteing onions in a pan.\n",
      "Whisk the ingredients in a bowl over a pot of boiling water to create a double boiler effect.\n",
      "Adding the marinated meat to the hot pan.\n",
      "Stirring tomato sauce in pot.\n",
      "Tossing pasta with sauce in a bowl.\n",
      "Frying food in a pan on a stove.\n"
     ]
    },
    {
     "name": "stderr",
     "output_type": "stream",
     "text": [
      " 74%|███████▍  | 140/188 [30:26<09:22, 11.71s/it]"
     ]
    },
    {
     "name": "stdout",
     "output_type": "stream",
     "text": [
      "Frying onion rings in hot oil.\n",
      "Cutting the dough into square pieces.\n",
      "Chopped green peppers on a cutting board.\n",
      "Chopped green onions and white onions being prepared for cooking.\n",
      "Add chopped vegetables to the pan.\n",
      "Stirring tofu cubes in a hot pan with a spatula.\n",
      "Stirring tofu cubes in a hot pan with oil.\n",
      "Sauté tofu cubes in a pan with a small amount of oil until golden brown on all sides.\n"
     ]
    },
    {
     "name": "stderr",
     "output_type": "stream",
     "text": [
      " 75%|███████▌  | 141/188 [30:40<09:33, 12.20s/it]"
     ]
    },
    {
     "name": "stdout",
     "output_type": "stream",
     "text": [
      "Chopped green onions and white onions on a cutting board, ready to be used in a dish.\n",
      "Cutting dough into pieces.\n",
      "Chopping white cabbage with a mandoline slicer.\n",
      "Adding cayenne pepper to the sauce for a spicy kick.\n",
      "Add the sauce to the stir-fry and toss to coat the vegetables evenly.\n",
      "Mixing shredded vegetables in a bowl.\n",
      "Shredded carrots added to the coleslaw mixture.\n",
      "Kneading dough for bread or pizza.\n"
     ]
    },
    {
     "name": "stderr",
     "output_type": "stream",
     "text": [
      " 76%|███████▌  | 142/188 [30:54<09:42, 12.66s/it]"
     ]
    },
    {
     "name": "stdout",
     "output_type": "stream",
     "text": [
      "Tossing shredded cabbage and carrots with dressing in a large bowl.\n",
      "Adding a dark liquid to a bowl of chopped vegetables.\n",
      "Chopped vegetables added to the pan with the meat.\n",
      "Add 3 tablespoons of plain flour to the mixture.\n",
      "Boiling water in a pot.\n",
      "The image shows a pan with a variety of vegetables being stir-fried, indicating that the cooking step involves quickly frying the ingredients over high heat\n",
      "Adding a block of tofu to a simmering soup.\n",
      "The image shows a cooking step where eggs are being poached in boiling water. The text \"Sauté 5-10 Minutes\n",
      "Sauteing mushrooms in a pan.\n"
     ]
    },
    {
     "name": "stderr",
     "output_type": "stream",
     "text": [
      " 76%|███████▌  | 143/188 [31:10<10:18, 13.74s/it]"
     ]
    },
    {
     "name": "stdout",
     "output_type": "stream",
     "text": [
      "The image shows a hand placing a lid on a pot, indicating the step of covering the pot to simmer the contents for one hour.\n",
      "Chopping mushrooms on a cutting board.\n",
      "Place the black plate on the stovetop.\n",
      "Frying an egg sunny side up in a pan.\n",
      "Adding cooked rice to a bowl.\n",
      "Tossing the salad with dressing.\n",
      "Adding a poached egg to a salad.\n",
      "Frying an egg in a pan on a stove.\n"
     ]
    },
    {
     "name": "stderr",
     "output_type": "stream",
     "text": [
      " 77%|███████▋  | 144/188 [31:21<09:33, 13.03s/it]"
     ]
    },
    {
     "name": "stdout",
     "output_type": "stream",
     "text": [
      "Tossing the salad with dressing.\n",
      "Shaping sushi rice into a small ball on a sheet of nori.\n",
      "Spread cooked rice evenly on a bamboo mat.\n",
      "Spread seasoned rice evenly on a bamboo mat.\n",
      "Adding chopped tomatoes to a sushi roll.\n",
      "Layering ingredients on a bamboo sushi mat.\n",
      "Rolling sushi with bamboo mat.\n",
      "Cutting sushi rolls into bite-sized pieces.\n"
     ]
    },
    {
     "name": "stderr",
     "output_type": "stream",
     "text": [
      " 77%|███████▋  | 145/188 [31:34<09:21, 13.06s/it]"
     ]
    },
    {
     "name": "stdout",
     "output_type": "stream",
     "text": [
      "Spread seasoned rice evenly on a bamboo mat.\n",
      "Mixing ingredients in a bowl.\n",
      "Mixing ingredients in a bowl.\n",
      "Blending ingredients together in a bowl.\n",
      "Mixing ingredients in a bowl.\n",
      "Mixing ingredients in a bowl.\n",
      "Adding the chopped garlic to the hot oil.\n",
      "Dipping fried shrimp into sauce.\n"
     ]
    },
    {
     "name": "stderr",
     "output_type": "stream",
     "text": [
      " 78%|███████▊  | 146/188 [31:42<07:58, 11.40s/it]"
     ]
    },
    {
     "name": "stdout",
     "output_type": "stream",
     "text": [
      "Peeling and dicing an onion for a stir-fry.\n",
      "Slicing a wedge of cheese.\n",
      "Adding cheese to the bubbling sauce.\n",
      "Sautéing the mushrooms in a pan with butter.\n",
      "Adding grated cheese to a pan of cooked ingredients.\n",
      "Sautéing onions and garlic in a pan with oil.\n",
      "Tossing ingredients in a pan to coat with sauce.\n",
      "Adding cooked meatballs to a creamy sauce.\n",
      "Add cooked rice to the pan with the sauce and stir to combine.\n"
     ]
    },
    {
     "name": "stderr",
     "output_type": "stream",
     "text": [
      " 78%|███████▊  | 147/188 [31:56<08:17, 12.14s/it]"
     ]
    },
    {
     "name": "stdout",
     "output_type": "stream",
     "text": [
      "Adding toppings to the pizza dough.\n",
      "Chopping onions for a dish.\n",
      "Chopping onions for the beef bulgogi marinade.\n",
      "Chopping onions for beef bulgogi.\n",
      "Chopping garlic for beef bulgogi.\n",
      "Marinating raw meat with a mixture of green and brown sauces.\n",
      "Marinating raw beef in a mixture of sauce and spices.\n",
      "Marinating beef for Bulgogi.\n",
      "Mixing marinated beef in a bowl.\n"
     ]
    },
    {
     "name": "stderr",
     "output_type": "stream",
     "text": [
      " 79%|███████▊  | 148/188 [32:10<08:29, 12.73s/it]"
     ]
    },
    {
     "name": "stdout",
     "output_type": "stream",
     "text": [
      "Slicing onions for beef bulgogi.\n",
      "Chopping cabbage on a cutting board.\n",
      "Tossing the coleslaw with dressing to evenly coat the shredded cabbage and carrots.\n",
      "Grate the cheese onto the cutting board.\n",
      "Chopping fresh herbs on a cutting board.\n",
      "Add chopped vegetables to the bowl.\n",
      "Adding sugar to a mixture.\n",
      "Assembling the dish: Place the cooked pasta in a bowl and mix with the sauce.\n",
      "Frying dumplings in a pan.\n",
      "Heat the pan on medium heat.\n"
     ]
    },
    {
     "name": "stderr",
     "output_type": "stream",
     "text": [
      " 79%|███████▉  | 149/188 [32:26<08:57, 13.77s/it]"
     ]
    },
    {
     "name": "stdout",
     "output_type": "stream",
     "text": [
      "Frying dumplings in a pan.\n",
      "Frying bacon and butter on a pan.\n",
      "Blend the chopped vegetables in a food processor until finely chopped.\n",
      "Frying ground meat with vegetables in a pan.\n",
      "Mixing ingredients in a bowl.\n",
      "Mixing ingredients in a bowl for a stir-fry dish.\n",
      "Combine the ingredients in a bowl.\n",
      "Mixing ground meat with seasonings and breadcrumbs for a tender and flavorful meatloaf.\n"
     ]
    },
    {
     "name": "stderr",
     "output_type": "stream",
     "text": [
      " 80%|███████▉  | 150/188 [32:40<08:43, 13.78s/it]"
     ]
    },
    {
     "name": "stdout",
     "output_type": "stream",
     "text": [
      "Wrap the meat with bacon slices and cook for about 1 hour.\n",
      "Frying bacon on a griddle.\n",
      "Grilling bacon on a pan.\n",
      "Frying bacon on a pan.\n",
      "The chef is in the process of preparing a dish, likely a salad or a side dish, as he is seen arranging broccoli on a plate.\n",
      "Slice tomatoes and sprinkle with salt.\n",
      "Adding dressing to the salad\n",
      "Spreading sauce on pizza dough.\n"
     ]
    },
    {
     "name": "stderr",
     "output_type": "stream",
     "text": [
      " 81%|████████  | 152/188 [32:49<05:41,  9.49s/it]"
     ]
    },
    {
     "name": "stdout",
     "output_type": "stream",
     "text": [
      "Add toasted pita to cutting board.\n",
      "Toasting the rice in a pan before cooking.\n",
      "Chopped onions being sautéed in a pan.\n",
      "Add the chopped onions to the pan and sauté until translucent.\n",
      "Simmering sauce with herbs and spices.\n",
      "Simmering the sauce to meld the flavors together.\n",
      "Cooking beans and grains in a sauce.\n",
      "Simmering sauce to reduce and thicken.\n"
     ]
    },
    {
     "name": "stderr",
     "output_type": "stream",
     "text": [
      " 82%|████████▏ | 155/188 [33:01<03:44,  6.82s/it]"
     ]
    },
    {
     "name": "stdout",
     "output_type": "stream",
     "text": [
      "Adding cream to the sauce to create a smooth and creamy texture.\n",
      "Boiling water in a pot on the stove.\n",
      "Heat pot on stove to medium-high heat.\n",
      "Adding ingredients to the pot on the stove.\n",
      "Add chopped vegetables to the pot with the simmering broth.\n",
      "Heat the pot on the stove.\n",
      "Bring the pot of water to a boil on the stove.\n",
      "Mixing ingredients in a glass bowl.\n",
      "Add chopped vegetables to the pot on the stove.\n",
      "Mixing ingredients in a pot on the stove.\n",
      "Heat the pot on the stove.\n",
      "Adding the wet ingredients to the dry mixture.\n"
     ]
    },
    {
     "name": "stderr",
     "output_type": "stream",
     "text": [
      " 83%|████████▎ | 156/188 [33:15<04:22,  8.19s/it]"
     ]
    },
    {
     "name": "stdout",
     "output_type": "stream",
     "text": [
      "Baking the casserole in the oven.\n",
      "The person is stirring ingredients in a bowl, likely combining them for the next step in the recipe.\n",
      "Mixing ingredients in a bowl.\n",
      "Mixing ingredients in a bowl.\n",
      "Mixing ingredients in a bowl before cooking.\n",
      "Rolling out dough for tortillas.\n",
      "The person in the image is preparing dough, likely for making flatbreads or similar dishes, as they are rolling out the dough on a count\n",
      "The woman is shaping dough into small balls, which is likely the first step in making a type of bread or pastry.\n"
     ]
    },
    {
     "name": "stderr",
     "output_type": "stream",
     "text": [
      " 84%|████████▎ | 157/188 [33:30<04:59,  9.65s/it]"
     ]
    },
    {
     "name": "stdout",
     "output_type": "stream",
     "text": [
      "Chopping vegetables for a stir-fry.\n",
      "Adding ingredients to a pot for cooking.\n",
      "Frying food in a pan.\n",
      "The chef is in the process of stirring a sauce or mixture in a pot, likely to ensure even cooking and to prevent it from sticking to the\n",
      "Shredded cheese is being added to a bowl of cooked rice.\n",
      "Mixing batter in a bowl.\n",
      "Sprinkle grated cheese over the dish.\n",
      "Mixing ingredients in a bowl.\n"
     ]
    },
    {
     "name": "stderr",
     "output_type": "stream",
     "text": [
      " 84%|████████▍ | 158/188 [33:43<05:11, 10.38s/it]"
     ]
    },
    {
     "name": "stdout",
     "output_type": "stream",
     "text": [
      "Peeling and dicing apples for a fruit-based dish.\n",
      "Tossing chickpeas with seasoning in a pan.\n",
      "Peeling garlic cloves with a peeler.\n",
      "Mixing ingredients in a food processor.\n",
      "Blending ingredients together in a food processor.\n",
      "Blend the ingredients together in a food processor until smooth.\n",
      "Blend ingredients together in a food processor.\n",
      "Blending ingredients together in a food processor.\n"
     ]
    },
    {
     "name": "stderr",
     "output_type": "stream",
     "text": [
      " 85%|████████▌ | 160/188 [33:54<03:58,  8.51s/it]"
     ]
    },
    {
     "name": "stdout",
     "output_type": "stream",
     "text": [
      "Blend the ingredients until smooth.\n",
      "Combine the dry ingredients in one bowl and the wet ingredients in another.\n",
      "Adding oil to a pan on the stove.\n",
      "Adding a liquid ingredient to a mixture in a bowl.\n",
      "Mixing ingredients in a bowl.\n",
      "Frying food in a pan with bubbling oil.\n",
      "Sauteing chopped vegetables in a pan.\n",
      "Adding sauce to stir-fry vegetables.\n",
      "Adding sauce to simmering ingredients.\n"
     ]
    },
    {
     "name": "stderr",
     "output_type": "stream",
     "text": [
      " 86%|████████▌ | 161/188 [34:08<04:22,  9.72s/it]"
     ]
    },
    {
     "name": "stdout",
     "output_type": "stream",
     "text": [
      "Frying chicken in a pan with sauce.\n",
      "Slice a long green onion into pieces about 1 cm in length.\n",
      "Slice a long green onion into pieces about 1 cm in length.\n",
      "Wipe off the surface dirt with a paper towel.\n",
      "Slice the garlic cloves into thin pieces.\n",
      "Cutting a Chinese cabbage into proper size for easy eating.\n",
      "Cutting pork back ribs into 2-3 cm wide pieces.\n",
      "Roast pumpkin slices in a pot over medium heat.\n",
      "Add sliced mushrooms and onions to the pan with the other vegetables.\n",
      "When the broth comes to a boil again, add the ingredients absolutely and skim off the foam.\n",
      "When the broth comes to a boil again, add the ingredients absolutely and skim off the foam.\n",
      "Soup base simmering in pot for 5 minutes on low heat.\n",
      "Mix miso and add udon noodles\n",
      "Add udon noodles to the simmering broth with vegetables.\n"
     ]
    },
    {
     "name": "stderr",
     "output_type": "stream",
     "text": [
      " 86%|████████▌ | 162/188 [34:33<05:44, 13.27s/it]"
     ]
    },
    {
     "name": "stdout",
     "output_type": "stream",
     "text": [
      "Cook noodles for 2-3 minutes over a low flame.\n",
      "Whisking ingredients in a bowl.\n",
      "The person in the image is pouring a liquid, likely a sauce or a mixture, into a pot on the stove, which is a common step\n",
      "Washing and rinsing the ingredients before cooking.\n",
      "Adding a splash of oil to the pan.\n",
      "Mixing ingredients in a bowl.\n",
      "Adding fresh herbs to the cooked rice for extra flavor.\n",
      "Tossing the cooked pasta with sauce and vegetables.\n"
     ]
    },
    {
     "name": "stderr",
     "output_type": "stream",
     "text": [
      " 87%|████████▋ | 163/188 [34:46<05:34, 13.39s/it]"
     ]
    },
    {
     "name": "stdout",
     "output_type": "stream",
     "text": [
      "Tossing salad with dressing.\n",
      "Place the seasoned fish on a bamboo mat.\n",
      "Place seaweed sheet on bamboo mat.\n",
      "Prepare sushi rice and avocado for rolling.\n",
      "Rolling sushi mat with bamboo mat and rice.\n",
      "Rolling sushi with bamboo mat.\n",
      "Cutting a vegetable on a cutting board.\n",
      "Rolling out dough for sushi rolls.\n"
     ]
    },
    {
     "name": "stderr",
     "output_type": "stream",
     "text": [
      " 87%|████████▋ | 164/188 [34:58<05:10, 12.96s/it]"
     ]
    },
    {
     "name": "stdout",
     "output_type": "stream",
     "text": [
      "Rolling out dough for sushi rolls.\n",
      "Seasoning the meat before cooking.\n",
      "Mixing ingredients in a bowl.\n",
      "Adding ingredients to a jar for a homemade sauce.\n",
      "The person in the image is in the process of preparing food, likely following a recipe. They are standing at a kitchen counter with various ingredients and\n",
      "Mixing ingredients in a bowl.\n",
      "Scooping cooked pasta from pot into serving dish.\n",
      "Frying two pieces of breaded meat in a pan.\n"
     ]
    },
    {
     "name": "stderr",
     "output_type": "stream",
     "text": [
      " 88%|████████▊ | 165/188 [35:12<05:00, 13.08s/it]"
     ]
    },
    {
     "name": "stdout",
     "output_type": "stream",
     "text": [
      "Mix ingredients in a bowl.\n",
      "Mixing ingredients in a stand mixer with a paddle attachment.\n",
      "Place the pizza dough into the preheated oven.\n",
      "Adding cheese to the meat mixture.\n",
      "Frying food on a hot pan.\n",
      "The image shows a person cooking, likely in the process of searing or sautéing food in a pan. The cooking step could be\n",
      "Grilling a marinated steak.\n",
      "Plating the dish: Carefully arrange the cooked ingredients on the plate, ensuring an appealing presentation.\n",
      "Slice the bread for your sandwich.\n",
      "Holding two slices of bread, ready to be toasted or used as a base for the next step in the recipe.\n"
     ]
    },
    {
     "name": "stderr",
     "output_type": "stream",
     "text": [
      " 89%|████████▉ | 167/188 [35:29<03:54, 11.16s/it]"
     ]
    },
    {
     "name": "stdout",
     "output_type": "stream",
     "text": [
      "Add the chopped onions to the pan and sauté until translucent.\n",
      "Chopped onions being sautéed in a pan.\n",
      "Chopping onions for cooking.\n",
      "Crumb the bread for meatloaf mixture.\n",
      "Pour whisked eggs over bread cubes to soak.\n",
      "Mixing the ground meat with the seasoned rice.\n",
      "Forming ground meat into patties for grilling.\n",
      "Mixing the ground meat with the marinara sauce.\n"
     ]
    },
    {
     "name": "stderr",
     "output_type": "stream",
     "text": [
      " 89%|████████▉ | 168/188 [35:43<03:54, 11.73s/it]"
     ]
    },
    {
     "name": "stdout",
     "output_type": "stream",
     "text": [
      "Mixing ingredients for meatloaf with a spatula.\n",
      "Add the chopped vegetables to the pan.\n",
      "Rinse the noodles under cold water to stop the cooking process and remove any excess starch.\n",
      "Chopping vegetables on a cutting board.\n",
      "Adding oil to a hot pan.\n",
      "Frying ingredients in a wok.\n",
      "Chopping vegetables on a cutting board.\n",
      "Adding chopped vegetables to the pan for sautéing.\n",
      "The person in the image is stirring food in a pan, likely to ensure even cooking and to prevent sticking or burning.\n",
      "The image shows a person in a kitchen, holding a wok with a wooden spatula, and appears to be in the process of cooking.\n",
      "Strain the pasta through a colander and toss with the sauce.\n",
      "Add sliced mushrooms to the pan with the shrimp and vegetables.\n",
      "Add sauce to stir-fry in wok.\n",
      "Adding shrimp to stir-fry in a wok.\n"
     ]
    },
    {
     "name": "stderr",
     "output_type": "stream",
     "text": [
      " 90%|████████▉ | 169/188 [36:08<04:47, 15.16s/it]"
     ]
    },
    {
     "name": "stdout",
     "output_type": "stream",
     "text": [
      "Tossing pasta in sauce to coat evenly.\n",
      "Frying eggs sunny side up.\n",
      "Chop the vegetables and prepare the ingredients for the next step.\n",
      "Adding flour to the egg mixture to create a roux.\n",
      "Pouring batter into a hot skillet to make a pancake.\n",
      "Fold the cooked egg mixture onto itself to create a layered effect.\n",
      "Add the chopped vegetables to the pan and sauté until they are tender.\n",
      "Frying an egg sunny side up.\n"
     ]
    },
    {
     "name": "stderr",
     "output_type": "stream",
     "text": [
      " 90%|█████████ | 170/188 [36:21<04:23, 14.67s/it]"
     ]
    },
    {
     "name": "stdout",
     "output_type": "stream",
     "text": [
      "Frying eggs sunny side up.\n",
      "Add the chopped vegetables to the pan and stir to coat with the oil.\n",
      "Adding spices to the pot, stirring to coat the ingredients evenly.\n",
      "Adding onions to a pan.\n",
      "The person in the image is in the process of preparing a dish, likely following a recipe. They are holding a piece of food, possibly a\n",
      "Add the chopped onions to the pan and sauté until translucent.\n",
      "Lift the lid off the pot to check on the cooking progress.\n",
      "Mashing avocado with a spoon.\n",
      "The person in the image is stirring a pot of food, likely combining ingredients or ensuring even cooking.\n"
     ]
    },
    {
     "name": "stderr",
     "output_type": "stream",
     "text": [
      " 91%|█████████ | 171/188 [36:37<04:16, 15.09s/it]"
     ]
    },
    {
     "name": "stdout",
     "output_type": "stream",
     "text": [
      "Assemble the taco with the toppings of your choice.\n",
      "Soaking rice in water before cooking.\n",
      "Drain canned tuna and mix with mayonnaise and lemon juice.\n",
      "Frying the fish with a light coating of flour.\n",
      "Add dollop of whipped cream to the dessert.\n",
      "Adding a dollop of mustard to the mixture.\n",
      "Mixing ingredients in a bowl.\n",
      "Adding oil to a mixture.\n",
      "Mixing ingredients in a bowl.\n",
      "Mixing ingredients in a bowl.\n",
      "Chopped lettuce ready for a salad.\n",
      "Toss the chopped lettuce with the dressing to evenly coat the leaves.\n",
      "Toss the salad with the dressing to evenly coat the greens.\n"
     ]
    },
    {
     "name": "stderr",
     "output_type": "stream",
     "text": [
      " 91%|█████████▏| 172/188 [36:58<04:25, 16.60s/it]"
     ]
    },
    {
     "name": "stdout",
     "output_type": "stream",
     "text": [
      "Toss the lettuce with the dressing to evenly coat the leaves.\n",
      "Place the prepared dough on a floured surface.\n",
      "Making sushi rolls: Pressing rice onto a sheet of nori.\n",
      "Spread mayonnaise on the sushi roll.\n",
      "Slice avocado and place on top of sushi roll.\n",
      "Mixing ingredients in a bowl.\n",
      "Dice the orange bell pepper into small pieces.\n",
      "Place the ingredients on the cling film for easy cleaning.\n"
     ]
    },
    {
     "name": "stderr",
     "output_type": "stream",
     "text": [
      " 92%|█████████▏| 173/188 [37:09<03:46, 15.10s/it]"
     ]
    },
    {
     "name": "stdout",
     "output_type": "stream",
     "text": [
      "Spread the rice evenly on the nori sheet.\n",
      "Blending ingredients in a blender.\n",
      "Add 3 tbsp of the seed mix into the meat.\n",
      "Adding sauce to cooked meat.\n",
      "Adding sliced scallions to a dish.\n",
      "Chopped onions and green onions added to the ground beef mixture.\n",
      "Adding oil to a hot pan.\n",
      "Adding sliced onions to the pan with beef.\n"
     ]
    },
    {
     "name": "stderr",
     "output_type": "stream",
     "text": [
      " 93%|█████████▎| 174/188 [37:22<03:22, 14.44s/it]"
     ]
    },
    {
     "name": "stdout",
     "output_type": "stream",
     "text": [
      "The image shows a person cooking on a stovetop, stirring a pan of food with a spatula. The text \"SON WITH BL\n",
      "Chopping vegetables on a cutting board.\n",
      "Mixing the green sauce into the bowl of ingredients.\n",
      "The person in the image appears to be in the process of preparing a dish, possibly a salad or a dish that involves chopping vegetables. They\n",
      "The woman is stirring a mixture in a pan, likely combining ingredients or cooking them together.\n",
      "Stirring the ingredients in the pan to ensure even cooking and to prevent sticking.\n",
      "Rice being transferred from a colander to a bowl.\n",
      "The person in the image is in the process of cooking, likely preparing a dish that involves mixing ingredients. They are using a spoon to stir or\n",
      "The woman is in the process of adding ingredients to a bowl, likely preparing a mixture for cooking.\n",
      "Mixing ingredients in a bowl.\n"
     ]
    },
    {
     "name": "stderr",
     "output_type": "stream",
     "text": [
      " 93%|█████████▎| 175/188 [37:37<03:11, 14.71s/it]"
     ]
    },
    {
     "name": "stdout",
     "output_type": "stream",
     "text": [
      "The woman is sprinkling a spice or ingredient onto a dish in a bowl, likely adding flavor to the food she is preparing.\n",
      "Chopping raw meat on a cutting board.\n",
      "Add chopped vegetables to the bowl.\n",
      "Add chopped vegetables to the bowl.\n",
      "Chopping garlic cloves on a cutting board.\n",
      "Prepare ingredients: chop cucumbers, shell nuts, and slice ginger.\n",
      "Adding spices to a hot pan.\n",
      "Frying dumplings in a pan.\n",
      "Frying chicken in a pan.\n",
      "Adding beans to stir-fry.\n"
     ]
    },
    {
     "name": "stderr",
     "output_type": "stream",
     "text": [
      " 94%|█████████▎| 176/188 [37:51<02:52, 14.34s/it]"
     ]
    },
    {
     "name": "stdout",
     "output_type": "stream",
     "text": [
      "Stir-frying vegetables in a wok.\n",
      "Mixing ingredients in a bowl.\n",
      "Mixing ingredients in a bowl.\n",
      "Add ingredients to the mixing bowl.\n",
      "Adding ingredients to a pot.\n",
      "The person in the image is in the process of preparing a dish, likely following a recipe. They are using a whisk to mix ingredients in a\n",
      "Adding milk to pasta.\n",
      "Mixing ingredients in a bowl.\n"
     ]
    },
    {
     "name": "stderr",
     "output_type": "stream",
     "text": [
      " 94%|█████████▍| 177/188 [37:59<02:18, 12.62s/it]"
     ]
    },
    {
     "name": "stdout",
     "output_type": "stream",
     "text": [
      "Adding liquid to the dish.\n",
      "The person in the image is stirring a pan with a spoon, likely cooking ingredients in a wok or frying pan. This step is often\n",
      "The person in the image appears to be in the process of cooking, possibly stirring or mixing ingredients in a pan or pot. They are standing in\n",
      "Adding sauce to stir-fry ingredients.\n",
      "The person in the image is stirring food in a pan, likely sautéing or cooking through a process that requires constant stirring to ensure even\n",
      "Add cooked rice to the pan with stir-fried vegetables.\n",
      "Adding sauce to stir-fry ingredients.\n",
      "Frying an egg over a bed of stir-fried vegetables.\n"
     ]
    },
    {
     "name": "stderr",
     "output_type": "stream",
     "text": [
      " 95%|█████████▍| 178/188 [38:15<02:13, 13.39s/it]"
     ]
    },
    {
     "name": "stdout",
     "output_type": "stream",
     "text": [
      "Tossing shredded cabbage in a hot wok with a spatula.\n",
      "Stirring ingredients in a pan.\n",
      "Rolling out dough on a floured surface.\n",
      "Pour batter into the prepared muffin tin.\n",
      "Mix ingredients until well combined.\n",
      "Place the prepared ingredients in the refrigerator to chill.\n",
      "Add the chopped vegetables to the pan.\n",
      "Adding ingredients to a pot on the stove.\n"
     ]
    },
    {
     "name": "stderr",
     "output_type": "stream",
     "text": [
      " 96%|█████████▌| 180/188 [38:23<01:14,  9.27s/it]"
     ]
    },
    {
     "name": "stdout",
     "output_type": "stream",
     "text": [
      "Place the prepared ingredients in the refrigerator to chill.\n",
      "Mixing dry ingredients in a bowl.\n",
      "Adding liquid to dry ingredients.\n",
      "Adding nuts to the mixture.\n",
      "Sauteing chopped vegetables in a pan.\n",
      "Mixing ingredients in a bowl.\n",
      "Rolling out dough for a flatbread or pastry.\n",
      "Rolling out the dough for the pastry.\n",
      "Holding a small, round, golden-brown pastry filled with a mixture of vegetables and spices, ready to be served or enjoyed.\n",
      "Rolling out dough for a flatbread or pizza.\n"
     ]
    },
    {
     "name": "stderr",
     "output_type": "stream",
     "text": [
      " 96%|█████████▋| 181/188 [38:40<01:16, 10.99s/it]"
     ]
    },
    {
     "name": "stdout",
     "output_type": "stream",
     "text": [
      "Frying ingredients in a hot pan.\n",
      "Washing vegetables in a colander under running water.\n",
      "Chopping onions on a cutting board.\n",
      "Chopped vegetables ready for cooking.\n",
      "Adding the batter to the hot pan to create a pancake.\n",
      "Chopped vegetables ready to be sautéed in a pan.\n",
      "Measure and add liquid to pot.\n",
      "Chopping vegetables on a cutting board.\n",
      "Stirring the ingredients in the pot to ensure even cooking and to prevent sticking.\n",
      "Adding heavy cream to a sauce or dish.\n",
      "Sauteing chopped onions in a pan.\n",
      "Place the pan on the stove and turn the heat to medium-high.\n"
     ]
    },
    {
     "name": "stderr",
     "output_type": "stream",
     "text": [
      " 97%|█████████▋| 182/188 [38:59<01:19, 13.26s/it]"
     ]
    },
    {
     "name": "stdout",
     "output_type": "stream",
     "text": [
      "Mixing ingredients in a pot.\n",
      "Sprinkle the mixture with flour and season with salt and pepper.\n",
      "Stirring the ingredients in the pot to ensure even cooking and to prevent sticking.\n",
      "Adding a splash of water to the pan to deglaze and release the flavors from the cooked ingredients.\n",
      "Fry the breaded chicken pieces until golden brown and cooked through.\n",
      "Add a small amount of oil to the pan and heat it up.\n",
      "Stirring the ingredients in a hot pan to ensure even cooking and to prevent sticking.\n",
      "Stirring the ingredients in a hot pan to ensure even cooking and to prevent sticking.\n"
     ]
    },
    {
     "name": "stderr",
     "output_type": "stream",
     "text": [
      " 97%|█████████▋| 183/188 [39:16<01:10, 14.10s/it]"
     ]
    },
    {
     "name": "stdout",
     "output_type": "stream",
     "text": [
      "Tossing the chicken in a wok with sauce and sesame seeds.\n",
      "Soaking chickpeas in water.\n",
      "Adding chopped ingredients to the pot.\n",
      "The chef is in the process of adding ingredients to a pot, likely preparing a dish that requires a combination of flavors.\n",
      "Adding spices to the sauce.\n",
      "The chef is pouring a liquid, likely a sauce or a mixture, into a pan or pot containing food, which is a common step in cooking\n",
      "The chef is demonstrating the process of stirring or mixing ingredients in a pot, likely during the cooking process of a dish.\n",
      "The chef is in the process of stirring the contents of a pan, likely to ensure even cooking and to prevent sticking or burning.\n"
     ]
    },
    {
     "name": "stderr",
     "output_type": "stream",
     "text": [
      " 98%|█████████▊| 184/188 [39:28<00:54, 13.63s/it]"
     ]
    },
    {
     "name": "stdout",
     "output_type": "stream",
     "text": [
      "The image shows a person's hands shaping a piece of dough on a wooden surface, likely preparing it for cooking.\n",
      "Grating garlic on a microplane grater.\n",
      "Mixing dry ingredients in a bowl.\n",
      "Adding liquid to dry ingredients to create a batter.\n",
      "Mixing ingredients in a bowl.\n",
      "Prepare the rice mixture by combining the cooked rice, spices, and herbs in a large bowl.\n",
      "Frying doughnuts in hot oil.\n",
      "Adding breadcrumbs to the pan for a crispy topping.\n"
     ]
    },
    {
     "name": "stderr",
     "output_type": "stream",
     "text": [
      " 98%|█████████▊| 185/188 [39:40<00:39, 13.27s/it]"
     ]
    },
    {
     "name": "stdout",
     "output_type": "stream",
     "text": [
      "Frying food on a griddle.\n",
      "Mixing ingredients in a bowl.\n",
      "The image shows a person in a kitchen, likely in the process of preparing a dish. They are holding a piece of food, possibly a piece\n",
      "Adding ingredients to a pot for cooking.\n",
      "Mixing ingredients in a bowl.\n",
      "Roll out dough on a floured surface.\n",
      "Add the chopped onions to the pan and sauté until translucent.\n",
      "Frying food in a pan with oil.\n"
     ]
    },
    {
     "name": "stderr",
     "output_type": "stream",
     "text": [
      " 99%|█████████▉| 187/188 [39:53<00:10, 10.16s/it]"
     ]
    },
    {
     "name": "stdout",
     "output_type": "stream",
     "text": [
      "Mixing ingredients in a bowl.\n",
      "Peeling and slicing a potato.\n",
      "Add the marinated meat to the hot pan and sear on all sides.\n",
      "Frying bacon in a pan.\n",
      "Chopping green cabbage with a knife.\n",
      "Chopping onions on a cutting board.\n",
      "Frying bacon in a pan.\n",
      "Sauteing chopped onions in a pan.\n",
      "Sprinkle the seasoning evenly over the surface of the food.\n",
      "Grate the cheese into the pot.\n",
      "Rice being stirred in a pot.\n",
      "Mashing potatoes in a pot.\n",
      "Combine cooked rice, shredded cabbage, and bacon bits in a bowl.\n"
     ]
    },
    {
     "name": "stderr",
     "output_type": "stream",
     "text": [
      "100%|██████████| 188/188 [40:14<00:00, 12.84s/it]"
     ]
    },
    {
     "name": "stdout",
     "output_type": "stream",
     "text": [
      "Add cooked bacon to the mashed potatoes for added flavor and texture.\n"
     ]
    },
    {
     "name": "stderr",
     "output_type": "stream",
     "text": [
      "\n"
     ]
    }
   ],
   "source": [
    "for name, info in tqdm(long_data.items()):\n",
    "    try:\n",
    "        video_path = f\"raw_videos/{info['subset']}/{name}.mp4\"\n",
    "        video = imageio.get_reader(video_path)\n",
    "    except:\n",
    "        continue;\n",
    "\n",
    "    for i in range(len(long_data[name]['annotations'])):\n",
    "        index_segment = i\n",
    "        frame_index = np.random.randint(info['annotations'][index_segment]['segment'][0], info['annotations'][index_segment]['segment'][1]+1)\n",
    "\n",
    "        fps = video.get_meta_data()['fps']\n",
    "        frame = Image.fromarray(video.get_data(int(frame_index * fps))).convert('RGB')\n",
    "        label = generate_label(frame)\n",
    "\n",
    "        print(label)\n",
    "\n",
    "        long_data[name]['annotations'][index_segment]['sentence'] = label\n",
    "\n",
    "    \n",
    "    while len(long_data[name]['annotations']) < 8:\n",
    "        index_segment = np.random.randint(0, len(info['annotations']))\n",
    "        frame_index = np.random.randint(info['annotations'][index_segment]['segment'][0], info['annotations'][index_segment]['segment'][1]+1)\n",
    "\n",
    "        fps = video.get_meta_data()['fps']\n",
    "        frame = Image.fromarray(video.get_data(int(frame_index * fps))).convert('RGB')\n",
    "        label = generate_label(frame)\n",
    "        \n",
    "        print(label)\n",
    "\n",
    "        long_data[name]['annotations'].append({\n",
    "                                            'segment': [frame_index, frame_index],\n",
    "                                            'id': len(long_data[name]['annotations']),\n",
    "                                            'sentence': label,\n",
    "                                            })\n",
    "        "
   ]
  },
  {
   "cell_type": "code",
   "execution_count": 6,
   "metadata": {},
   "outputs": [],
   "source": [
    "long_data = {key: value for key, value in long_data.items() if len(value['annotations']) >= 8}"
   ]
  },
  {
   "cell_type": "code",
   "execution_count": 8,
   "metadata": {},
   "outputs": [],
   "source": [
    "output_path = \"./test_data_curated_and_enhanced.json\"\n",
    "with open(output_path, 'w') as file:\n",
    "    json.dump(long_data, file)"
   ]
  }
 ],
 "metadata": {
  "kernelspec": {
   "display_name": "llava_next",
   "language": "python",
   "name": "llava_next"
  },
  "language_info": {
   "codemirror_mode": {
    "name": "ipython",
    "version": 3
   },
   "file_extension": ".py",
   "mimetype": "text/x-python",
   "name": "python",
   "nbconvert_exporter": "python",
   "pygments_lexer": "ipython3",
   "version": "3.11.7"
  }
 },
 "nbformat": 4,
 "nbformat_minor": 2
}
